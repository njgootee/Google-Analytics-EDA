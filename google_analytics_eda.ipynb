{
 "cells": [
  {
   "cell_type": "markdown",
   "metadata": {},
   "source": [
    "# EDA: Google Merchandise Store 2016 Q4"
   ]
  },
  {
   "cell_type": "markdown",
   "metadata": {},
   "source": [
    "## Objective\n",
    "* Provide a holistic analysis of the Google Merchandise Store in 2016 Q4\n",
    "* Deliver insights and recommendations to improve performance and inform marketing strategy\n",
    "\n",
    "* This notebook includes:\n",
    "    * Developed user segments based on location, device preferences, engagement behavior, and traffic channels\n",
    "    * Performance analysis and targeting recommendations based on comparison of transaction and engagement KPIs between user segments\n",
    "    * Site improvement insights based on investigation of web store behavior, engagement, and site performance"
   ]
  },
  {
   "cell_type": "markdown",
   "metadata": {},
   "source": [
    "## Data Source\n",
    "[Google Analytics Sample Data](https://www.kaggle.com/datasets/bigquery/google-analytics-sample/data) of the [Google Merchandise Store](https://shop.googlemerchandisestore.com/)\n",
    "\n",
    "* [Data Dictionary](https://support.google.com/analytics/answer/3437719?hl=en)"
   ]
  },
  {
   "cell_type": "markdown",
   "metadata": {},
   "source": [
    "### Limitations\n",
    "* Sample dataset has restricted feature availability\n",
    "* Detailed information about campaign targeting for this quarter and previous quarters is unavailable, which would likely impact the dataset"
   ]
  },
  {
   "cell_type": "markdown",
   "metadata": {},
   "source": [
    "## Imports and Client Initialization"
   ]
  },
  {
   "cell_type": "code",
   "execution_count": 1,
   "metadata": {},
   "outputs": [],
   "source": [
    "# import libraries\n",
    "import pandas as pd\n",
    "import numpy as np\n",
    "import seaborn as sns\n",
    "from google.cloud import bigquery\n",
    "from scipy import stats\n",
    "import plotly.express as px"
   ]
  },
  {
   "cell_type": "code",
   "execution_count": 2,
   "metadata": {},
   "outputs": [],
   "source": [
    "# create client\n",
    "client = bigquery.Client()"
   ]
  },
  {
   "cell_type": "markdown",
   "metadata": {},
   "source": [
    "## Web Store Performance Overview"
   ]
  },
  {
   "cell_type": "code",
   "execution_count": 3,
   "metadata": {},
   "outputs": [
    {
     "data": {
      "text/html": [
       "<div>\n",
       "<style scoped>\n",
       "    .dataframe tbody tr th:only-of-type {\n",
       "        vertical-align: middle;\n",
       "    }\n",
       "\n",
       "    .dataframe tbody tr th {\n",
       "        vertical-align: top;\n",
       "    }\n",
       "\n",
       "    .dataframe thead th {\n",
       "        text-align: right;\n",
       "    }\n",
       "</style>\n",
       "<table border=\"1\" class=\"dataframe\">\n",
       "  <thead>\n",
       "    <tr style=\"text-align: right;\">\n",
       "      <th></th>\n",
       "      <th>users</th>\n",
       "      <th>new_users</th>\n",
       "      <th>new_user_perc</th>\n",
       "      <th>sessions</th>\n",
       "      <th>transactions</th>\n",
       "      <th>conversion_rate</th>\n",
       "      <th>revenue</th>\n",
       "      <th>AOV</th>\n",
       "      <th>bounce_rate</th>\n",
       "      <th>avg_pages</th>\n",
       "      <th>avg_duration</th>\n",
       "    </tr>\n",
       "  </thead>\n",
       "  <tbody>\n",
       "    <tr>\n",
       "      <th>0</th>\n",
       "      <td>241169</td>\n",
       "      <td>233829</td>\n",
       "      <td>96.956491</td>\n",
       "      <td>290602</td>\n",
       "      <td>3324</td>\n",
       "      <td>1.143832</td>\n",
       "      <td>424630.76</td>\n",
       "      <td>127.746919</td>\n",
       "      <td>50.112181</td>\n",
       "      <td>3.530206</td>\n",
       "      <td>222.056922</td>\n",
       "    </tr>\n",
       "  </tbody>\n",
       "</table>\n",
       "</div>"
      ],
      "text/plain": [
       "    users  new_users  new_user_perc  sessions  transactions  conversion_rate  \\\n",
       "0  241169     233829      96.956491    290602          3324         1.143832   \n",
       "\n",
       "     revenue         AOV  bounce_rate  avg_pages  avg_duration  \n",
       "0  424630.76  127.746919    50.112181   3.530206    222.056922  "
      ]
     },
     "execution_count": 3,
     "metadata": {},
     "output_type": "execute_result"
    }
   ],
   "source": [
    "query = \"\"\"\n",
    "    SELECT\n",
    "        users,\n",
    "        new_users,\n",
    "        new_users / users * 100 AS new_user_perc,\n",
    "        sessions,\n",
    "        transactions,\n",
    "        transactions / sessions * 100 AS conversion_rate,\n",
    "        revenue,\n",
    "        revenue / transactions AS AOV,\n",
    "        bounces / sessions * 100 AS bounce_rate,\n",
    "        avg_pages,\n",
    "        avg_duration\n",
    "    FROM(\n",
    "        SELECT \n",
    "            COUNT(DISTINCT fullVisitorId) AS users,\n",
    "            SUM(totals.newVisits) AS new_users,\n",
    "            SUM(totals.visits) as sessions,\n",
    "            SUM(totals.transactions) AS transactions,\n",
    "            SUM(totals.totaltransactionRevenue)/1000000 AS revenue,\n",
    "            SUM(totals.bounces) AS bounces,\n",
    "            AVG(totals.pageviews) AS avg_pages,\n",
    "            AVG(totals.timeOnSite) AS avg_duration\n",
    "        FROM \n",
    "            `bigquery-public-data.google_analytics_sample.ga_sessions_*`\n",
    "        WHERE\n",
    "            _TABLE_SUFFIX BETWEEN '20161001' AND '20161231'\n",
    "    )\n",
    "\"\"\"\n",
    "result = client.query(query)\n",
    "df = result.to_dataframe()\n",
    "df.head(10)"
   ]
  },
  {
   "cell_type": "markdown",
   "metadata": {},
   "source": [
    "In Q4 2016 there were ~241K users, the large majority of which (~97%) were new users. This indicates strong user growth for the store, but perhaps weakness in retaining customers.\n",
    "\n",
    "3324 transactions were completed, generating ~$425K in revenue, leading to an average order value of ~$128. The conversion rate was ~1.1% [which is about average](https://business.adobe.com/blog/basics/ecommerce-conversion-rate-benchmarks#:~:text=On%20average%2C%20ecommerce%20websites%20should,your%20business%20to%20other%20industries.), but should be a target for improvement. \n",
    "\n",
    "The bounce rate was ~50%, which is higher than the [average B2C bounce rate of 45%](https://www.fullstory.com/blog/what-is-a-good-bounce-rate/#:~:text=It%20depends%20on%20your%20industry,explore%20more%20of%20your%20website). The average number of page views was ~3.5 and the average duration of non-bounced sessions was ~220 seconds. These KPIs indicate moderate user engagement, which should be targeted for improvement in order to drive more conversions and revenue."
   ]
  },
  {
   "cell_type": "markdown",
   "metadata": {},
   "source": [
    "## User Insights\n",
    "Objective: Analyze users demographics and device preferences to identify market segments and inform future campaigns."
   ]
  },
  {
   "cell_type": "markdown",
   "metadata": {},
   "source": [
    "### Location\n",
    "Lets investigate where our users are from geographically"
   ]
  },
  {
   "cell_type": "code",
   "execution_count": 4,
   "metadata": {},
   "outputs": [
    {
     "data": {
      "text/html": [
       "<div>\n",
       "<style scoped>\n",
       "    .dataframe tbody tr th:only-of-type {\n",
       "        vertical-align: middle;\n",
       "    }\n",
       "\n",
       "    .dataframe tbody tr th {\n",
       "        vertical-align: top;\n",
       "    }\n",
       "\n",
       "    .dataframe thead th {\n",
       "        text-align: right;\n",
       "    }\n",
       "</style>\n",
       "<table border=\"1\" class=\"dataframe\">\n",
       "  <thead>\n",
       "    <tr style=\"text-align: right;\">\n",
       "      <th></th>\n",
       "      <th>country</th>\n",
       "      <th>users</th>\n",
       "      <th>new_users</th>\n",
       "      <th>new_user_perc</th>\n",
       "      <th>sessions</th>\n",
       "      <th>transactions</th>\n",
       "      <th>conversion_rate</th>\n",
       "      <th>revenue</th>\n",
       "      <th>AOV</th>\n",
       "      <th>bounce_rate</th>\n",
       "      <th>avg_duration</th>\n",
       "    </tr>\n",
       "  </thead>\n",
       "  <tbody>\n",
       "    <tr>\n",
       "      <th>0</th>\n",
       "      <td>United States</td>\n",
       "      <td>70037</td>\n",
       "      <td>64670</td>\n",
       "      <td>92.336908</td>\n",
       "      <td>99176</td>\n",
       "      <td>3160</td>\n",
       "      <td>3.186255</td>\n",
       "      <td>402571.28</td>\n",
       "      <td>127.395975</td>\n",
       "      <td>32.485682</td>\n",
       "      <td>283.015023</td>\n",
       "    </tr>\n",
       "    <tr>\n",
       "      <th>1</th>\n",
       "      <td>Vietnam</td>\n",
       "      <td>18827</td>\n",
       "      <td>18788</td>\n",
       "      <td>99.792851</td>\n",
       "      <td>19551</td>\n",
       "      <td>&lt;NA&gt;</td>\n",
       "      <td>NaN</td>\n",
       "      <td>NaN</td>\n",
       "      <td>NaN</td>\n",
       "      <td>59.372922</td>\n",
       "      <td>47.769328</td>\n",
       "    </tr>\n",
       "    <tr>\n",
       "      <th>2</th>\n",
       "      <td>India</td>\n",
       "      <td>14127</td>\n",
       "      <td>14014</td>\n",
       "      <td>99.200113</td>\n",
       "      <td>15386</td>\n",
       "      <td>3</td>\n",
       "      <td>0.019498</td>\n",
       "      <td>351.83</td>\n",
       "      <td>117.276667</td>\n",
       "      <td>55.173534</td>\n",
       "      <td>165.226074</td>\n",
       "    </tr>\n",
       "    <tr>\n",
       "      <th>3</th>\n",
       "      <td>Thailand</td>\n",
       "      <td>13926</td>\n",
       "      <td>13859</td>\n",
       "      <td>99.518886</td>\n",
       "      <td>14646</td>\n",
       "      <td>1</td>\n",
       "      <td>0.006828</td>\n",
       "      <td>152.90</td>\n",
       "      <td>152.900000</td>\n",
       "      <td>62.569985</td>\n",
       "      <td>70.922431</td>\n",
       "    </tr>\n",
       "    <tr>\n",
       "      <th>4</th>\n",
       "      <td>Turkey</td>\n",
       "      <td>9670</td>\n",
       "      <td>9570</td>\n",
       "      <td>98.965874</td>\n",
       "      <td>10228</td>\n",
       "      <td>1</td>\n",
       "      <td>0.009777</td>\n",
       "      <td>91.95</td>\n",
       "      <td>91.950000</td>\n",
       "      <td>66.797028</td>\n",
       "      <td>84.561708</td>\n",
       "    </tr>\n",
       "    <tr>\n",
       "      <th>5</th>\n",
       "      <td>Brazil</td>\n",
       "      <td>9488</td>\n",
       "      <td>9428</td>\n",
       "      <td>99.367622</td>\n",
       "      <td>10132</td>\n",
       "      <td>3</td>\n",
       "      <td>0.029609</td>\n",
       "      <td>117.35</td>\n",
       "      <td>39.116667</td>\n",
       "      <td>69.591394</td>\n",
       "      <td>137.281626</td>\n",
       "    </tr>\n",
       "    <tr>\n",
       "      <th>6</th>\n",
       "      <td>United Kingdom</td>\n",
       "      <td>8016</td>\n",
       "      <td>7819</td>\n",
       "      <td>97.542415</td>\n",
       "      <td>9318</td>\n",
       "      <td>8</td>\n",
       "      <td>0.085855</td>\n",
       "      <td>570.10</td>\n",
       "      <td>71.262500</td>\n",
       "      <td>60.399227</td>\n",
       "      <td>193.112982</td>\n",
       "    </tr>\n",
       "    <tr>\n",
       "      <th>7</th>\n",
       "      <td>Canada</td>\n",
       "      <td>5431</td>\n",
       "      <td>5168</td>\n",
       "      <td>95.157430</td>\n",
       "      <td>7411</td>\n",
       "      <td>72</td>\n",
       "      <td>0.971529</td>\n",
       "      <td>10889.01</td>\n",
       "      <td>151.236250</td>\n",
       "      <td>34.070976</td>\n",
       "      <td>297.411777</td>\n",
       "    </tr>\n",
       "    <tr>\n",
       "      <th>8</th>\n",
       "      <td>Mexico</td>\n",
       "      <td>4745</td>\n",
       "      <td>4649</td>\n",
       "      <td>97.976818</td>\n",
       "      <td>5175</td>\n",
       "      <td>8</td>\n",
       "      <td>0.154589</td>\n",
       "      <td>554.50</td>\n",
       "      <td>69.312500</td>\n",
       "      <td>62.763285</td>\n",
       "      <td>156.666667</td>\n",
       "    </tr>\n",
       "    <tr>\n",
       "      <th>9</th>\n",
       "      <td>Japan</td>\n",
       "      <td>4533</td>\n",
       "      <td>4458</td>\n",
       "      <td>98.345467</td>\n",
       "      <td>5346</td>\n",
       "      <td>3</td>\n",
       "      <td>0.056117</td>\n",
       "      <td>104.92</td>\n",
       "      <td>34.973333</td>\n",
       "      <td>56.004489</td>\n",
       "      <td>228.222506</td>\n",
       "    </tr>\n",
       "  </tbody>\n",
       "</table>\n",
       "</div>"
      ],
      "text/plain": [
       "          country  users  new_users  new_user_perc  sessions  transactions  \\\n",
       "0   United States  70037      64670      92.336908     99176          3160   \n",
       "1         Vietnam  18827      18788      99.792851     19551          <NA>   \n",
       "2           India  14127      14014      99.200113     15386             3   \n",
       "3        Thailand  13926      13859      99.518886     14646             1   \n",
       "4          Turkey   9670       9570      98.965874     10228             1   \n",
       "5          Brazil   9488       9428      99.367622     10132             3   \n",
       "6  United Kingdom   8016       7819      97.542415      9318             8   \n",
       "7          Canada   5431       5168      95.157430      7411            72   \n",
       "8          Mexico   4745       4649      97.976818      5175             8   \n",
       "9           Japan   4533       4458      98.345467      5346             3   \n",
       "\n",
       "   conversion_rate    revenue         AOV  bounce_rate  avg_duration  \n",
       "0         3.186255  402571.28  127.395975    32.485682    283.015023  \n",
       "1              NaN        NaN         NaN    59.372922     47.769328  \n",
       "2         0.019498     351.83  117.276667    55.173534    165.226074  \n",
       "3         0.006828     152.90  152.900000    62.569985     70.922431  \n",
       "4         0.009777      91.95   91.950000    66.797028     84.561708  \n",
       "5         0.029609     117.35   39.116667    69.591394    137.281626  \n",
       "6         0.085855     570.10   71.262500    60.399227    193.112982  \n",
       "7         0.971529   10889.01  151.236250    34.070976    297.411777  \n",
       "8         0.154589     554.50   69.312500    62.763285    156.666667  \n",
       "9         0.056117     104.92   34.973333    56.004489    228.222506  "
      ]
     },
     "execution_count": 4,
     "metadata": {},
     "output_type": "execute_result"
    }
   ],
   "source": [
    "query = \"\"\"\n",
    "    SELECT\n",
    "        country,\n",
    "        users,\n",
    "        new_users,\n",
    "        new_users / users * 100 AS new_user_perc,\n",
    "        sessions,\n",
    "        transactions,\n",
    "        transactions / sessions * 100 AS conversion_rate,\n",
    "        revenue,\n",
    "        revenue / transactions AS AOV,\n",
    "        bounces / sessions * 100 AS bounce_rate,\n",
    "        avg_duration\n",
    "    FROM(\n",
    "        SELECT \n",
    "            geoNetwork.country AS country,\n",
    "            COUNT(DISTINCT fullVisitorId) AS users,\n",
    "            SUM(totals.newVisits) AS new_users,\n",
    "            SUM(totals.visits) as sessions,\n",
    "            SUM(totals.transactions) AS transactions,\n",
    "            SUM(totals.totaltransactionRevenue)/1000000 AS revenue,\n",
    "            SUM(totals.bounces) AS bounces,\n",
    "            AVG(totals.timeOnSite) AS avg_duration\n",
    "        FROM \n",
    "            `bigquery-public-data.google_analytics_sample.ga_sessions_*`\n",
    "        WHERE\n",
    "            _TABLE_SUFFIX BETWEEN '20161001' AND '20161231'\n",
    "        GROUP BY\n",
    "            country\n",
    "        ORDER BY \n",
    "            users DESC\n",
    "    )\n",
    "\"\"\"\n",
    "result = client.query(query)\n",
    "df = result.to_dataframe()\n",
    "df.head(10)"
   ]
  },
  {
   "cell_type": "code",
   "execution_count": 5,
   "metadata": {},
   "outputs": [
    {
     "data": {
      "application/vnd.plotly.v1+json": {
       "config": {
        "plotlyServerURL": "https://plot.ly"
       },
       "data": [
        {
         "coloraxis": "coloraxis",
         "geo": "geo",
         "hovertemplate": "<b>%{hovertext}</b><br><br>country=%{location}<br>users=%{z}<extra></extra>",
         "hovertext": [
          "United States",
          "Vietnam",
          "India",
          "Thailand",
          "Turkey",
          "Brazil",
          "United Kingdom",
          "Canada",
          "Mexico",
          "Japan",
          "Germany",
          "Indonesia",
          "Russia",
          "Philippines",
          "France",
          "Romania",
          "Taiwan",
          "Poland",
          "Italy",
          "Australia",
          "Netherlands",
          "Spain",
          "Malaysia",
          "Peru",
          "Ukraine",
          "Singapore",
          "Ireland",
          "Argentina",
          "Israel",
          "South Korea",
          "Pakistan",
          "Sweden",
          "Hong Kong",
          "China",
          "United Arab Emirates",
          "Colombia",
          "Belgium",
          "Saudi Arabia",
          "Switzerland",
          "Greece",
          "Denmark",
          "Algeria",
          "Czechia",
          "Hungary",
          "Egypt",
          "Austria",
          "Serbia",
          "Bangladesh",
          "Morocco",
          "Bulgaria",
          "South Africa",
          "Portugal",
          "Chile",
          "Norway",
          "Tunisia",
          "Kazakhstan",
          "New Zealand",
          "Venezuela",
          "Georgia",
          "Nigeria",
          "Belarus",
          "Slovakia",
          "Ecuador",
          "(not set)",
          "Macedonia (FYROM)",
          "Jordan",
          "Bosnia & Herzegovina",
          "Azerbaijan",
          "Croatia",
          "Dominican Republic",
          "Sri Lanka",
          "Finland",
          "Albania",
          "Qatar",
          "Kosovo",
          "Slovenia",
          "Iraq",
          "Lithuania",
          "Kuwait",
          "Latvia",
          "Cambodia",
          "Lebanon",
          "Uruguay",
          "Estonia",
          "Puerto Rico",
          "Kenya",
          "Cyprus",
          "Mongolia",
          "Costa Rica",
          "Guatemala",
          "Côte d’Ivoire",
          "Oman",
          "Bahrain",
          "Ghana",
          "Panama",
          "Tanzania",
          "Bolivia",
          "Moldova",
          "El Salvador",
          "Armenia",
          "Kyrgyzstan",
          "Cameroon",
          "Nepal",
          "Luxembourg",
          "Uganda",
          "Palestine",
          "Honduras",
          "Congo - Kinshasa",
          "Yemen",
          "Senegal",
          "Réunion",
          "Macau",
          "Nicaragua",
          "Maldives",
          "Jamaica",
          "Trinidad & Tobago",
          "Laos",
          "Malta",
          "Libya",
          "Myanmar (Burma)",
          "Montenegro",
          "Paraguay",
          "Iceland",
          "Uzbekistan",
          "Mozambique",
          "Brunei",
          "Sudan",
          "Ethiopia",
          "Angola",
          "Barbados",
          "Martinique",
          "Mauritania",
          "Chad",
          "Zimbabwe",
          "Mauritius",
          "Iran",
          "Jersey",
          "Madagascar",
          "Somalia",
          "Rwanda",
          "Afghanistan",
          "Fiji",
          "Namibia",
          "Guam",
          "Gabon",
          "Benin",
          "Monaco",
          "Haiti",
          "Curaçao",
          "Andorra",
          "Burkina Faso",
          "Guinea",
          "French Guiana",
          "Guadeloupe",
          "Mali",
          "St. Lucia",
          "Grenada",
          "Burundi",
          "Togo",
          "Faroe Islands",
          "Bahamas",
          "Mayotte",
          "Zambia",
          "Cayman Islands",
          "Guernsey",
          "Turks & Caicos Islands",
          "Bermuda",
          "Belize",
          "Swaziland",
          "Syria",
          "Botswana",
          "Tajikistan",
          "Equatorial Guinea",
          "Lesotho",
          "Suriname",
          "Aruba",
          "Malawi",
          "Cape Verde",
          "Timor-Leste",
          "St. Kitts & Nevis",
          "French Polynesia",
          "Djibouti",
          "St. Vincent & Grenadines",
          "Guyana",
          "Niger",
          "U.S. Virgin Islands",
          "Gambia",
          "New Caledonia",
          "Northern Mariana Islands",
          "Central African Republic",
          "Liechtenstein",
          "Sierra Leone",
          "Gibraltar",
          "Liberia",
          "Turkmenistan",
          "Marshall Islands",
          "Comoros",
          "Dominica",
          "British Virgin Islands",
          "San Marino",
          "Bhutan",
          "Papua New Guinea",
          "Greenland",
          "Congo - Brazzaville",
          "Cook Islands",
          "Guinea-Bissau",
          "St. Pierre & Miquelon",
          "São Tomé & Príncipe"
         ],
         "locationmode": "country names",
         "locations": [
          "United States",
          "Vietnam",
          "India",
          "Thailand",
          "Turkey",
          "Brazil",
          "United Kingdom",
          "Canada",
          "Mexico",
          "Japan",
          "Germany",
          "Indonesia",
          "Russia",
          "Philippines",
          "France",
          "Romania",
          "Taiwan",
          "Poland",
          "Italy",
          "Australia",
          "Netherlands",
          "Spain",
          "Malaysia",
          "Peru",
          "Ukraine",
          "Singapore",
          "Ireland",
          "Argentina",
          "Israel",
          "South Korea",
          "Pakistan",
          "Sweden",
          "Hong Kong",
          "China",
          "United Arab Emirates",
          "Colombia",
          "Belgium",
          "Saudi Arabia",
          "Switzerland",
          "Greece",
          "Denmark",
          "Algeria",
          "Czechia",
          "Hungary",
          "Egypt",
          "Austria",
          "Serbia",
          "Bangladesh",
          "Morocco",
          "Bulgaria",
          "South Africa",
          "Portugal",
          "Chile",
          "Norway",
          "Tunisia",
          "Kazakhstan",
          "New Zealand",
          "Venezuela",
          "Georgia",
          "Nigeria",
          "Belarus",
          "Slovakia",
          "Ecuador",
          "(not set)",
          "Macedonia (FYROM)",
          "Jordan",
          "Bosnia & Herzegovina",
          "Azerbaijan",
          "Croatia",
          "Dominican Republic",
          "Sri Lanka",
          "Finland",
          "Albania",
          "Qatar",
          "Kosovo",
          "Slovenia",
          "Iraq",
          "Lithuania",
          "Kuwait",
          "Latvia",
          "Cambodia",
          "Lebanon",
          "Uruguay",
          "Estonia",
          "Puerto Rico",
          "Kenya",
          "Cyprus",
          "Mongolia",
          "Costa Rica",
          "Guatemala",
          "Côte d’Ivoire",
          "Oman",
          "Bahrain",
          "Ghana",
          "Panama",
          "Tanzania",
          "Bolivia",
          "Moldova",
          "El Salvador",
          "Armenia",
          "Kyrgyzstan",
          "Cameroon",
          "Nepal",
          "Luxembourg",
          "Uganda",
          "Palestine",
          "Honduras",
          "Congo - Kinshasa",
          "Yemen",
          "Senegal",
          "Réunion",
          "Macau",
          "Nicaragua",
          "Maldives",
          "Jamaica",
          "Trinidad & Tobago",
          "Laos",
          "Malta",
          "Libya",
          "Myanmar (Burma)",
          "Montenegro",
          "Paraguay",
          "Iceland",
          "Uzbekistan",
          "Mozambique",
          "Brunei",
          "Sudan",
          "Ethiopia",
          "Angola",
          "Barbados",
          "Martinique",
          "Mauritania",
          "Chad",
          "Zimbabwe",
          "Mauritius",
          "Iran",
          "Jersey",
          "Madagascar",
          "Somalia",
          "Rwanda",
          "Afghanistan",
          "Fiji",
          "Namibia",
          "Guam",
          "Gabon",
          "Benin",
          "Monaco",
          "Haiti",
          "Curaçao",
          "Andorra",
          "Burkina Faso",
          "Guinea",
          "French Guiana",
          "Guadeloupe",
          "Mali",
          "St. Lucia",
          "Grenada",
          "Burundi",
          "Togo",
          "Faroe Islands",
          "Bahamas",
          "Mayotte",
          "Zambia",
          "Cayman Islands",
          "Guernsey",
          "Turks & Caicos Islands",
          "Bermuda",
          "Belize",
          "Swaziland",
          "Syria",
          "Botswana",
          "Tajikistan",
          "Equatorial Guinea",
          "Lesotho",
          "Suriname",
          "Aruba",
          "Malawi",
          "Cape Verde",
          "Timor-Leste",
          "St. Kitts & Nevis",
          "French Polynesia",
          "Djibouti",
          "St. Vincent & Grenadines",
          "Guyana",
          "Niger",
          "U.S. Virgin Islands",
          "Gambia",
          "New Caledonia",
          "Northern Mariana Islands",
          "Central African Republic",
          "Liechtenstein",
          "Sierra Leone",
          "Gibraltar",
          "Liberia",
          "Turkmenistan",
          "Marshall Islands",
          "Comoros",
          "Dominica",
          "British Virgin Islands",
          "San Marino",
          "Bhutan",
          "Papua New Guinea",
          "Greenland",
          "Congo - Brazzaville",
          "Cook Islands",
          "Guinea-Bissau",
          "St. Pierre & Miquelon",
          "São Tomé & Príncipe"
         ],
         "name": "",
         "type": "choropleth",
         "z": [
          70037,
          18827,
          14127,
          13926,
          9670,
          9488,
          8016,
          5431,
          4745,
          4533,
          4366,
          3863,
          3641,
          3304,
          3283,
          3243,
          2818,
          2631,
          2599,
          2576,
          2561,
          2318,
          2237,
          1844,
          1777,
          1712,
          1591,
          1564,
          1498,
          1353,
          1246,
          1228,
          1204,
          1146,
          1066,
          1039,
          1033,
          1006,
          942,
          916,
          905,
          844,
          826,
          783,
          754,
          725,
          693,
          642,
          633,
          615,
          561,
          535,
          528,
          491,
          472,
          464,
          462,
          427,
          419,
          388,
          384,
          384,
          361,
          355,
          309,
          289,
          285,
          277,
          275,
          260,
          251,
          213,
          212,
          195,
          190,
          190,
          183,
          172,
          156,
          155,
          153,
          152,
          150,
          149,
          147,
          146,
          136,
          126,
          122,
          115,
          114,
          112,
          111,
          105,
          104,
          97,
          89,
          89,
          87,
          78,
          71,
          58,
          56,
          53,
          51,
          50,
          49,
          44,
          42,
          42,
          41,
          38,
          38,
          36,
          36,
          35,
          34,
          33,
          33,
          32,
          32,
          31,
          31,
          31,
          27,
          24,
          23,
          21,
          20,
          18,
          16,
          15,
          15,
          15,
          15,
          14,
          13,
          13,
          13,
          13,
          13,
          12,
          12,
          11,
          10,
          10,
          10,
          10,
          9,
          9,
          9,
          9,
          8,
          8,
          8,
          7,
          7,
          7,
          6,
          6,
          6,
          6,
          5,
          5,
          5,
          5,
          5,
          5,
          5,
          4,
          4,
          4,
          4,
          4,
          4,
          4,
          4,
          4,
          3,
          3,
          3,
          3,
          3,
          3,
          3,
          3,
          3,
          3,
          3,
          3,
          2,
          2,
          2,
          2,
          1,
          1,
          1,
          1,
          1,
          1,
          1,
          1,
          1,
          1,
          1,
          1,
          1,
          1
         ]
        }
       ],
       "layout": {
        "coloraxis": {
         "colorbar": {
          "title": {
           "text": "users"
          }
         },
         "colorscale": [
          [
           0,
           "#440154"
          ],
          [
           0.1111111111111111,
           "#482878"
          ],
          [
           0.2222222222222222,
           "#3e4989"
          ],
          [
           0.3333333333333333,
           "#31688e"
          ],
          [
           0.4444444444444444,
           "#26828e"
          ],
          [
           0.5555555555555556,
           "#1f9e89"
          ],
          [
           0.6666666666666666,
           "#35b779"
          ],
          [
           0.7777777777777778,
           "#6ece58"
          ],
          [
           0.8888888888888888,
           "#b5de2b"
          ],
          [
           1,
           "#fde725"
          ]
         ]
        },
        "geo": {
         "center": {},
         "domain": {
          "x": [
           0,
           1
          ],
          "y": [
           0,
           1
          ]
         }
        },
        "legend": {
         "tracegroupgap": 0
        },
        "margin": {
         "t": 60
        },
        "template": {
         "data": {
          "bar": [
           {
            "error_x": {
             "color": "#2a3f5f"
            },
            "error_y": {
             "color": "#2a3f5f"
            },
            "marker": {
             "line": {
              "color": "#E5ECF6",
              "width": 0.5
             },
             "pattern": {
              "fillmode": "overlay",
              "size": 10,
              "solidity": 0.2
             }
            },
            "type": "bar"
           }
          ],
          "barpolar": [
           {
            "marker": {
             "line": {
              "color": "#E5ECF6",
              "width": 0.5
             },
             "pattern": {
              "fillmode": "overlay",
              "size": 10,
              "solidity": 0.2
             }
            },
            "type": "barpolar"
           }
          ],
          "carpet": [
           {
            "aaxis": {
             "endlinecolor": "#2a3f5f",
             "gridcolor": "white",
             "linecolor": "white",
             "minorgridcolor": "white",
             "startlinecolor": "#2a3f5f"
            },
            "baxis": {
             "endlinecolor": "#2a3f5f",
             "gridcolor": "white",
             "linecolor": "white",
             "minorgridcolor": "white",
             "startlinecolor": "#2a3f5f"
            },
            "type": "carpet"
           }
          ],
          "choropleth": [
           {
            "colorbar": {
             "outlinewidth": 0,
             "ticks": ""
            },
            "type": "choropleth"
           }
          ],
          "contour": [
           {
            "colorbar": {
             "outlinewidth": 0,
             "ticks": ""
            },
            "colorscale": [
             [
              0,
              "#0d0887"
             ],
             [
              0.1111111111111111,
              "#46039f"
             ],
             [
              0.2222222222222222,
              "#7201a8"
             ],
             [
              0.3333333333333333,
              "#9c179e"
             ],
             [
              0.4444444444444444,
              "#bd3786"
             ],
             [
              0.5555555555555556,
              "#d8576b"
             ],
             [
              0.6666666666666666,
              "#ed7953"
             ],
             [
              0.7777777777777778,
              "#fb9f3a"
             ],
             [
              0.8888888888888888,
              "#fdca26"
             ],
             [
              1,
              "#f0f921"
             ]
            ],
            "type": "contour"
           }
          ],
          "contourcarpet": [
           {
            "colorbar": {
             "outlinewidth": 0,
             "ticks": ""
            },
            "type": "contourcarpet"
           }
          ],
          "heatmap": [
           {
            "colorbar": {
             "outlinewidth": 0,
             "ticks": ""
            },
            "colorscale": [
             [
              0,
              "#0d0887"
             ],
             [
              0.1111111111111111,
              "#46039f"
             ],
             [
              0.2222222222222222,
              "#7201a8"
             ],
             [
              0.3333333333333333,
              "#9c179e"
             ],
             [
              0.4444444444444444,
              "#bd3786"
             ],
             [
              0.5555555555555556,
              "#d8576b"
             ],
             [
              0.6666666666666666,
              "#ed7953"
             ],
             [
              0.7777777777777778,
              "#fb9f3a"
             ],
             [
              0.8888888888888888,
              "#fdca26"
             ],
             [
              1,
              "#f0f921"
             ]
            ],
            "type": "heatmap"
           }
          ],
          "heatmapgl": [
           {
            "colorbar": {
             "outlinewidth": 0,
             "ticks": ""
            },
            "colorscale": [
             [
              0,
              "#0d0887"
             ],
             [
              0.1111111111111111,
              "#46039f"
             ],
             [
              0.2222222222222222,
              "#7201a8"
             ],
             [
              0.3333333333333333,
              "#9c179e"
             ],
             [
              0.4444444444444444,
              "#bd3786"
             ],
             [
              0.5555555555555556,
              "#d8576b"
             ],
             [
              0.6666666666666666,
              "#ed7953"
             ],
             [
              0.7777777777777778,
              "#fb9f3a"
             ],
             [
              0.8888888888888888,
              "#fdca26"
             ],
             [
              1,
              "#f0f921"
             ]
            ],
            "type": "heatmapgl"
           }
          ],
          "histogram": [
           {
            "marker": {
             "pattern": {
              "fillmode": "overlay",
              "size": 10,
              "solidity": 0.2
             }
            },
            "type": "histogram"
           }
          ],
          "histogram2d": [
           {
            "colorbar": {
             "outlinewidth": 0,
             "ticks": ""
            },
            "colorscale": [
             [
              0,
              "#0d0887"
             ],
             [
              0.1111111111111111,
              "#46039f"
             ],
             [
              0.2222222222222222,
              "#7201a8"
             ],
             [
              0.3333333333333333,
              "#9c179e"
             ],
             [
              0.4444444444444444,
              "#bd3786"
             ],
             [
              0.5555555555555556,
              "#d8576b"
             ],
             [
              0.6666666666666666,
              "#ed7953"
             ],
             [
              0.7777777777777778,
              "#fb9f3a"
             ],
             [
              0.8888888888888888,
              "#fdca26"
             ],
             [
              1,
              "#f0f921"
             ]
            ],
            "type": "histogram2d"
           }
          ],
          "histogram2dcontour": [
           {
            "colorbar": {
             "outlinewidth": 0,
             "ticks": ""
            },
            "colorscale": [
             [
              0,
              "#0d0887"
             ],
             [
              0.1111111111111111,
              "#46039f"
             ],
             [
              0.2222222222222222,
              "#7201a8"
             ],
             [
              0.3333333333333333,
              "#9c179e"
             ],
             [
              0.4444444444444444,
              "#bd3786"
             ],
             [
              0.5555555555555556,
              "#d8576b"
             ],
             [
              0.6666666666666666,
              "#ed7953"
             ],
             [
              0.7777777777777778,
              "#fb9f3a"
             ],
             [
              0.8888888888888888,
              "#fdca26"
             ],
             [
              1,
              "#f0f921"
             ]
            ],
            "type": "histogram2dcontour"
           }
          ],
          "mesh3d": [
           {
            "colorbar": {
             "outlinewidth": 0,
             "ticks": ""
            },
            "type": "mesh3d"
           }
          ],
          "parcoords": [
           {
            "line": {
             "colorbar": {
              "outlinewidth": 0,
              "ticks": ""
             }
            },
            "type": "parcoords"
           }
          ],
          "pie": [
           {
            "automargin": true,
            "type": "pie"
           }
          ],
          "scatter": [
           {
            "fillpattern": {
             "fillmode": "overlay",
             "size": 10,
             "solidity": 0.2
            },
            "type": "scatter"
           }
          ],
          "scatter3d": [
           {
            "line": {
             "colorbar": {
              "outlinewidth": 0,
              "ticks": ""
             }
            },
            "marker": {
             "colorbar": {
              "outlinewidth": 0,
              "ticks": ""
             }
            },
            "type": "scatter3d"
           }
          ],
          "scattercarpet": [
           {
            "marker": {
             "colorbar": {
              "outlinewidth": 0,
              "ticks": ""
             }
            },
            "type": "scattercarpet"
           }
          ],
          "scattergeo": [
           {
            "marker": {
             "colorbar": {
              "outlinewidth": 0,
              "ticks": ""
             }
            },
            "type": "scattergeo"
           }
          ],
          "scattergl": [
           {
            "marker": {
             "colorbar": {
              "outlinewidth": 0,
              "ticks": ""
             }
            },
            "type": "scattergl"
           }
          ],
          "scattermapbox": [
           {
            "marker": {
             "colorbar": {
              "outlinewidth": 0,
              "ticks": ""
             }
            },
            "type": "scattermapbox"
           }
          ],
          "scatterpolar": [
           {
            "marker": {
             "colorbar": {
              "outlinewidth": 0,
              "ticks": ""
             }
            },
            "type": "scatterpolar"
           }
          ],
          "scatterpolargl": [
           {
            "marker": {
             "colorbar": {
              "outlinewidth": 0,
              "ticks": ""
             }
            },
            "type": "scatterpolargl"
           }
          ],
          "scatterternary": [
           {
            "marker": {
             "colorbar": {
              "outlinewidth": 0,
              "ticks": ""
             }
            },
            "type": "scatterternary"
           }
          ],
          "surface": [
           {
            "colorbar": {
             "outlinewidth": 0,
             "ticks": ""
            },
            "colorscale": [
             [
              0,
              "#0d0887"
             ],
             [
              0.1111111111111111,
              "#46039f"
             ],
             [
              0.2222222222222222,
              "#7201a8"
             ],
             [
              0.3333333333333333,
              "#9c179e"
             ],
             [
              0.4444444444444444,
              "#bd3786"
             ],
             [
              0.5555555555555556,
              "#d8576b"
             ],
             [
              0.6666666666666666,
              "#ed7953"
             ],
             [
              0.7777777777777778,
              "#fb9f3a"
             ],
             [
              0.8888888888888888,
              "#fdca26"
             ],
             [
              1,
              "#f0f921"
             ]
            ],
            "type": "surface"
           }
          ],
          "table": [
           {
            "cells": {
             "fill": {
              "color": "#EBF0F8"
             },
             "line": {
              "color": "white"
             }
            },
            "header": {
             "fill": {
              "color": "#C8D4E3"
             },
             "line": {
              "color": "white"
             }
            },
            "type": "table"
           }
          ]
         },
         "layout": {
          "annotationdefaults": {
           "arrowcolor": "#2a3f5f",
           "arrowhead": 0,
           "arrowwidth": 1
          },
          "autotypenumbers": "strict",
          "coloraxis": {
           "colorbar": {
            "outlinewidth": 0,
            "ticks": ""
           }
          },
          "colorscale": {
           "diverging": [
            [
             0,
             "#8e0152"
            ],
            [
             0.1,
             "#c51b7d"
            ],
            [
             0.2,
             "#de77ae"
            ],
            [
             0.3,
             "#f1b6da"
            ],
            [
             0.4,
             "#fde0ef"
            ],
            [
             0.5,
             "#f7f7f7"
            ],
            [
             0.6,
             "#e6f5d0"
            ],
            [
             0.7,
             "#b8e186"
            ],
            [
             0.8,
             "#7fbc41"
            ],
            [
             0.9,
             "#4d9221"
            ],
            [
             1,
             "#276419"
            ]
           ],
           "sequential": [
            [
             0,
             "#0d0887"
            ],
            [
             0.1111111111111111,
             "#46039f"
            ],
            [
             0.2222222222222222,
             "#7201a8"
            ],
            [
             0.3333333333333333,
             "#9c179e"
            ],
            [
             0.4444444444444444,
             "#bd3786"
            ],
            [
             0.5555555555555556,
             "#d8576b"
            ],
            [
             0.6666666666666666,
             "#ed7953"
            ],
            [
             0.7777777777777778,
             "#fb9f3a"
            ],
            [
             0.8888888888888888,
             "#fdca26"
            ],
            [
             1,
             "#f0f921"
            ]
           ],
           "sequentialminus": [
            [
             0,
             "#0d0887"
            ],
            [
             0.1111111111111111,
             "#46039f"
            ],
            [
             0.2222222222222222,
             "#7201a8"
            ],
            [
             0.3333333333333333,
             "#9c179e"
            ],
            [
             0.4444444444444444,
             "#bd3786"
            ],
            [
             0.5555555555555556,
             "#d8576b"
            ],
            [
             0.6666666666666666,
             "#ed7953"
            ],
            [
             0.7777777777777778,
             "#fb9f3a"
            ],
            [
             0.8888888888888888,
             "#fdca26"
            ],
            [
             1,
             "#f0f921"
            ]
           ]
          },
          "colorway": [
           "#636efa",
           "#EF553B",
           "#00cc96",
           "#ab63fa",
           "#FFA15A",
           "#19d3f3",
           "#FF6692",
           "#B6E880",
           "#FF97FF",
           "#FECB52"
          ],
          "font": {
           "color": "#2a3f5f"
          },
          "geo": {
           "bgcolor": "white",
           "lakecolor": "white",
           "landcolor": "#E5ECF6",
           "showlakes": true,
           "showland": true,
           "subunitcolor": "white"
          },
          "hoverlabel": {
           "align": "left"
          },
          "hovermode": "closest",
          "mapbox": {
           "style": "light"
          },
          "paper_bgcolor": "white",
          "plot_bgcolor": "#E5ECF6",
          "polar": {
           "angularaxis": {
            "gridcolor": "white",
            "linecolor": "white",
            "ticks": ""
           },
           "bgcolor": "#E5ECF6",
           "radialaxis": {
            "gridcolor": "white",
            "linecolor": "white",
            "ticks": ""
           }
          },
          "scene": {
           "xaxis": {
            "backgroundcolor": "#E5ECF6",
            "gridcolor": "white",
            "gridwidth": 2,
            "linecolor": "white",
            "showbackground": true,
            "ticks": "",
            "zerolinecolor": "white"
           },
           "yaxis": {
            "backgroundcolor": "#E5ECF6",
            "gridcolor": "white",
            "gridwidth": 2,
            "linecolor": "white",
            "showbackground": true,
            "ticks": "",
            "zerolinecolor": "white"
           },
           "zaxis": {
            "backgroundcolor": "#E5ECF6",
            "gridcolor": "white",
            "gridwidth": 2,
            "linecolor": "white",
            "showbackground": true,
            "ticks": "",
            "zerolinecolor": "white"
           }
          },
          "shapedefaults": {
           "line": {
            "color": "#2a3f5f"
           }
          },
          "ternary": {
           "aaxis": {
            "gridcolor": "white",
            "linecolor": "white",
            "ticks": ""
           },
           "baxis": {
            "gridcolor": "white",
            "linecolor": "white",
            "ticks": ""
           },
           "bgcolor": "#E5ECF6",
           "caxis": {
            "gridcolor": "white",
            "linecolor": "white",
            "ticks": ""
           }
          },
          "title": {
           "x": 0.05
          },
          "xaxis": {
           "automargin": true,
           "gridcolor": "white",
           "linecolor": "white",
           "ticks": "",
           "title": {
            "standoff": 15
           },
           "zerolinecolor": "white",
           "zerolinewidth": 2
          },
          "yaxis": {
           "automargin": true,
           "gridcolor": "white",
           "linecolor": "white",
           "ticks": "",
           "title": {
            "standoff": 15
           },
           "zerolinecolor": "white",
           "zerolinewidth": 2
          }
         }
        }
       }
      }
     },
     "metadata": {},
     "output_type": "display_data"
    }
   ],
   "source": [
    "#visualize users with choropleth\n",
    "fig = px.choropleth(df,\n",
    "                    locations=\"country\",\n",
    "                    locationmode=\"country names\",\n",
    "                    color=\"users\",\n",
    "                    hover_name=\"country\",\n",
    "                    color_continuous_scale=\"Viridis\")\n",
    "fig.show()"
   ]
  },
  {
   "cell_type": "code",
   "execution_count": 6,
   "metadata": {},
   "outputs": [
    {
     "data": {
      "text/html": [
       "<div>\n",
       "<style scoped>\n",
       "    .dataframe tbody tr th:only-of-type {\n",
       "        vertical-align: middle;\n",
       "    }\n",
       "\n",
       "    .dataframe tbody tr th {\n",
       "        vertical-align: top;\n",
       "    }\n",
       "\n",
       "    .dataframe thead th {\n",
       "        text-align: right;\n",
       "    }\n",
       "</style>\n",
       "<table border=\"1\" class=\"dataframe\">\n",
       "  <thead>\n",
       "    <tr style=\"text-align: right;\">\n",
       "      <th></th>\n",
       "      <th>country</th>\n",
       "      <th>users</th>\n",
       "      <th>new_users</th>\n",
       "      <th>new_user_perc</th>\n",
       "      <th>sessions</th>\n",
       "      <th>transactions</th>\n",
       "      <th>conversion_rate</th>\n",
       "      <th>revenue</th>\n",
       "      <th>AOV</th>\n",
       "      <th>bounce_rate</th>\n",
       "      <th>avg_duration</th>\n",
       "    </tr>\n",
       "  </thead>\n",
       "  <tbody>\n",
       "    <tr>\n",
       "      <th>0</th>\n",
       "      <td>United States</td>\n",
       "      <td>70037</td>\n",
       "      <td>64670</td>\n",
       "      <td>92.336908</td>\n",
       "      <td>99176</td>\n",
       "      <td>3160</td>\n",
       "      <td>3.186255</td>\n",
       "      <td>402571.28</td>\n",
       "      <td>127.395975</td>\n",
       "      <td>32.485682</td>\n",
       "      <td>283.015023</td>\n",
       "    </tr>\n",
       "    <tr>\n",
       "      <th>7</th>\n",
       "      <td>Canada</td>\n",
       "      <td>5431</td>\n",
       "      <td>5168</td>\n",
       "      <td>95.157430</td>\n",
       "      <td>7411</td>\n",
       "      <td>72</td>\n",
       "      <td>0.971529</td>\n",
       "      <td>10889.01</td>\n",
       "      <td>151.236250</td>\n",
       "      <td>34.070976</td>\n",
       "      <td>297.411777</td>\n",
       "    </tr>\n",
       "    <tr>\n",
       "      <th>85</th>\n",
       "      <td>Kenya</td>\n",
       "      <td>146</td>\n",
       "      <td>144</td>\n",
       "      <td>98.630137</td>\n",
       "      <td>191</td>\n",
       "      <td>2</td>\n",
       "      <td>1.047120</td>\n",
       "      <td>3693.30</td>\n",
       "      <td>1846.650000</td>\n",
       "      <td>52.356021</td>\n",
       "      <td>245.898876</td>\n",
       "    </tr>\n",
       "    <tr>\n",
       "      <th>84</th>\n",
       "      <td>Puerto Rico</td>\n",
       "      <td>147</td>\n",
       "      <td>142</td>\n",
       "      <td>96.598639</td>\n",
       "      <td>213</td>\n",
       "      <td>5</td>\n",
       "      <td>2.347418</td>\n",
       "      <td>675.16</td>\n",
       "      <td>135.032000</td>\n",
       "      <td>34.272300</td>\n",
       "      <td>378.300000</td>\n",
       "    </tr>\n",
       "    <tr>\n",
       "      <th>6</th>\n",
       "      <td>United Kingdom</td>\n",
       "      <td>8016</td>\n",
       "      <td>7819</td>\n",
       "      <td>97.542415</td>\n",
       "      <td>9318</td>\n",
       "      <td>8</td>\n",
       "      <td>0.085855</td>\n",
       "      <td>570.10</td>\n",
       "      <td>71.262500</td>\n",
       "      <td>60.399227</td>\n",
       "      <td>193.112982</td>\n",
       "    </tr>\n",
       "    <tr>\n",
       "      <th>8</th>\n",
       "      <td>Mexico</td>\n",
       "      <td>4745</td>\n",
       "      <td>4649</td>\n",
       "      <td>97.976818</td>\n",
       "      <td>5175</td>\n",
       "      <td>8</td>\n",
       "      <td>0.154589</td>\n",
       "      <td>554.50</td>\n",
       "      <td>69.312500</td>\n",
       "      <td>62.763285</td>\n",
       "      <td>156.666667</td>\n",
       "    </tr>\n",
       "    <tr>\n",
       "      <th>28</th>\n",
       "      <td>Israel</td>\n",
       "      <td>1498</td>\n",
       "      <td>1466</td>\n",
       "      <td>97.863818</td>\n",
       "      <td>1925</td>\n",
       "      <td>2</td>\n",
       "      <td>0.103896</td>\n",
       "      <td>501.90</td>\n",
       "      <td>250.950000</td>\n",
       "      <td>54.025974</td>\n",
       "      <td>244.633787</td>\n",
       "    </tr>\n",
       "    <tr>\n",
       "      <th>11</th>\n",
       "      <td>Indonesia</td>\n",
       "      <td>3863</td>\n",
       "      <td>3842</td>\n",
       "      <td>99.456381</td>\n",
       "      <td>4085</td>\n",
       "      <td>3</td>\n",
       "      <td>0.073439</td>\n",
       "      <td>480.83</td>\n",
       "      <td>160.276667</td>\n",
       "      <td>58.751530</td>\n",
       "      <td>116.178635</td>\n",
       "    </tr>\n",
       "    <tr>\n",
       "      <th>62</th>\n",
       "      <td>Ecuador</td>\n",
       "      <td>361</td>\n",
       "      <td>350</td>\n",
       "      <td>96.952909</td>\n",
       "      <td>387</td>\n",
       "      <td>2</td>\n",
       "      <td>0.516796</td>\n",
       "      <td>474.06</td>\n",
       "      <td>237.030000</td>\n",
       "      <td>68.217054</td>\n",
       "      <td>210.349593</td>\n",
       "    </tr>\n",
       "    <tr>\n",
       "      <th>32</th>\n",
       "      <td>Hong Kong</td>\n",
       "      <td>1204</td>\n",
       "      <td>1183</td>\n",
       "      <td>98.255814</td>\n",
       "      <td>1371</td>\n",
       "      <td>2</td>\n",
       "      <td>0.145879</td>\n",
       "      <td>463.90</td>\n",
       "      <td>231.950000</td>\n",
       "      <td>52.954048</td>\n",
       "      <td>183.069876</td>\n",
       "    </tr>\n",
       "  </tbody>\n",
       "</table>\n",
       "</div>"
      ],
      "text/plain": [
       "           country  users  new_users  new_user_perc  sessions  transactions  \\\n",
       "0    United States  70037      64670      92.336908     99176          3160   \n",
       "7           Canada   5431       5168      95.157430      7411            72   \n",
       "85           Kenya    146        144      98.630137       191             2   \n",
       "84     Puerto Rico    147        142      96.598639       213             5   \n",
       "6   United Kingdom   8016       7819      97.542415      9318             8   \n",
       "8           Mexico   4745       4649      97.976818      5175             8   \n",
       "28          Israel   1498       1466      97.863818      1925             2   \n",
       "11       Indonesia   3863       3842      99.456381      4085             3   \n",
       "62         Ecuador    361        350      96.952909       387             2   \n",
       "32       Hong Kong   1204       1183      98.255814      1371             2   \n",
       "\n",
       "    conversion_rate    revenue          AOV  bounce_rate  avg_duration  \n",
       "0          3.186255  402571.28   127.395975    32.485682    283.015023  \n",
       "7          0.971529   10889.01   151.236250    34.070976    297.411777  \n",
       "85         1.047120    3693.30  1846.650000    52.356021    245.898876  \n",
       "84         2.347418     675.16   135.032000    34.272300    378.300000  \n",
       "6          0.085855     570.10    71.262500    60.399227    193.112982  \n",
       "8          0.154589     554.50    69.312500    62.763285    156.666667  \n",
       "28         0.103896     501.90   250.950000    54.025974    244.633787  \n",
       "11         0.073439     480.83   160.276667    58.751530    116.178635  \n",
       "62         0.516796     474.06   237.030000    68.217054    210.349593  \n",
       "32         0.145879     463.90   231.950000    52.954048    183.069876  "
      ]
     },
     "execution_count": 6,
     "metadata": {},
     "output_type": "execute_result"
    }
   ],
   "source": [
    "# sort by revenue\n",
    "df.sort_values(\"revenue\", ascending=False).head(10)"
   ]
  },
  {
   "cell_type": "markdown",
   "metadata": {},
   "source": [
    "United States represented the largest amount of users (~70K) and generated revenue (~$403K), and highest conversion rate (~3.2%) indicating strong performance in this market. The US also had the lowest bounce rate (~32%) and high average page views (~5.8) when compared to other Top 10 countries (by both revenue and number of users).\n",
    "\n",
    "Canada generated the second highest amount of revenue (~$11k) with a conversion rate of ~1.0% and AOV of ~$151, despite ranking 7th for total users (~5k). Canada also had a similar bounce rate (~34%) and average page views (~5.5) to the US. There's potential value in targeting Canada for future user growth. \n",
    "\n",
    "Puerto Rico could also be a target for future user growth, with a conversion rate of ~2.3% and comparable engagement statistics to the US and Canada (~34% bounce rate and ~6.4 average page views), and the highest average non-bounced session duration (~380 seconds). In Q4 2016 Puerto Rico generated 5 transactions from 147 users, representing ~$675 in revenue and an AOV of ~$135. Puerto Rico ranked 84th in terms of users and 4th in terms of revenue (although still very far behind the US). Due to a low sample size of users these indicators could be anomolous. Furthermore, Puerto Rico is a much smaller market in comparison to the United States and Canada. Nevertheless, there is potential value in further user and market research for this location.\n",
    "\n",
    "A significant amount of users were located in Vietnam (~19K), India (~14K), and Thailand (~14K). The existing user base and market size in India and SEA suggests that further market and user research could be valuable in these regions, despite poor performance in conversion rates and engagement statistics. "
   ]
  },
  {
   "cell_type": "markdown",
   "metadata": {},
   "source": [
    "### Device Analysis"
   ]
  },
  {
   "cell_type": "markdown",
   "metadata": {},
   "source": [
    "#### Device Types"
   ]
  },
  {
   "cell_type": "code",
   "execution_count": 7,
   "metadata": {},
   "outputs": [
    {
     "data": {
      "text/html": [
       "<div>\n",
       "<style scoped>\n",
       "    .dataframe tbody tr th:only-of-type {\n",
       "        vertical-align: middle;\n",
       "    }\n",
       "\n",
       "    .dataframe tbody tr th {\n",
       "        vertical-align: top;\n",
       "    }\n",
       "\n",
       "    .dataframe thead th {\n",
       "        text-align: right;\n",
       "    }\n",
       "</style>\n",
       "<table border=\"1\" class=\"dataframe\">\n",
       "  <thead>\n",
       "    <tr style=\"text-align: right;\">\n",
       "      <th></th>\n",
       "      <th>device</th>\n",
       "      <th>users</th>\n",
       "      <th>new_users</th>\n",
       "      <th>new_user_perc</th>\n",
       "      <th>sessions</th>\n",
       "      <th>transactions</th>\n",
       "      <th>conversion_rate</th>\n",
       "      <th>revenue</th>\n",
       "      <th>AOV</th>\n",
       "      <th>bounce_rate</th>\n",
       "      <th>avg_pages</th>\n",
       "      <th>avg_duration</th>\n",
       "    </tr>\n",
       "  </thead>\n",
       "  <tbody>\n",
       "    <tr>\n",
       "      <th>0</th>\n",
       "      <td>desktop</td>\n",
       "      <td>194563</td>\n",
       "      <td>188112</td>\n",
       "      <td>96.684364</td>\n",
       "      <td>231931</td>\n",
       "      <td>3012</td>\n",
       "      <td>1.298662</td>\n",
       "      <td>401401.72</td>\n",
       "      <td>133.267503</td>\n",
       "      <td>50.364979</td>\n",
       "      <td>3.491238</td>\n",
       "      <td>218.229886</td>\n",
       "    </tr>\n",
       "    <tr>\n",
       "      <th>1</th>\n",
       "      <td>mobile</td>\n",
       "      <td>40172</td>\n",
       "      <td>39439</td>\n",
       "      <td>98.175346</td>\n",
       "      <td>50619</td>\n",
       "      <td>249</td>\n",
       "      <td>0.491910</td>\n",
       "      <td>19713.52</td>\n",
       "      <td>79.170763</td>\n",
       "      <td>49.279915</td>\n",
       "      <td>3.623469</td>\n",
       "      <td>234.714074</td>\n",
       "    </tr>\n",
       "    <tr>\n",
       "      <th>2</th>\n",
       "      <td>tablet</td>\n",
       "      <td>6434</td>\n",
       "      <td>6278</td>\n",
       "      <td>97.575381</td>\n",
       "      <td>8052</td>\n",
       "      <td>63</td>\n",
       "      <td>0.782414</td>\n",
       "      <td>3515.52</td>\n",
       "      <td>55.801905</td>\n",
       "      <td>48.062593</td>\n",
       "      <td>4.066319</td>\n",
       "      <td>249.719799</td>\n",
       "    </tr>\n",
       "  </tbody>\n",
       "</table>\n",
       "</div>"
      ],
      "text/plain": [
       "    device   users  new_users  new_user_perc  sessions  transactions  \\\n",
       "0  desktop  194563     188112      96.684364    231931          3012   \n",
       "1   mobile   40172      39439      98.175346     50619           249   \n",
       "2   tablet    6434       6278      97.575381      8052            63   \n",
       "\n",
       "   conversion_rate    revenue         AOV  bounce_rate  avg_pages  \\\n",
       "0         1.298662  401401.72  133.267503    50.364979   3.491238   \n",
       "1         0.491910   19713.52   79.170763    49.279915   3.623469   \n",
       "2         0.782414    3515.52   55.801905    48.062593   4.066319   \n",
       "\n",
       "   avg_duration  \n",
       "0    218.229886  \n",
       "1    234.714074  \n",
       "2    249.719799  "
      ]
     },
     "execution_count": 7,
     "metadata": {},
     "output_type": "execute_result"
    }
   ],
   "source": [
    "query = \"\"\"\n",
    "    SELECT\n",
    "        device,\n",
    "        users,\n",
    "        new_users,\n",
    "        new_users / users * 100 AS new_user_perc,\n",
    "        sessions,\n",
    "        transactions,\n",
    "        transactions / sessions * 100 AS conversion_rate,\n",
    "        revenue,\n",
    "        revenue / transactions AS AOV,\n",
    "        bounces / sessions * 100 AS bounce_rate,\n",
    "        avg_pages,\n",
    "        avg_duration\n",
    "    FROM(\n",
    "        SELECT\n",
    "            device.deviceCategory AS device,\n",
    "            COUNT(DISTINCT fullVisitorId) AS users,\n",
    "            SUM(totals.newVisits) AS new_users,\n",
    "            SUM(totals.visits) as sessions,\n",
    "            SUM(totals.transactions) AS transactions,\n",
    "            SUM(totals.totaltransactionRevenue)/1000000 AS revenue,\n",
    "            SUM(totals.bounces) AS bounces,\n",
    "            AVG(totals.pageviews) AS avg_pages,\n",
    "            AVG(totals.timeOnSite) AS avg_duration\n",
    "        FROM\n",
    "            `bigquery-public-data.google_analytics_sample.ga_sessions_*`\n",
    "        WHERE\n",
    "            _TABLE_SUFFIX BETWEEN '20161001' AND '20161231'\n",
    "        GROUP BY\n",
    "            device\n",
    "        ORDER BY\n",
    "            users DESC\n",
    "    )\n",
    "\"\"\"\n",
    "\n",
    "result = client.query(query)\n",
    "df = result.to_dataframe()\n",
    "df.head()"
   ]
  },
  {
   "cell_type": "markdown",
   "metadata": {},
   "source": [
    "The majority of users were on desktop devices (~194k). Desktop users also represented the large majority of revenue generated (~$401k), a significantly higher converstion rate (~1.3%), and AOV ~$133. It's possible that the conversion path and payment experience is better optimized on desktop devices.\n",
    "\n",
    "The percentage of new users was similarly high (>96%) for all device types. Engagement statistics were also similar across device types (~48-50% bounce rate, ~3.5-4 average page views, ~220-250 average session duration), meaning it's unlikely there is compatability/loading/visualization issues on a specific device type."
   ]
  },
  {
   "cell_type": "markdown",
   "metadata": {},
   "source": [
    "#### Browsers"
   ]
  },
  {
   "cell_type": "code",
   "execution_count": 8,
   "metadata": {},
   "outputs": [
    {
     "data": {
      "text/html": [
       "<div>\n",
       "<style scoped>\n",
       "    .dataframe tbody tr th:only-of-type {\n",
       "        vertical-align: middle;\n",
       "    }\n",
       "\n",
       "    .dataframe tbody tr th {\n",
       "        vertical-align: top;\n",
       "    }\n",
       "\n",
       "    .dataframe thead th {\n",
       "        text-align: right;\n",
       "    }\n",
       "</style>\n",
       "<table border=\"1\" class=\"dataframe\">\n",
       "  <thead>\n",
       "    <tr style=\"text-align: right;\">\n",
       "      <th></th>\n",
       "      <th>browser</th>\n",
       "      <th>users</th>\n",
       "      <th>new_users</th>\n",
       "      <th>new_user_perc</th>\n",
       "      <th>sessions</th>\n",
       "      <th>transactions</th>\n",
       "      <th>conversion_rate</th>\n",
       "      <th>revenue</th>\n",
       "      <th>AOV</th>\n",
       "      <th>bounce_rate</th>\n",
       "      <th>avg_pages</th>\n",
       "      <th>avg_duration</th>\n",
       "    </tr>\n",
       "  </thead>\n",
       "  <tbody>\n",
       "    <tr>\n",
       "      <th>0</th>\n",
       "      <td>Chrome</td>\n",
       "      <td>147968</td>\n",
       "      <td>141483</td>\n",
       "      <td>95.617296</td>\n",
       "      <td>188100</td>\n",
       "      <td>2952</td>\n",
       "      <td>1.569378</td>\n",
       "      <td>395634.90</td>\n",
       "      <td>134.022663</td>\n",
       "      <td>47.189261</td>\n",
       "      <td>4.060491</td>\n",
       "      <td>249.464954</td>\n",
       "    </tr>\n",
       "    <tr>\n",
       "      <th>1</th>\n",
       "      <td>Safari</td>\n",
       "      <td>70494</td>\n",
       "      <td>69819</td>\n",
       "      <td>99.042472</td>\n",
       "      <td>76844</td>\n",
       "      <td>248</td>\n",
       "      <td>0.322732</td>\n",
       "      <td>19571.11</td>\n",
       "      <td>78.915766</td>\n",
       "      <td>54.847483</td>\n",
       "      <td>2.485308</td>\n",
       "      <td>141.566110</td>\n",
       "    </tr>\n",
       "    <tr>\n",
       "      <th>2</th>\n",
       "      <td>Firefox</td>\n",
       "      <td>8323</td>\n",
       "      <td>8191</td>\n",
       "      <td>98.414033</td>\n",
       "      <td>9793</td>\n",
       "      <td>55</td>\n",
       "      <td>0.561626</td>\n",
       "      <td>4557.22</td>\n",
       "      <td>82.858545</td>\n",
       "      <td>57.786174</td>\n",
       "      <td>3.015320</td>\n",
       "      <td>270.654117</td>\n",
       "    </tr>\n",
       "    <tr>\n",
       "      <th>3</th>\n",
       "      <td>Internet Explorer</td>\n",
       "      <td>4942</td>\n",
       "      <td>4885</td>\n",
       "      <td>98.846621</td>\n",
       "      <td>5414</td>\n",
       "      <td>41</td>\n",
       "      <td>0.757296</td>\n",
       "      <td>1695.32</td>\n",
       "      <td>41.349268</td>\n",
       "      <td>55.448836</td>\n",
       "      <td>2.890963</td>\n",
       "      <td>204.142976</td>\n",
       "    </tr>\n",
       "    <tr>\n",
       "      <th>4</th>\n",
       "      <td>Edge</td>\n",
       "      <td>2317</td>\n",
       "      <td>2273</td>\n",
       "      <td>98.100993</td>\n",
       "      <td>2737</td>\n",
       "      <td>20</td>\n",
       "      <td>0.730727</td>\n",
       "      <td>2953.43</td>\n",
       "      <td>147.671500</td>\n",
       "      <td>53.050786</td>\n",
       "      <td>3.240044</td>\n",
       "      <td>222.507405</td>\n",
       "    </tr>\n",
       "    <tr>\n",
       "      <th>5</th>\n",
       "      <td>Opera</td>\n",
       "      <td>1822</td>\n",
       "      <td>1816</td>\n",
       "      <td>99.670692</td>\n",
       "      <td>1942</td>\n",
       "      <td>1</td>\n",
       "      <td>0.051493</td>\n",
       "      <td>64.97</td>\n",
       "      <td>64.970000</td>\n",
       "      <td>55.303811</td>\n",
       "      <td>2.084964</td>\n",
       "      <td>230.132641</td>\n",
       "    </tr>\n",
       "    <tr>\n",
       "      <th>6</th>\n",
       "      <td>Opera Mini</td>\n",
       "      <td>1442</td>\n",
       "      <td>1438</td>\n",
       "      <td>99.722607</td>\n",
       "      <td>1497</td>\n",
       "      <td>&lt;NA&gt;</td>\n",
       "      <td>NaN</td>\n",
       "      <td>NaN</td>\n",
       "      <td>NaN</td>\n",
       "      <td>59.318637</td>\n",
       "      <td>2.219773</td>\n",
       "      <td>205.533113</td>\n",
       "    </tr>\n",
       "    <tr>\n",
       "      <th>7</th>\n",
       "      <td>Safari (in-app)</td>\n",
       "      <td>1319</td>\n",
       "      <td>1310</td>\n",
       "      <td>99.317665</td>\n",
       "      <td>1421</td>\n",
       "      <td>3</td>\n",
       "      <td>0.211119</td>\n",
       "      <td>48.92</td>\n",
       "      <td>16.306667</td>\n",
       "      <td>56.087262</td>\n",
       "      <td>2.534835</td>\n",
       "      <td>166.204180</td>\n",
       "    </tr>\n",
       "    <tr>\n",
       "      <th>8</th>\n",
       "      <td>Android Webview</td>\n",
       "      <td>673</td>\n",
       "      <td>657</td>\n",
       "      <td>97.622585</td>\n",
       "      <td>731</td>\n",
       "      <td>3</td>\n",
       "      <td>0.410397</td>\n",
       "      <td>67.90</td>\n",
       "      <td>22.633333</td>\n",
       "      <td>55.129959</td>\n",
       "      <td>2.938440</td>\n",
       "      <td>188.033742</td>\n",
       "    </tr>\n",
       "    <tr>\n",
       "      <th>9</th>\n",
       "      <td>YaBrowser</td>\n",
       "      <td>602</td>\n",
       "      <td>597</td>\n",
       "      <td>99.169435</td>\n",
       "      <td>626</td>\n",
       "      <td>&lt;NA&gt;</td>\n",
       "      <td>NaN</td>\n",
       "      <td>NaN</td>\n",
       "      <td>NaN</td>\n",
       "      <td>70.607029</td>\n",
       "      <td>1.659744</td>\n",
       "      <td>182.693989</td>\n",
       "    </tr>\n",
       "  </tbody>\n",
       "</table>\n",
       "</div>"
      ],
      "text/plain": [
       "             browser   users  new_users  new_user_perc  sessions  \\\n",
       "0             Chrome  147968     141483      95.617296    188100   \n",
       "1             Safari   70494      69819      99.042472     76844   \n",
       "2            Firefox    8323       8191      98.414033      9793   \n",
       "3  Internet Explorer    4942       4885      98.846621      5414   \n",
       "4               Edge    2317       2273      98.100993      2737   \n",
       "5              Opera    1822       1816      99.670692      1942   \n",
       "6         Opera Mini    1442       1438      99.722607      1497   \n",
       "7    Safari (in-app)    1319       1310      99.317665      1421   \n",
       "8    Android Webview     673        657      97.622585       731   \n",
       "9          YaBrowser     602        597      99.169435       626   \n",
       "\n",
       "   transactions  conversion_rate    revenue         AOV  bounce_rate  \\\n",
       "0          2952         1.569378  395634.90  134.022663    47.189261   \n",
       "1           248         0.322732   19571.11   78.915766    54.847483   \n",
       "2            55         0.561626    4557.22   82.858545    57.786174   \n",
       "3            41         0.757296    1695.32   41.349268    55.448836   \n",
       "4            20         0.730727    2953.43  147.671500    53.050786   \n",
       "5             1         0.051493      64.97   64.970000    55.303811   \n",
       "6          <NA>              NaN        NaN         NaN    59.318637   \n",
       "7             3         0.211119      48.92   16.306667    56.087262   \n",
       "8             3         0.410397      67.90   22.633333    55.129959   \n",
       "9          <NA>              NaN        NaN         NaN    70.607029   \n",
       "\n",
       "   avg_pages  avg_duration  \n",
       "0   4.060491    249.464954  \n",
       "1   2.485308    141.566110  \n",
       "2   3.015320    270.654117  \n",
       "3   2.890963    204.142976  \n",
       "4   3.240044    222.507405  \n",
       "5   2.084964    230.132641  \n",
       "6   2.219773    205.533113  \n",
       "7   2.534835    166.204180  \n",
       "8   2.938440    188.033742  \n",
       "9   1.659744    182.693989  "
      ]
     },
     "execution_count": 8,
     "metadata": {},
     "output_type": "execute_result"
    }
   ],
   "source": [
    "query = \"\"\"\n",
    "    SELECT\n",
    "        browser,\n",
    "        users,\n",
    "        new_users,\n",
    "        new_users / users * 100 AS new_user_perc,\n",
    "        sessions,\n",
    "        transactions,\n",
    "        transactions / sessions * 100 AS conversion_rate,\n",
    "        revenue,\n",
    "        revenue / transactions AS AOV,\n",
    "        bounces / sessions * 100 AS bounce_rate,\n",
    "        avg_pages,\n",
    "        avg_duration\n",
    "    FROM(\n",
    "        SELECT \n",
    "            device.Browser AS browser,\n",
    "            COUNT(DISTINCT fullVisitorId) AS users,\n",
    "            SUM(totals.newVisits) AS new_users,\n",
    "            SUM(totals.visits) as sessions,\n",
    "            SUM(totals.transactions) AS transactions,\n",
    "            SUM(totals.totaltransactionRevenue)/1000000 AS revenue,\n",
    "            SUM(totals.bounces) AS bounces,\n",
    "            AVG(totals.pageviews) AS avg_pages,\n",
    "            AVG(totals.timeOnSite) AS avg_duration\n",
    "        FROM \n",
    "            `bigquery-public-data.google_analytics_sample.ga_sessions_*`\n",
    "        WHERE\n",
    "            _TABLE_SUFFIX BETWEEN '20161001' AND '20161231'\n",
    "        GROUP BY \n",
    "            browser\n",
    "        ORDER BY \n",
    "            users DESC\n",
    "        LIMIT 10\n",
    "    )\n",
    "\"\"\"\n",
    "\n",
    "result = client.query(query)\n",
    "df = result.to_dataframe()\n",
    "df.head(10)"
   ]
  },
  {
   "cell_type": "markdown",
   "metadata": {},
   "source": [
    "Majority of users (~148K) were using Chrome as their browser. Chrome performed well across the board, with the highest conversion rate (~1.6%), highest revenue generation (~$396K), second higest AOV (~$134), lowest bounce rate (~47%),  highest average page views (~4.1), and second highest non-bounced average session duration (~250 secs). This is expected as users of Google's browser would be more engaged and more likely to purchase Google merchandise. The majority of returning users were from Chrome, with the lowest new user rate of ~96%. This further indicates high engagement and also suggests potential for repeat customers. \n",
    "\n",
    "Safari also represented a significant amount of users (~70K). Despite Safari's significant amount of users, the conversion rate (0.3%) and average session duration (~142 secs) is significantly lower when compared to other top 5 browsers by users."
   ]
  },
  {
   "cell_type": "markdown",
   "metadata": {},
   "source": [
    "#### OS"
   ]
  },
  {
   "cell_type": "code",
   "execution_count": 9,
   "metadata": {},
   "outputs": [
    {
     "data": {
      "text/html": [
       "<div>\n",
       "<style scoped>\n",
       "    .dataframe tbody tr th:only-of-type {\n",
       "        vertical-align: middle;\n",
       "    }\n",
       "\n",
       "    .dataframe tbody tr th {\n",
       "        vertical-align: top;\n",
       "    }\n",
       "\n",
       "    .dataframe thead th {\n",
       "        text-align: right;\n",
       "    }\n",
       "</style>\n",
       "<table border=\"1\" class=\"dataframe\">\n",
       "  <thead>\n",
       "    <tr style=\"text-align: right;\">\n",
       "      <th></th>\n",
       "      <th>OS</th>\n",
       "      <th>users</th>\n",
       "      <th>new_users</th>\n",
       "      <th>new_user_perc</th>\n",
       "      <th>sessions</th>\n",
       "      <th>transactions</th>\n",
       "      <th>conversion_rate</th>\n",
       "      <th>revenue</th>\n",
       "      <th>AOV</th>\n",
       "      <th>bounce_rate</th>\n",
       "      <th>avg_pages</th>\n",
       "      <th>avg_duration</th>\n",
       "    </tr>\n",
       "  </thead>\n",
       "  <tbody>\n",
       "    <tr>\n",
       "      <th>0</th>\n",
       "      <td>Windows</td>\n",
       "      <td>101261</td>\n",
       "      <td>99402</td>\n",
       "      <td>98.164150</td>\n",
       "      <td>117102</td>\n",
       "      <td>713</td>\n",
       "      <td>0.608871</td>\n",
       "      <td>99895.06</td>\n",
       "      <td>140.105273</td>\n",
       "      <td>55.981110</td>\n",
       "      <td>2.882174</td>\n",
       "      <td>210.889211</td>\n",
       "    </tr>\n",
       "    <tr>\n",
       "      <th>1</th>\n",
       "      <td>Macintosh</td>\n",
       "      <td>82194</td>\n",
       "      <td>78623</td>\n",
       "      <td>95.655401</td>\n",
       "      <td>99623</td>\n",
       "      <td>1856</td>\n",
       "      <td>1.863024</td>\n",
       "      <td>234109.73</td>\n",
       "      <td>126.136708</td>\n",
       "      <td>45.920119</td>\n",
       "      <td>3.847301</td>\n",
       "      <td>212.239099</td>\n",
       "    </tr>\n",
       "    <tr>\n",
       "      <th>2</th>\n",
       "      <td>Android</td>\n",
       "      <td>23993</td>\n",
       "      <td>23585</td>\n",
       "      <td>98.299504</td>\n",
       "      <td>30375</td>\n",
       "      <td>138</td>\n",
       "      <td>0.454321</td>\n",
       "      <td>14167.66</td>\n",
       "      <td>102.664203</td>\n",
       "      <td>50.189300</td>\n",
       "      <td>3.593105</td>\n",
       "      <td>242.366402</td>\n",
       "    </tr>\n",
       "    <tr>\n",
       "      <th>3</th>\n",
       "      <td>iOS</td>\n",
       "      <td>20715</td>\n",
       "      <td>20235</td>\n",
       "      <td>97.682839</td>\n",
       "      <td>26198</td>\n",
       "      <td>166</td>\n",
       "      <td>0.633636</td>\n",
       "      <td>8688.04</td>\n",
       "      <td>52.337590</td>\n",
       "      <td>47.202076</td>\n",
       "      <td>3.879189</td>\n",
       "      <td>230.795759</td>\n",
       "    </tr>\n",
       "    <tr>\n",
       "      <th>4</th>\n",
       "      <td>Linux</td>\n",
       "      <td>6850</td>\n",
       "      <td>6116</td>\n",
       "      <td>89.284672</td>\n",
       "      <td>8763</td>\n",
       "      <td>189</td>\n",
       "      <td>2.156796</td>\n",
       "      <td>13041.62</td>\n",
       "      <td>69.003280</td>\n",
       "      <td>37.179048</td>\n",
       "      <td>4.952756</td>\n",
       "      <td>218.555353</td>\n",
       "    </tr>\n",
       "    <tr>\n",
       "      <th>5</th>\n",
       "      <td>Chrome OS</td>\n",
       "      <td>4630</td>\n",
       "      <td>4244</td>\n",
       "      <td>91.663067</td>\n",
       "      <td>6768</td>\n",
       "      <td>262</td>\n",
       "      <td>3.871158</td>\n",
       "      <td>54728.65</td>\n",
       "      <td>208.887977</td>\n",
       "      <td>35.520095</td>\n",
       "      <td>6.922281</td>\n",
       "      <td>382.128647</td>\n",
       "    </tr>\n",
       "    <tr>\n",
       "      <th>6</th>\n",
       "      <td>(not set)</td>\n",
       "      <td>1104</td>\n",
       "      <td>1099</td>\n",
       "      <td>99.547101</td>\n",
       "      <td>1167</td>\n",
       "      <td>&lt;NA&gt;</td>\n",
       "      <td>NaN</td>\n",
       "      <td>NaN</td>\n",
       "      <td>NaN</td>\n",
       "      <td>57.069409</td>\n",
       "      <td>2.300771</td>\n",
       "      <td>224.949698</td>\n",
       "    </tr>\n",
       "    <tr>\n",
       "      <th>7</th>\n",
       "      <td>Windows Phone</td>\n",
       "      <td>318</td>\n",
       "      <td>313</td>\n",
       "      <td>98.427673</td>\n",
       "      <td>377</td>\n",
       "      <td>&lt;NA&gt;</td>\n",
       "      <td>NaN</td>\n",
       "      <td>NaN</td>\n",
       "      <td>NaN</td>\n",
       "      <td>61.007958</td>\n",
       "      <td>2.496021</td>\n",
       "      <td>209.924658</td>\n",
       "    </tr>\n",
       "    <tr>\n",
       "      <th>8</th>\n",
       "      <td>BlackBerry</td>\n",
       "      <td>68</td>\n",
       "      <td>67</td>\n",
       "      <td>98.529412</td>\n",
       "      <td>70</td>\n",
       "      <td>&lt;NA&gt;</td>\n",
       "      <td>NaN</td>\n",
       "      <td>NaN</td>\n",
       "      <td>NaN</td>\n",
       "      <td>71.428571</td>\n",
       "      <td>2.100000</td>\n",
       "      <td>210.600000</td>\n",
       "    </tr>\n",
       "    <tr>\n",
       "      <th>9</th>\n",
       "      <td>Samsung</td>\n",
       "      <td>61</td>\n",
       "      <td>61</td>\n",
       "      <td>100.000000</td>\n",
       "      <td>61</td>\n",
       "      <td>&lt;NA&gt;</td>\n",
       "      <td>NaN</td>\n",
       "      <td>NaN</td>\n",
       "      <td>NaN</td>\n",
       "      <td>63.934426</td>\n",
       "      <td>2.049180</td>\n",
       "      <td>116.428571</td>\n",
       "    </tr>\n",
       "  </tbody>\n",
       "</table>\n",
       "</div>"
      ],
      "text/plain": [
       "              OS   users  new_users  new_user_perc  sessions  transactions  \\\n",
       "0        Windows  101261      99402      98.164150    117102           713   \n",
       "1      Macintosh   82194      78623      95.655401     99623          1856   \n",
       "2        Android   23993      23585      98.299504     30375           138   \n",
       "3            iOS   20715      20235      97.682839     26198           166   \n",
       "4          Linux    6850       6116      89.284672      8763           189   \n",
       "5      Chrome OS    4630       4244      91.663067      6768           262   \n",
       "6      (not set)    1104       1099      99.547101      1167          <NA>   \n",
       "7  Windows Phone     318        313      98.427673       377          <NA>   \n",
       "8     BlackBerry      68         67      98.529412        70          <NA>   \n",
       "9        Samsung      61         61     100.000000        61          <NA>   \n",
       "\n",
       "   conversion_rate    revenue         AOV  bounce_rate  avg_pages  \\\n",
       "0         0.608871   99895.06  140.105273    55.981110   2.882174   \n",
       "1         1.863024  234109.73  126.136708    45.920119   3.847301   \n",
       "2         0.454321   14167.66  102.664203    50.189300   3.593105   \n",
       "3         0.633636    8688.04   52.337590    47.202076   3.879189   \n",
       "4         2.156796   13041.62   69.003280    37.179048   4.952756   \n",
       "5         3.871158   54728.65  208.887977    35.520095   6.922281   \n",
       "6              NaN        NaN         NaN    57.069409   2.300771   \n",
       "7              NaN        NaN         NaN    61.007958   2.496021   \n",
       "8              NaN        NaN         NaN    71.428571   2.100000   \n",
       "9              NaN        NaN         NaN    63.934426   2.049180   \n",
       "\n",
       "   avg_duration  \n",
       "0    210.889211  \n",
       "1    212.239099  \n",
       "2    242.366402  \n",
       "3    230.795759  \n",
       "4    218.555353  \n",
       "5    382.128647  \n",
       "6    224.949698  \n",
       "7    209.924658  \n",
       "8    210.600000  \n",
       "9    116.428571  "
      ]
     },
     "execution_count": 9,
     "metadata": {},
     "output_type": "execute_result"
    }
   ],
   "source": [
    "query = \"\"\"\n",
    "    SELECT\n",
    "        OS,\n",
    "        users,\n",
    "        new_users,\n",
    "        new_users / users * 100 AS new_user_perc,\n",
    "        sessions,\n",
    "        transactions,\n",
    "        transactions / sessions * 100 AS conversion_rate,\n",
    "        revenue,\n",
    "        revenue / transactions AS AOV,\n",
    "        bounces / sessions * 100 AS bounce_rate,\n",
    "        avg_pages,\n",
    "        avg_duration\n",
    "    FROM(\n",
    "        SELECT \n",
    "            device.operatingSystem AS OS,\n",
    "            COUNT(DISTINCT fullVisitorId) AS users,\n",
    "            SUM(totals.newVisits) AS new_users,\n",
    "            SUM(totals.visits) as sessions,\n",
    "            SUM(totals.transactions) AS transactions,\n",
    "            SUM(totals.totaltransactionRevenue)/1000000 AS revenue,\n",
    "            SUM(totals.bounces) AS bounces,\n",
    "            AVG(totals.pageviews) AS avg_pages,\n",
    "            AVG(totals.timeOnSite) AS avg_duration\n",
    "        FROM \n",
    "            `bigquery-public-data.google_analytics_sample.ga_sessions_*`\n",
    "        WHERE\n",
    "            _TABLE_SUFFIX BETWEEN '20161001' AND '20161231'\n",
    "        GROUP BY \n",
    "            OS\n",
    "        ORDER BY \n",
    "            users DESC\n",
    "        LIMIT 10\n",
    "    )\n",
    "\"\"\"\n",
    "\n",
    "result = client.query(query)\n",
    "df = result.to_dataframe()\n",
    "df.head(10)"
   ]
  },
  {
   "cell_type": "markdown",
   "metadata": {},
   "source": [
    "Most desktop users are on Windows (~101K) or Macintosh (~82K). Macintosh has a significantly higher conversion rate (~1.9%) compared to Windows (~0.6%). Macintosh also has a lower bounce rate (~46%) and higher average page views (~3.8) compared to windows (~56%, ~2.9).\n",
    "\n",
    "Most mobile/tablet users are on Android (~24k) or iOS(~21K). The engagement stats are similar between Android (~50% bounce rate and ~3.6 average page views) and iOS (~47% bounce rate and ~3.9 average page views). Likewise the conversion rates between iOS (~0.6%) and Android (~0.5%) are similar. Android had a much larger AOV of ~$103 compared to iOS AOV of ~$52.\n",
    "\n",
    "Chrome OS represents a small amount of users (~5K) but had the highest conversion rate (~3.9%), highest AOV (~$208), lowest bounce rate (~36%), highest average page views (~6.9), and longest average session duration (~382 secs). Similar to Chrome browser users, we expect Chrome OS users to be more engaged with and more likely to make a purchase from the Google Merchandise store."
   ]
  },
  {
   "cell_type": "markdown",
   "metadata": {},
   "source": [
    "It is interesting to see a conversion rate of ~0.3% for Safari browser and  ~1.9% for Macintosh users. Let's look at the intersection of Desktop OS and browsers to see if there is significant variations between different browsers of Macintosh and Windows users."
   ]
  },
  {
   "cell_type": "code",
   "execution_count": 10,
   "metadata": {},
   "outputs": [
    {
     "data": {
      "text/html": [
       "<div>\n",
       "<style scoped>\n",
       "    .dataframe tbody tr th:only-of-type {\n",
       "        vertical-align: middle;\n",
       "    }\n",
       "\n",
       "    .dataframe tbody tr th {\n",
       "        vertical-align: top;\n",
       "    }\n",
       "\n",
       "    .dataframe thead th {\n",
       "        text-align: right;\n",
       "    }\n",
       "</style>\n",
       "<table border=\"1\" class=\"dataframe\">\n",
       "  <thead>\n",
       "    <tr style=\"text-align: right;\">\n",
       "      <th></th>\n",
       "      <th>OS</th>\n",
       "      <th>browser</th>\n",
       "      <th>users</th>\n",
       "      <th>new_users</th>\n",
       "      <th>new_user_perc</th>\n",
       "      <th>sessions</th>\n",
       "      <th>transactions</th>\n",
       "      <th>conversion_rate</th>\n",
       "      <th>revenue</th>\n",
       "      <th>AOV</th>\n",
       "      <th>bounce_rate</th>\n",
       "      <th>avg_pages</th>\n",
       "      <th>avg_duration</th>\n",
       "    </tr>\n",
       "  </thead>\n",
       "  <tbody>\n",
       "    <tr>\n",
       "      <th>0</th>\n",
       "      <td>Windows</td>\n",
       "      <td>Chrome</td>\n",
       "      <td>85011</td>\n",
       "      <td>83338</td>\n",
       "      <td>98.032019</td>\n",
       "      <td>98889</td>\n",
       "      <td>607</td>\n",
       "      <td>0.613820</td>\n",
       "      <td>91127.31</td>\n",
       "      <td>150.127364</td>\n",
       "      <td>55.644207</td>\n",
       "      <td>2.901698</td>\n",
       "      <td>207.065468</td>\n",
       "    </tr>\n",
       "    <tr>\n",
       "      <th>1</th>\n",
       "      <td>Macintosh</td>\n",
       "      <td>Safari</td>\n",
       "      <td>52959</td>\n",
       "      <td>52675</td>\n",
       "      <td>99.463736</td>\n",
       "      <td>54732</td>\n",
       "      <td>113</td>\n",
       "      <td>0.206461</td>\n",
       "      <td>12693.56</td>\n",
       "      <td>112.332389</td>\n",
       "      <td>57.969743</td>\n",
       "      <td>1.910342</td>\n",
       "      <td>96.407618</td>\n",
       "    </tr>\n",
       "    <tr>\n",
       "      <th>2</th>\n",
       "      <td>Macintosh</td>\n",
       "      <td>Chrome</td>\n",
       "      <td>28102</td>\n",
       "      <td>24854</td>\n",
       "      <td>88.442104</td>\n",
       "      <td>43399</td>\n",
       "      <td>1734</td>\n",
       "      <td>3.995484</td>\n",
       "      <td>220950.96</td>\n",
       "      <td>127.422699</td>\n",
       "      <td>30.652780</td>\n",
       "      <td>6.290998</td>\n",
       "      <td>298.683616</td>\n",
       "    </tr>\n",
       "    <tr>\n",
       "      <th>3</th>\n",
       "      <td>Windows</td>\n",
       "      <td>Firefox</td>\n",
       "      <td>6467</td>\n",
       "      <td>6382</td>\n",
       "      <td>98.685635</td>\n",
       "      <td>7424</td>\n",
       "      <td>44</td>\n",
       "      <td>0.592672</td>\n",
       "      <td>4054.03</td>\n",
       "      <td>92.137045</td>\n",
       "      <td>59.900323</td>\n",
       "      <td>2.860973</td>\n",
       "      <td>265.477058</td>\n",
       "    </tr>\n",
       "    <tr>\n",
       "      <th>4</th>\n",
       "      <td>Linux</td>\n",
       "      <td>Chrome</td>\n",
       "      <td>5952</td>\n",
       "      <td>5246</td>\n",
       "      <td>88.138441</td>\n",
       "      <td>7747</td>\n",
       "      <td>188</td>\n",
       "      <td>2.426746</td>\n",
       "      <td>13031.63</td>\n",
       "      <td>69.317181</td>\n",
       "      <td>34.232606</td>\n",
       "      <td>5.237511</td>\n",
       "      <td>216.908376</td>\n",
       "    </tr>\n",
       "    <tr>\n",
       "      <th>5</th>\n",
       "      <td>Chrome OS</td>\n",
       "      <td>Chrome</td>\n",
       "      <td>4630</td>\n",
       "      <td>4244</td>\n",
       "      <td>91.663067</td>\n",
       "      <td>6768</td>\n",
       "      <td>262</td>\n",
       "      <td>3.871158</td>\n",
       "      <td>54728.65</td>\n",
       "      <td>208.887977</td>\n",
       "      <td>35.520095</td>\n",
       "      <td>6.922281</td>\n",
       "      <td>382.128647</td>\n",
       "    </tr>\n",
       "    <tr>\n",
       "      <th>6</th>\n",
       "      <td>Windows</td>\n",
       "      <td>Internet Explorer</td>\n",
       "      <td>4518</td>\n",
       "      <td>4470</td>\n",
       "      <td>98.937583</td>\n",
       "      <td>4935</td>\n",
       "      <td>33</td>\n",
       "      <td>0.668693</td>\n",
       "      <td>1321.98</td>\n",
       "      <td>40.060000</td>\n",
       "      <td>55.602837</td>\n",
       "      <td>2.841038</td>\n",
       "      <td>197.563387</td>\n",
       "    </tr>\n",
       "    <tr>\n",
       "      <th>7</th>\n",
       "      <td>Windows</td>\n",
       "      <td>Edge</td>\n",
       "      <td>2235</td>\n",
       "      <td>2191</td>\n",
       "      <td>98.031320</td>\n",
       "      <td>2631</td>\n",
       "      <td>20</td>\n",
       "      <td>0.760167</td>\n",
       "      <td>2953.43</td>\n",
       "      <td>147.671500</td>\n",
       "      <td>52.603573</td>\n",
       "      <td>3.274800</td>\n",
       "      <td>222.508434</td>\n",
       "    </tr>\n",
       "    <tr>\n",
       "      <th>8</th>\n",
       "      <td>Windows</td>\n",
       "      <td>Opera</td>\n",
       "      <td>1628</td>\n",
       "      <td>1628</td>\n",
       "      <td>100.000000</td>\n",
       "      <td>1729</td>\n",
       "      <td>1</td>\n",
       "      <td>0.057837</td>\n",
       "      <td>64.97</td>\n",
       "      <td>64.970000</td>\n",
       "      <td>56.159630</td>\n",
       "      <td>1.950260</td>\n",
       "      <td>237.607662</td>\n",
       "    </tr>\n",
       "    <tr>\n",
       "      <th>9</th>\n",
       "      <td>Macintosh</td>\n",
       "      <td>Firefox</td>\n",
       "      <td>1056</td>\n",
       "      <td>1022</td>\n",
       "      <td>96.780303</td>\n",
       "      <td>1410</td>\n",
       "      <td>9</td>\n",
       "      <td>0.638298</td>\n",
       "      <td>465.21</td>\n",
       "      <td>51.690000</td>\n",
       "      <td>48.156028</td>\n",
       "      <td>3.856738</td>\n",
       "      <td>305.060274</td>\n",
       "    </tr>\n",
       "  </tbody>\n",
       "</table>\n",
       "</div>"
      ],
      "text/plain": [
       "          OS            browser  users  new_users  new_user_perc  sessions  \\\n",
       "0    Windows             Chrome  85011      83338      98.032019     98889   \n",
       "1  Macintosh             Safari  52959      52675      99.463736     54732   \n",
       "2  Macintosh             Chrome  28102      24854      88.442104     43399   \n",
       "3    Windows            Firefox   6467       6382      98.685635      7424   \n",
       "4      Linux             Chrome   5952       5246      88.138441      7747   \n",
       "5  Chrome OS             Chrome   4630       4244      91.663067      6768   \n",
       "6    Windows  Internet Explorer   4518       4470      98.937583      4935   \n",
       "7    Windows               Edge   2235       2191      98.031320      2631   \n",
       "8    Windows              Opera   1628       1628     100.000000      1729   \n",
       "9  Macintosh            Firefox   1056       1022      96.780303      1410   \n",
       "\n",
       "   transactions  conversion_rate    revenue         AOV  bounce_rate  \\\n",
       "0           607         0.613820   91127.31  150.127364    55.644207   \n",
       "1           113         0.206461   12693.56  112.332389    57.969743   \n",
       "2          1734         3.995484  220950.96  127.422699    30.652780   \n",
       "3            44         0.592672    4054.03   92.137045    59.900323   \n",
       "4           188         2.426746   13031.63   69.317181    34.232606   \n",
       "5           262         3.871158   54728.65  208.887977    35.520095   \n",
       "6            33         0.668693    1321.98   40.060000    55.602837   \n",
       "7            20         0.760167    2953.43  147.671500    52.603573   \n",
       "8             1         0.057837      64.97   64.970000    56.159630   \n",
       "9             9         0.638298     465.21   51.690000    48.156028   \n",
       "\n",
       "   avg_pages  avg_duration  \n",
       "0   2.901698    207.065468  \n",
       "1   1.910342     96.407618  \n",
       "2   6.290998    298.683616  \n",
       "3   2.860973    265.477058  \n",
       "4   5.237511    216.908376  \n",
       "5   6.922281    382.128647  \n",
       "6   2.841038    197.563387  \n",
       "7   3.274800    222.508434  \n",
       "8   1.950260    237.607662  \n",
       "9   3.856738    305.060274  "
      ]
     },
     "execution_count": 10,
     "metadata": {},
     "output_type": "execute_result"
    }
   ],
   "source": [
    "query = \"\"\"\n",
    "    SELECT\n",
    "        OS,\n",
    "        browser,\n",
    "        users,\n",
    "        new_users,\n",
    "        new_users / users * 100 AS new_user_perc,\n",
    "        sessions,\n",
    "        transactions,\n",
    "        transactions / sessions * 100 AS conversion_rate,\n",
    "        revenue,\n",
    "        revenue / transactions AS AOV,\n",
    "        bounces / sessions * 100 AS bounce_rate,\n",
    "        avg_pages,\n",
    "        avg_duration\n",
    "    FROM(\n",
    "        SELECT \n",
    "            device.operatingSystem AS OS,\n",
    "            device.Browser AS browser,\n",
    "            COUNT(DISTINCT fullVisitorId) AS users,\n",
    "            SUM(totals.newVisits) AS new_users,\n",
    "            SUM(totals.visits) as sessions,\n",
    "            SUM(totals.transactions) AS transactions,\n",
    "            SUM(totals.totaltransactionRevenue)/1000000 AS revenue,\n",
    "            SUM(totals.bounces) AS bounces,\n",
    "            AVG(totals.pageviews) AS avg_pages,\n",
    "            AVG(totals.timeOnSite) AS avg_duration\n",
    "        FROM \n",
    "            `bigquery-public-data.google_analytics_sample.ga_sessions_*`\n",
    "        WHERE\n",
    "            _TABLE_SUFFIX BETWEEN '20161001' AND '20161231'\n",
    "            AND device.deviceCategory = \"desktop\"\n",
    "        GROUP BY \n",
    "            OS, browser\n",
    "        ORDER BY \n",
    "            users DESC\n",
    "        LIMIT 10\n",
    "    )\n",
    "\"\"\"\n",
    "\n",
    "result = client.query(query)\n",
    "df = result.to_dataframe()\n",
    "df.head(10)"
   ]
  },
  {
   "cell_type": "markdown",
   "metadata": {},
   "source": [
    "The leading conversion rate (~4.0%) and lowest bounce rate (~31%) was Macintosh+Chrome users. This group represented ~28k users. There were more Macintosh+Safari users (~53k), however this group had one of the lowest conversion rates (~0.2%), highest bounce rates (~58%), lowest average page views (~1.9), lowest average session duration (~100 secs).\n",
    "\n",
    "Windows users predominately used Chrome browser (~85K). There was only small variations in conversion rates and engagement statistics of different Windows+{browser} user groups. Among Windows users, Windows+Chrome had the highest AOV (~$150), followed closely by Windows+Edge(~$148).\n",
    "\n",
    "100% of Chrome OS users also used the Chrome browser. This is a known restriction of Chrome OS (until 2019). \n",
    "\n",
    "Based on this evidence, it would be more valuable to target Chrome browser users rather than users of a specific operating system."
   ]
  },
  {
   "cell_type": "markdown",
   "metadata": {},
   "source": [
    "## Behavior and Engagement Analysis\n",
    "Objective: Analyze behavior patterns and user engagement to inform store strategy and site design."
   ]
  },
  {
   "cell_type": "markdown",
   "metadata": {},
   "source": [
    "### Most viewed pages\n",
    "Rolled up to path level 1"
   ]
  },
  {
   "cell_type": "code",
   "execution_count": 11,
   "metadata": {},
   "outputs": [
    {
     "data": {
      "text/html": [
       "<div>\n",
       "<style scoped>\n",
       "    .dataframe tbody tr th:only-of-type {\n",
       "        vertical-align: middle;\n",
       "    }\n",
       "\n",
       "    .dataframe tbody tr th {\n",
       "        vertical-align: top;\n",
       "    }\n",
       "\n",
       "    .dataframe thead th {\n",
       "        text-align: right;\n",
       "    }\n",
       "</style>\n",
       "<table border=\"1\" class=\"dataframe\">\n",
       "  <thead>\n",
       "    <tr style=\"text-align: right;\">\n",
       "      <th></th>\n",
       "      <th>page_category</th>\n",
       "      <th>views</th>\n",
       "      <th>exit_rate</th>\n",
       "    </tr>\n",
       "  </thead>\n",
       "  <tbody>\n",
       "    <tr>\n",
       "      <th>0</th>\n",
       "      <td>/google+redesign/</td>\n",
       "      <td>467770</td>\n",
       "      <td>19.230391</td>\n",
       "    </tr>\n",
       "    <tr>\n",
       "      <th>1</th>\n",
       "      <td>/home</td>\n",
       "      <td>351945</td>\n",
       "      <td>45.956613</td>\n",
       "    </tr>\n",
       "    <tr>\n",
       "      <th>2</th>\n",
       "      <td>/basket.html</td>\n",
       "      <td>61682</td>\n",
       "      <td>9.959145</td>\n",
       "    </tr>\n",
       "    <tr>\n",
       "      <th>3</th>\n",
       "      <td>/signin.html</td>\n",
       "      <td>31819</td>\n",
       "      <td>37.757315</td>\n",
       "    </tr>\n",
       "    <tr>\n",
       "      <th>4</th>\n",
       "      <td>/store.html</td>\n",
       "      <td>22659</td>\n",
       "      <td>12.988217</td>\n",
       "    </tr>\n",
       "    <tr>\n",
       "      <th>5</th>\n",
       "      <td>/asearch.html</td>\n",
       "      <td>17100</td>\n",
       "      <td>30.549708</td>\n",
       "    </tr>\n",
       "    <tr>\n",
       "      <th>6</th>\n",
       "      <td>/yourinfo.html</td>\n",
       "      <td>10249</td>\n",
       "      <td>9.483852</td>\n",
       "    </tr>\n",
       "    <tr>\n",
       "      <th>7</th>\n",
       "      <td>/payment.html</td>\n",
       "      <td>9259</td>\n",
       "      <td>8.294632</td>\n",
       "    </tr>\n",
       "    <tr>\n",
       "      <th>8</th>\n",
       "      <td>/ordercompleted.html</td>\n",
       "      <td>6927</td>\n",
       "      <td>38.559261</td>\n",
       "    </tr>\n",
       "    <tr>\n",
       "      <th>9</th>\n",
       "      <td>/store-policies/</td>\n",
       "      <td>6058</td>\n",
       "      <td>39.138329</td>\n",
       "    </tr>\n",
       "  </tbody>\n",
       "</table>\n",
       "</div>"
      ],
      "text/plain": [
       "          page_category   views  exit_rate\n",
       "0     /google+redesign/  467770  19.230391\n",
       "1                 /home  351945  45.956613\n",
       "2          /basket.html   61682   9.959145\n",
       "3          /signin.html   31819  37.757315\n",
       "4           /store.html   22659  12.988217\n",
       "5         /asearch.html   17100  30.549708\n",
       "6        /yourinfo.html   10249   9.483852\n",
       "7         /payment.html    9259   8.294632\n",
       "8  /ordercompleted.html    6927  38.559261\n",
       "9      /store-policies/    6058  39.138329"
      ]
     },
     "execution_count": 11,
     "metadata": {},
     "output_type": "execute_result"
    }
   ],
   "source": [
    "query = \"\"\"\n",
    "    SELECT \n",
    "        hits.page.pagePathLevel1 AS page_category,\n",
    "        COUNT(*) AS views,\n",
    "        SUM(CAST(hits.isExit AS int))/COUNT(*) * 100 AS exit_rate\n",
    "    FROM \n",
    "        `bigquery-public-data.google_analytics_sample.ga_sessions_*`,\n",
    "        UNNEST(hits) AS hits\n",
    "    WHERE\n",
    "        _TABLE_SUFFIX BETWEEN '20161001' AND '20161231'\n",
    "    AND\n",
    "        hits.type='PAGE'\n",
    "    GROUP BY\n",
    "        page_category\n",
    "    ORDER BY\n",
    "        views DESC\n",
    "    LIMIT 10\n",
    "\"\"\"\n",
    "\n",
    "result = client.query(query)\n",
    "df = result.to_dataframe()\n",
    "df.head(10)"
   ]
  },
  {
   "cell_type": "markdown",
   "metadata": {},
   "source": [
    "General store pages (/google+redesign/ category) had the highest number of page views (~468K total), followed by the home page (~352K total). \n",
    "\n",
    "Basket, customer information, and payment pages had low exit rates (~8-10%). This suggests high intent to complete transactions for users with items in basket."
   ]
  },
  {
   "cell_type": "markdown",
   "metadata": {},
   "source": [
    "#### Store Categories"
   ]
  },
  {
   "cell_type": "code",
   "execution_count": 12,
   "metadata": {},
   "outputs": [
    {
     "data": {
      "text/html": [
       "<div>\n",
       "<style scoped>\n",
       "    .dataframe tbody tr th:only-of-type {\n",
       "        vertical-align: middle;\n",
       "    }\n",
       "\n",
       "    .dataframe tbody tr th {\n",
       "        vertical-align: top;\n",
       "    }\n",
       "\n",
       "    .dataframe thead th {\n",
       "        text-align: right;\n",
       "    }\n",
       "</style>\n",
       "<table border=\"1\" class=\"dataframe\">\n",
       "  <thead>\n",
       "    <tr style=\"text-align: right;\">\n",
       "      <th></th>\n",
       "      <th>page</th>\n",
       "      <th>views</th>\n",
       "      <th>exit_rate</th>\n",
       "    </tr>\n",
       "  </thead>\n",
       "  <tbody>\n",
       "    <tr>\n",
       "      <th>0</th>\n",
       "      <td>/apparel/</td>\n",
       "      <td>139019</td>\n",
       "      <td>19.044879</td>\n",
       "    </tr>\n",
       "    <tr>\n",
       "      <th>1</th>\n",
       "      <td>/shop+by+brand/</td>\n",
       "      <td>61609</td>\n",
       "      <td>38.637212</td>\n",
       "    </tr>\n",
       "    <tr>\n",
       "      <th>2</th>\n",
       "      <td>/bags/</td>\n",
       "      <td>53043</td>\n",
       "      <td>11.537809</td>\n",
       "    </tr>\n",
       "    <tr>\n",
       "      <th>3</th>\n",
       "      <td>/accessories/</td>\n",
       "      <td>43822</td>\n",
       "      <td>9.739400</td>\n",
       "    </tr>\n",
       "    <tr>\n",
       "      <th>4</th>\n",
       "      <td>/electronics/</td>\n",
       "      <td>38675</td>\n",
       "      <td>14.857143</td>\n",
       "    </tr>\n",
       "    <tr>\n",
       "      <th>5</th>\n",
       "      <td>/office/</td>\n",
       "      <td>30200</td>\n",
       "      <td>13.023179</td>\n",
       "    </tr>\n",
       "    <tr>\n",
       "      <th>6</th>\n",
       "      <td>/drinkware/</td>\n",
       "      <td>18031</td>\n",
       "      <td>13.720814</td>\n",
       "    </tr>\n",
       "    <tr>\n",
       "      <th>7</th>\n",
       "      <td>/apparel</td>\n",
       "      <td>17915</td>\n",
       "      <td>20.078147</td>\n",
       "    </tr>\n",
       "    <tr>\n",
       "      <th>8</th>\n",
       "      <td>/office</td>\n",
       "      <td>12496</td>\n",
       "      <td>18.717990</td>\n",
       "    </tr>\n",
       "    <tr>\n",
       "      <th>9</th>\n",
       "      <td>/electronics</td>\n",
       "      <td>12188</td>\n",
       "      <td>23.966196</td>\n",
       "    </tr>\n",
       "  </tbody>\n",
       "</table>\n",
       "</div>"
      ],
      "text/plain": [
       "              page   views  exit_rate\n",
       "0        /apparel/  139019  19.044879\n",
       "1  /shop+by+brand/   61609  38.637212\n",
       "2           /bags/   53043  11.537809\n",
       "3    /accessories/   43822   9.739400\n",
       "4    /electronics/   38675  14.857143\n",
       "5         /office/   30200  13.023179\n",
       "6      /drinkware/   18031  13.720814\n",
       "7         /apparel   17915  20.078147\n",
       "8          /office   12496  18.717990\n",
       "9     /electronics   12188  23.966196"
      ]
     },
     "execution_count": 12,
     "metadata": {},
     "output_type": "execute_result"
    }
   ],
   "source": [
    "query = \"\"\"\n",
    "    SELECT \n",
    "        hits.page.pagePathLevel2 AS page,\n",
    "        COUNT(*) AS views,\n",
    "        SUM(CAST(hits.isExit AS int))/COUNT(*) * 100 AS exit_rate\n",
    "    FROM \n",
    "        `bigquery-public-data.google_analytics_sample.ga_sessions_*`,\n",
    "        UNNEST(hits) AS hits\n",
    "    WHERE\n",
    "        _TABLE_SUFFIX BETWEEN '20161001' AND '20161231'\n",
    "    AND\n",
    "        hits.type='PAGE'\n",
    "    AND\n",
    "        hits.page.pagePathLevel1 = '/google+redesign/'\n",
    "    GROUP BY\n",
    "        page\n",
    "    ORDER BY\n",
    "        views DESC\n",
    "    LIMIT 10\n",
    "\"\"\"\n",
    "\n",
    "result = client.query(query)\n",
    "df = result.to_dataframe()\n",
    "df.head(10)"
   ]
  },
  {
   "cell_type": "markdown",
   "metadata": {},
   "source": [
    "Apparel is the most popular category of the store with ~139K views.\n",
    "\n",
    "Shop By Brand is the second most popular with ~62K views, but has a significantly higher exit rate (~39%) compared to the other top 10."
   ]
  },
  {
   "cell_type": "markdown",
   "metadata": {},
   "source": [
    "#### Shop By Brand Category\n",
    "Let's investigate the high exit rate for the \"shop by brand\" category"
   ]
  },
  {
   "cell_type": "code",
   "execution_count": 13,
   "metadata": {},
   "outputs": [
    {
     "data": {
      "text/html": [
       "<div>\n",
       "<style scoped>\n",
       "    .dataframe tbody tr th:only-of-type {\n",
       "        vertical-align: middle;\n",
       "    }\n",
       "\n",
       "    .dataframe tbody tr th {\n",
       "        vertical-align: top;\n",
       "    }\n",
       "\n",
       "    .dataframe thead th {\n",
       "        text-align: right;\n",
       "    }\n",
       "</style>\n",
       "<table border=\"1\" class=\"dataframe\">\n",
       "  <thead>\n",
       "    <tr style=\"text-align: right;\">\n",
       "      <th></th>\n",
       "      <th>page</th>\n",
       "      <th>views</th>\n",
       "      <th>exit_rate</th>\n",
       "    </tr>\n",
       "  </thead>\n",
       "  <tbody>\n",
       "    <tr>\n",
       "      <th>0</th>\n",
       "      <td>/google+redesign/shop+by+brand/youtube</td>\n",
       "      <td>34946</td>\n",
       "      <td>49.476335</td>\n",
       "    </tr>\n",
       "    <tr>\n",
       "      <th>1</th>\n",
       "      <td>/google+redesign/shop+by+brand/google</td>\n",
       "      <td>12835</td>\n",
       "      <td>27.432801</td>\n",
       "    </tr>\n",
       "    <tr>\n",
       "      <th>2</th>\n",
       "      <td>/google+redesign/shop+by+brand/android</td>\n",
       "      <td>6660</td>\n",
       "      <td>28.543544</td>\n",
       "    </tr>\n",
       "    <tr>\n",
       "      <th>3</th>\n",
       "      <td>/google+redesign/shop+by+brand/youtube/quickview</td>\n",
       "      <td>4943</td>\n",
       "      <td>15.557354</td>\n",
       "    </tr>\n",
       "    <tr>\n",
       "      <th>4</th>\n",
       "      <td>/google+redesign/shop+by+brand/google/quickview</td>\n",
       "      <td>1179</td>\n",
       "      <td>13.316370</td>\n",
       "    </tr>\n",
       "    <tr>\n",
       "      <th>5</th>\n",
       "      <td>/google+redesign/shop+by+brand/android/quickview</td>\n",
       "      <td>693</td>\n",
       "      <td>9.956710</td>\n",
       "    </tr>\n",
       "    <tr>\n",
       "      <th>6</th>\n",
       "      <td>/google+redesign/shop+by+brand/quickview</td>\n",
       "      <td>187</td>\n",
       "      <td>13.903743</td>\n",
       "    </tr>\n",
       "    <tr>\n",
       "      <th>7</th>\n",
       "      <td>/google+redesign/shop+by+brand/waze/waze+mood+...</td>\n",
       "      <td>59</td>\n",
       "      <td>47.457627</td>\n",
       "    </tr>\n",
       "    <tr>\n",
       "      <th>8</th>\n",
       "      <td>/google+redesign/shop+by+brand/waze+baby+on+bo...</td>\n",
       "      <td>50</td>\n",
       "      <td>38.000000</td>\n",
       "    </tr>\n",
       "    <tr>\n",
       "      <th>9</th>\n",
       "      <td>/google+redesign/shop+by+brand/waze+mood+happy...</td>\n",
       "      <td>30</td>\n",
       "      <td>43.333333</td>\n",
       "    </tr>\n",
       "  </tbody>\n",
       "</table>\n",
       "</div>"
      ],
      "text/plain": [
       "                                                page  views  exit_rate\n",
       "0             /google+redesign/shop+by+brand/youtube  34946  49.476335\n",
       "1              /google+redesign/shop+by+brand/google  12835  27.432801\n",
       "2             /google+redesign/shop+by+brand/android   6660  28.543544\n",
       "3   /google+redesign/shop+by+brand/youtube/quickview   4943  15.557354\n",
       "4    /google+redesign/shop+by+brand/google/quickview   1179  13.316370\n",
       "5   /google+redesign/shop+by+brand/android/quickview    693   9.956710\n",
       "6           /google+redesign/shop+by+brand/quickview    187  13.903743\n",
       "7  /google+redesign/shop+by+brand/waze/waze+mood+...     59  47.457627\n",
       "8  /google+redesign/shop+by+brand/waze+baby+on+bo...     50  38.000000\n",
       "9  /google+redesign/shop+by+brand/waze+mood+happy...     30  43.333333"
      ]
     },
     "execution_count": 13,
     "metadata": {},
     "output_type": "execute_result"
    }
   ],
   "source": [
    "query = \"\"\"\n",
    "    SELECT \n",
    "        hits.page.pagePath AS page,\n",
    "        COUNT(*) AS views,\n",
    "        SUM(CAST(hits.isExit AS int))/COUNT(*) * 100 AS exit_rate\n",
    "    FROM \n",
    "        `bigquery-public-data.google_analytics_sample.ga_sessions_*`,\n",
    "        UNNEST(hits) AS hits\n",
    "    WHERE\n",
    "        _TABLE_SUFFIX BETWEEN '20161001' AND '20161231'\n",
    "    AND\n",
    "        hits.type='PAGE'\n",
    "    AND\n",
    "        hits.page.pagePathLevel1 = '/google+redesign/'\n",
    "    AND\n",
    "        hits.page.pagePathLevel2 = '/shop+by+brand/'\n",
    "    GROUP BY\n",
    "        page\n",
    "    ORDER BY\n",
    "        views DESC\n",
    "    LIMIT 10\n",
    "\"\"\"\n",
    "\n",
    "result = client.query(query)\n",
    "df = result.to_dataframe()\n",
    "df.head(10)"
   ]
  },
  {
   "cell_type": "markdown",
   "metadata": {},
   "source": [
    "The majority of \"Shop by Brand\" category views came from the youtube category page (~35k) with a high exit rate of ~49%. \n",
    "\n",
    "Possible explanations for the high exit rate:\n",
    "1. There's a visual/loading issue with this page\n",
    "2. Users do not like the merchandise on this page\n",
    "3. Users are not seeing the products they expect to (perhaps they expect specific youtuber merchandise)."
   ]
  },
  {
   "cell_type": "markdown",
   "metadata": {},
   "source": [
    "### Entry Pages and Bounce Rates"
   ]
  },
  {
   "cell_type": "markdown",
   "metadata": {},
   "source": [
    "Let's explore the bounce rates for entrance pages"
   ]
  },
  {
   "cell_type": "code",
   "execution_count": 14,
   "metadata": {},
   "outputs": [
    {
     "data": {
      "text/html": [
       "<div>\n",
       "<style scoped>\n",
       "    .dataframe tbody tr th:only-of-type {\n",
       "        vertical-align: middle;\n",
       "    }\n",
       "\n",
       "    .dataframe tbody tr th {\n",
       "        vertical-align: top;\n",
       "    }\n",
       "\n",
       "    .dataframe thead th {\n",
       "        text-align: right;\n",
       "    }\n",
       "</style>\n",
       "<table border=\"1\" class=\"dataframe\">\n",
       "  <thead>\n",
       "    <tr style=\"text-align: right;\">\n",
       "      <th></th>\n",
       "      <th>page_category</th>\n",
       "      <th>entrance_views</th>\n",
       "      <th>bounce_rate</th>\n",
       "    </tr>\n",
       "  </thead>\n",
       "  <tbody>\n",
       "    <tr>\n",
       "      <th>0</th>\n",
       "      <td>/home</td>\n",
       "      <td>229306</td>\n",
       "      <td>50.740495</td>\n",
       "    </tr>\n",
       "    <tr>\n",
       "      <th>1</th>\n",
       "      <td>/google+redesign/</td>\n",
       "      <td>49885</td>\n",
       "      <td>49.141024</td>\n",
       "    </tr>\n",
       "    <tr>\n",
       "      <th>2</th>\n",
       "      <td>/signin.html</td>\n",
       "      <td>4078</td>\n",
       "      <td>39.087788</td>\n",
       "    </tr>\n",
       "    <tr>\n",
       "      <th>3</th>\n",
       "      <td>/basket.html</td>\n",
       "      <td>2507</td>\n",
       "      <td>43.358596</td>\n",
       "    </tr>\n",
       "    <tr>\n",
       "      <th>4</th>\n",
       "      <td>/home-2</td>\n",
       "      <td>1314</td>\n",
       "      <td>11.035008</td>\n",
       "    </tr>\n",
       "    <tr>\n",
       "      <th>5</th>\n",
       "      <td>/store.html</td>\n",
       "      <td>1148</td>\n",
       "      <td>54.529617</td>\n",
       "    </tr>\n",
       "    <tr>\n",
       "      <th>6</th>\n",
       "      <td>/google redesign/</td>\n",
       "      <td>798</td>\n",
       "      <td>48.997494</td>\n",
       "    </tr>\n",
       "    <tr>\n",
       "      <th>7</th>\n",
       "      <td>/asearch.html</td>\n",
       "      <td>780</td>\n",
       "      <td>66.153846</td>\n",
       "    </tr>\n",
       "    <tr>\n",
       "      <th>8</th>\n",
       "      <td>/store-policies/</td>\n",
       "      <td>504</td>\n",
       "      <td>64.484127</td>\n",
       "    </tr>\n",
       "    <tr>\n",
       "      <th>9</th>\n",
       "      <td>/myaccount.html?mode=billingaddress</td>\n",
       "      <td>75</td>\n",
       "      <td>2.666667</td>\n",
       "    </tr>\n",
       "  </tbody>\n",
       "</table>\n",
       "</div>"
      ],
      "text/plain": [
       "                         page_category  entrance_views  bounce_rate\n",
       "0                                /home          229306    50.740495\n",
       "1                    /google+redesign/           49885    49.141024\n",
       "2                         /signin.html            4078    39.087788\n",
       "3                         /basket.html            2507    43.358596\n",
       "4                              /home-2            1314    11.035008\n",
       "5                          /store.html            1148    54.529617\n",
       "6                    /google redesign/             798    48.997494\n",
       "7                        /asearch.html             780    66.153846\n",
       "8                     /store-policies/             504    64.484127\n",
       "9  /myaccount.html?mode=billingaddress              75     2.666667"
      ]
     },
     "execution_count": 14,
     "metadata": {},
     "output_type": "execute_result"
    }
   ],
   "source": [
    "query = \"\"\"\n",
    "    SELECT \n",
    "        hits.page.pagePathLevel1 AS page_category,\n",
    "        COUNT(*) AS entrance_views,\n",
    "        SUM(totals.bounces)/SUM(totals.visits) * 100 AS bounce_rate\n",
    "    FROM \n",
    "        `bigquery-public-data.google_analytics_sample.ga_sessions_*`,\n",
    "        UNNEST(hits) AS hits\n",
    "    WHERE\n",
    "        _TABLE_SUFFIX BETWEEN '20161001' AND '20161231'\n",
    "    AND\n",
    "        hits.type='PAGE'\n",
    "    AND\n",
    "        hits.isEntrance = True\n",
    "    GROUP BY\n",
    "        page_category\n",
    "    ORDER BY\n",
    "        entrance_views DESC\n",
    "    LIMIT 10\n",
    "\"\"\"\n",
    "\n",
    "result = client.query(query)\n",
    "df = result.to_dataframe()\n",
    "df.head(10)"
   ]
  },
  {
   "cell_type": "markdown",
   "metadata": {},
   "source": [
    "The majority of entrances (~229K) were to the home page with a bounce rate of ~51%, followed by the store pages category (~50k) with a similar bounce rate of ~49%. The home page and store pages should be reviewed to improve engagement, ultimately leading to more conversions and revenue."
   ]
  },
  {
   "cell_type": "markdown",
   "metadata": {},
   "source": [
    "#### Store Categories"
   ]
  },
  {
   "cell_type": "code",
   "execution_count": 15,
   "metadata": {},
   "outputs": [
    {
     "data": {
      "text/html": [
       "<div>\n",
       "<style scoped>\n",
       "    .dataframe tbody tr th:only-of-type {\n",
       "        vertical-align: middle;\n",
       "    }\n",
       "\n",
       "    .dataframe tbody tr th {\n",
       "        vertical-align: top;\n",
       "    }\n",
       "\n",
       "    .dataframe thead th {\n",
       "        text-align: right;\n",
       "    }\n",
       "</style>\n",
       "<table border=\"1\" class=\"dataframe\">\n",
       "  <thead>\n",
       "    <tr style=\"text-align: right;\">\n",
       "      <th></th>\n",
       "      <th>store_category</th>\n",
       "      <th>entrance_views</th>\n",
       "      <th>bounce_rate</th>\n",
       "    </tr>\n",
       "  </thead>\n",
       "  <tbody>\n",
       "    <tr>\n",
       "      <th>0</th>\n",
       "      <td>/apparel/</td>\n",
       "      <td>17984</td>\n",
       "      <td>47.191948</td>\n",
       "    </tr>\n",
       "    <tr>\n",
       "      <th>1</th>\n",
       "      <td>/shop+by+brand/</td>\n",
       "      <td>14216</td>\n",
       "      <td>49.310636</td>\n",
       "    </tr>\n",
       "    <tr>\n",
       "      <th>2</th>\n",
       "      <td>/electronics/</td>\n",
       "      <td>2112</td>\n",
       "      <td>59.659091</td>\n",
       "    </tr>\n",
       "    <tr>\n",
       "      <th>3</th>\n",
       "      <td>/drinkware</td>\n",
       "      <td>2095</td>\n",
       "      <td>51.551313</td>\n",
       "    </tr>\n",
       "    <tr>\n",
       "      <th>4</th>\n",
       "      <td>/bags</td>\n",
       "      <td>1918</td>\n",
       "      <td>44.264859</td>\n",
       "    </tr>\n",
       "    <tr>\n",
       "      <th>5</th>\n",
       "      <td>/bags/</td>\n",
       "      <td>1871</td>\n",
       "      <td>47.675040</td>\n",
       "    </tr>\n",
       "    <tr>\n",
       "      <th>6</th>\n",
       "      <td>/apparel</td>\n",
       "      <td>1631</td>\n",
       "      <td>47.087676</td>\n",
       "    </tr>\n",
       "    <tr>\n",
       "      <th>7</th>\n",
       "      <td>/office/</td>\n",
       "      <td>1588</td>\n",
       "      <td>54.093199</td>\n",
       "    </tr>\n",
       "    <tr>\n",
       "      <th>8</th>\n",
       "      <td>/accessories/</td>\n",
       "      <td>1208</td>\n",
       "      <td>45.612583</td>\n",
       "    </tr>\n",
       "    <tr>\n",
       "      <th>9</th>\n",
       "      <td>/drinkware/</td>\n",
       "      <td>1165</td>\n",
       "      <td>50.643777</td>\n",
       "    </tr>\n",
       "  </tbody>\n",
       "</table>\n",
       "</div>"
      ],
      "text/plain": [
       "    store_category  entrance_views  bounce_rate\n",
       "0        /apparel/           17984    47.191948\n",
       "1  /shop+by+brand/           14216    49.310636\n",
       "2    /electronics/            2112    59.659091\n",
       "3       /drinkware            2095    51.551313\n",
       "4            /bags            1918    44.264859\n",
       "5           /bags/            1871    47.675040\n",
       "6         /apparel            1631    47.087676\n",
       "7         /office/            1588    54.093199\n",
       "8    /accessories/            1208    45.612583\n",
       "9      /drinkware/            1165    50.643777"
      ]
     },
     "execution_count": 15,
     "metadata": {},
     "output_type": "execute_result"
    }
   ],
   "source": [
    "query = \"\"\"\n",
    "        SELECT \n",
    "            hits.page.pagePathLevel2 AS store_category,\n",
    "            COUNT(*) AS entrance_views,\n",
    "            SUM(totals.bounces)/SUM(totals.visits) * 100 AS bounce_rate\n",
    "        FROM \n",
    "            `bigquery-public-data.google_analytics_sample.ga_sessions_*`,\n",
    "            UNNEST(hits) AS hits\n",
    "        WHERE\n",
    "            _TABLE_SUFFIX BETWEEN '20161001' AND '20161231'\n",
    "        AND\n",
    "            hits.type='PAGE'\n",
    "        AND\n",
    "            hits.isEntrance = True\n",
    "        AND\n",
    "            hits.page.pagePathLevel1 = '/google+redesign/'\n",
    "        GROUP BY\n",
    "            store_category\n",
    "        ORDER BY\n",
    "            entrance_views DESC\n",
    "        LIMIT 10\n",
    "        \"\"\"\n",
    "\n",
    "result = client.query(query)\n",
    "df = result.to_dataframe()\n",
    "df.head(10)"
   ]
  },
  {
   "cell_type": "markdown",
   "metadata": {},
   "source": [
    "Apparel (~18K) and shop by brand (~14k) had the highest amount of entrance views. Bounce rates are slightly high across the top 10 ranging from ~44-60%, with electronics performing the worst by this indicator. This suggests that there were no specific product categories with bounce rate outliers, and engagement improvements should be made across all store pages."
   ]
  },
  {
   "cell_type": "markdown",
   "metadata": {},
   "source": [
    "### Session Duration"
   ]
  },
  {
   "cell_type": "markdown",
   "metadata": {},
   "source": [
    "Let's now investigate session duration, removing bounces as their session durations are not calculated by Google Analytics."
   ]
  },
  {
   "cell_type": "code",
   "execution_count": 16,
   "metadata": {},
   "outputs": [],
   "source": [
    "query = \"\"\"\n",
    "        SELECT \n",
    "            totals.timeOnSite AS session_duration\n",
    "        FROM \n",
    "            `bigquery-public-data.google_analytics_sample.ga_sessions_*`\n",
    "        WHERE\n",
    "            _TABLE_SUFFIX BETWEEN '20161001' AND '20161231'\n",
    "        AND\n",
    "            totals.bounces IS NULL\n",
    "        \"\"\"\n",
    "\n",
    "result = client.query(query)\n",
    "df = result.to_dataframe()"
   ]
  },
  {
   "cell_type": "code",
   "execution_count": 17,
   "metadata": {},
   "outputs": [
    {
     "data": {
      "text/html": [
       "<div>\n",
       "<style scoped>\n",
       "    .dataframe tbody tr th:only-of-type {\n",
       "        vertical-align: middle;\n",
       "    }\n",
       "\n",
       "    .dataframe tbody tr th {\n",
       "        vertical-align: top;\n",
       "    }\n",
       "\n",
       "    .dataframe thead th {\n",
       "        text-align: right;\n",
       "    }\n",
       "</style>\n",
       "<table border=\"1\" class=\"dataframe\">\n",
       "  <thead>\n",
       "    <tr style=\"text-align: right;\">\n",
       "      <th></th>\n",
       "      <th>session_duration</th>\n",
       "    </tr>\n",
       "  </thead>\n",
       "  <tbody>\n",
       "    <tr>\n",
       "      <th>66</th>\n",
       "      <td>&lt;NA&gt;</td>\n",
       "    </tr>\n",
       "    <tr>\n",
       "      <th>95</th>\n",
       "      <td>&lt;NA&gt;</td>\n",
       "    </tr>\n",
       "    <tr>\n",
       "      <th>1097</th>\n",
       "      <td>&lt;NA&gt;</td>\n",
       "    </tr>\n",
       "    <tr>\n",
       "      <th>1106</th>\n",
       "      <td>&lt;NA&gt;</td>\n",
       "    </tr>\n",
       "    <tr>\n",
       "      <th>1125</th>\n",
       "      <td>&lt;NA&gt;</td>\n",
       "    </tr>\n",
       "    <tr>\n",
       "      <th>...</th>\n",
       "      <td>...</td>\n",
       "    </tr>\n",
       "    <tr>\n",
       "      <th>80859</th>\n",
       "      <td>&lt;NA&gt;</td>\n",
       "    </tr>\n",
       "    <tr>\n",
       "      <th>80865</th>\n",
       "      <td>&lt;NA&gt;</td>\n",
       "    </tr>\n",
       "    <tr>\n",
       "      <th>80866</th>\n",
       "      <td>&lt;NA&gt;</td>\n",
       "    </tr>\n",
       "    <tr>\n",
       "      <th>80891</th>\n",
       "      <td>&lt;NA&gt;</td>\n",
       "    </tr>\n",
       "    <tr>\n",
       "      <th>81095</th>\n",
       "      <td>&lt;NA&gt;</td>\n",
       "    </tr>\n",
       "  </tbody>\n",
       "</table>\n",
       "<p>285 rows × 1 columns</p>\n",
       "</div>"
      ],
      "text/plain": [
       "       session_duration\n",
       "66                 <NA>\n",
       "95                 <NA>\n",
       "1097               <NA>\n",
       "1106               <NA>\n",
       "1125               <NA>\n",
       "...                 ...\n",
       "80859              <NA>\n",
       "80865              <NA>\n",
       "80866              <NA>\n",
       "80891              <NA>\n",
       "81095              <NA>\n",
       "\n",
       "[285 rows x 1 columns]"
      ]
     },
     "execution_count": 17,
     "metadata": {},
     "output_type": "execute_result"
    }
   ],
   "source": [
    "df[df[\"session_duration\"].isna()]"
   ]
  },
  {
   "cell_type": "markdown",
   "metadata": {},
   "source": [
    "Despite removing bounces, there are still some N/A session durations. This could be due to a multitude of reasons such as timeouts, uncaptured bounces, data capture errors, etc.\n",
    "\n",
    "Let's remove those N/A values as they're a small proportion of the dataset, and visualize the distribution."
   ]
  },
  {
   "cell_type": "code",
   "execution_count": 18,
   "metadata": {},
   "outputs": [],
   "source": [
    "df = df[df[\"session_duration\"].notna()]"
   ]
  },
  {
   "cell_type": "code",
   "execution_count": 19,
   "metadata": {},
   "outputs": [
    {
     "name": "stderr",
     "output_type": "stream",
     "text": [
      "c:\\Users\\Nathan\\AppData\\Local\\Programs\\Python\\Python311\\Lib\\site-packages\\seaborn\\_oldcore.py:1119: FutureWarning:\n",
      "\n",
      "use_inf_as_na option is deprecated and will be removed in a future version. Convert inf values to NaN before operating instead.\n",
      "\n"
     ]
    },
    {
     "data": {
      "text/plain": [
       "<Axes: xlabel='session_duration', ylabel='Percent'>"
      ]
     },
     "execution_count": 19,
     "metadata": {},
     "output_type": "execute_result"
    },
    {
     "data": {
      "image/png": "[encoded data removed]",
      "text/plain": [
       "<Figure size 640x480 with 1 Axes>"
      ]
     },
     "metadata": {},
     "output_type": "display_data"
    }
   ],
   "source": [
    "sns.histplot(df[\"session_duration\"], stat='percent')"
   ]
  },
  {
   "cell_type": "code",
   "execution_count": 20,
   "metadata": {},
   "outputs": [
    {
     "name": "stdout",
     "output_type": "stream",
     "text": [
      "Summary Stats: \n",
      " Observations:  144690 \n",
      " Mean: 222.1 STD: 444.8 \n",
      " Min: 1 Q1: 27.0 Median: 62.0 Q3: 193.0 Max 15047 \n",
      " Mode: 4 frequency 3855 \n",
      " Skew: 5.104936465578142\n"
     ]
    }
   ],
   "source": [
    "obs = len(df['session_duration'])\n",
    "mean = np.round(np.mean(df['session_duration']),1)\n",
    "median = np.median(df['session_duration'])\n",
    "std = np.round(np.std(df['session_duration']),1)\n",
    "mode = stats.mode(df['session_duration']).mode\n",
    "mode_freq = len(df[df['session_duration']==mode])\n",
    "min = np.min(df['session_duration'])\n",
    "q1 = np.percentile(df['session_duration'], 25)\n",
    "q3 = np.percentile(df['session_duration'], 75)\n",
    "max = np.max(df['session_duration'])\n",
    "skew = stats.skew(df['session_duration'])\n",
    "print(\"Summary Stats:\",\n",
    "      \"\\n Observations: \", obs,\n",
    "      \"\\n Mean:\", mean, \"STD:\", std,\n",
    "      \"\\n Min:\", min, \"Q1:\", q1 , \"Median:\", median, \"Q3:\", q3, \"Max\", max, \n",
    "      \"\\n Mode:\", mode, \"frequency\", mode_freq,\n",
    "      \"\\n Skew:\", skew)"
   ]
  },
  {
   "cell_type": "markdown",
   "metadata": {},
   "source": [
    "Session duration is highly positively skewed and there are significant outliers, one session even lasting 15047 seconds (over 4 hours!). These outliers have inflated the mean to ~222 seconds. The standard deviation of ~444 seconds indicates high variability of session times.\n",
    "\n",
    "In this case the median is a better indicator of centrality, at 62 seconds it shows that the typical session is quite short.  Let's focus on data below the 75th quantile to view more typical user behaviour."
   ]
  },
  {
   "cell_type": "code",
   "execution_count": 21,
   "metadata": {},
   "outputs": [
    {
     "name": "stderr",
     "output_type": "stream",
     "text": [
      "c:\\Users\\Nathan\\AppData\\Local\\Programs\\Python\\Python311\\Lib\\site-packages\\seaborn\\_oldcore.py:1119: FutureWarning:\n",
      "\n",
      "use_inf_as_na option is deprecated and will be removed in a future version. Convert inf values to NaN before operating instead.\n",
      "\n"
     ]
    },
    {
     "data": {
      "text/plain": [
       "<Axes: xlabel='session_duration', ylabel='Percent'>"
      ]
     },
     "execution_count": 21,
     "metadata": {},
     "output_type": "execute_result"
    },
    {
     "data": {
      "image/png": "[encoded data removed]",
      "text/plain": [
       "<Figure size 640x480 with 1 Axes>"
      ]
     },
     "metadata": {},
     "output_type": "display_data"
    }
   ],
   "source": [
    "sns.histplot(df[\"session_duration\"], stat='percent', binrange=(0,q3), binwidth=5)"
   ]
  },
  {
   "cell_type": "markdown",
   "metadata": {},
   "source": [
    "We can see three distinct peaks around 5-10 seconds, 50-55 seconds, and 100-105 seconds. These groups could indicate sessions with different levels of intent. Let's propose four groups of session durations, and investigate their conversion rates\n",
    "1. 0-44 seconds\n",
    "2. 45-94 seconds\n",
    "3. 95-193 seconds\n",
    "4. \\>193 seconds"
   ]
  },
  {
   "cell_type": "code",
   "execution_count": 22,
   "metadata": {},
   "outputs": [
    {
     "data": {
      "text/html": [
       "<div>\n",
       "<style scoped>\n",
       "    .dataframe tbody tr th:only-of-type {\n",
       "        vertical-align: middle;\n",
       "    }\n",
       "\n",
       "    .dataframe tbody tr th {\n",
       "        vertical-align: top;\n",
       "    }\n",
       "\n",
       "    .dataframe thead th {\n",
       "        text-align: right;\n",
       "    }\n",
       "</style>\n",
       "<table border=\"1\" class=\"dataframe\">\n",
       "  <thead>\n",
       "    <tr style=\"text-align: right;\">\n",
       "      <th></th>\n",
       "      <th>session_group</th>\n",
       "      <th>users</th>\n",
       "      <th>new_user_perc</th>\n",
       "      <th>sessions</th>\n",
       "      <th>transactions</th>\n",
       "      <th>conversion_rate</th>\n",
       "      <th>revenue</th>\n",
       "      <th>AOV</th>\n",
       "      <th>avg_pages</th>\n",
       "      <th>avg_duration</th>\n",
       "    </tr>\n",
       "  </thead>\n",
       "  <tbody>\n",
       "    <tr>\n",
       "      <th>0</th>\n",
       "      <td>&gt;193 sec</td>\n",
       "      <td>29953</td>\n",
       "      <td>80.232364</td>\n",
       "      <td>36137</td>\n",
       "      <td>3214</td>\n",
       "      <td>8.893931</td>\n",
       "      <td>413878.36</td>\n",
       "      <td>128.773603</td>\n",
       "      <td>13.877408</td>\n",
       "      <td>717.757728</td>\n",
       "    </tr>\n",
       "    <tr>\n",
       "      <th>1</th>\n",
       "      <td>95-193 sec</td>\n",
       "      <td>22100</td>\n",
       "      <td>82.461538</td>\n",
       "      <td>23020</td>\n",
       "      <td>108</td>\n",
       "      <td>0.469157</td>\n",
       "      <td>10619.10</td>\n",
       "      <td>98.325000</td>\n",
       "      <td>5.689835</td>\n",
       "      <td>133.297003</td>\n",
       "    </tr>\n",
       "    <tr>\n",
       "      <th>2</th>\n",
       "      <td>45-94 sec</td>\n",
       "      <td>35681</td>\n",
       "      <td>87.388246</td>\n",
       "      <td>36813</td>\n",
       "      <td>&lt;NA&gt;</td>\n",
       "      <td>NaN</td>\n",
       "      <td>NaN</td>\n",
       "      <td>NaN</td>\n",
       "      <td>3.330698</td>\n",
       "      <td>61.436069</td>\n",
       "    </tr>\n",
       "    <tr>\n",
       "      <th>3</th>\n",
       "      <td>0-44 sec</td>\n",
       "      <td>45131</td>\n",
       "      <td>84.990361</td>\n",
       "      <td>48720</td>\n",
       "      <td>1</td>\n",
       "      <td>0.002053</td>\n",
       "      <td>104.33</td>\n",
       "      <td>104.330000</td>\n",
       "      <td>2.558648</td>\n",
       "      <td>17.686002</td>\n",
       "    </tr>\n",
       "  </tbody>\n",
       "</table>\n",
       "</div>"
      ],
      "text/plain": [
       "  session_group  users  new_user_perc  sessions  transactions  \\\n",
       "0      >193 sec  29953      80.232364     36137          3214   \n",
       "1    95-193 sec  22100      82.461538     23020           108   \n",
       "2     45-94 sec  35681      87.388246     36813          <NA>   \n",
       "3      0-44 sec  45131      84.990361     48720             1   \n",
       "\n",
       "   conversion_rate    revenue         AOV  avg_pages  avg_duration  \n",
       "0         8.893931  413878.36  128.773603  13.877408    717.757728  \n",
       "1         0.469157   10619.10   98.325000   5.689835    133.297003  \n",
       "2              NaN        NaN         NaN   3.330698     61.436069  \n",
       "3         0.002053     104.33  104.330000   2.558648     17.686002  "
      ]
     },
     "execution_count": 22,
     "metadata": {},
     "output_type": "execute_result"
    }
   ],
   "source": [
    "query = \"\"\"\n",
    "    SELECT\n",
    "        session_group,\n",
    "        users,\n",
    "        new_users / users * 100 AS new_user_perc,\n",
    "        sessions,\n",
    "        transactions,\n",
    "        transactions / sessions * 100 AS conversion_rate,\n",
    "        revenue,\n",
    "        revenue / transactions AS AOV,\n",
    "        avg_pages,\n",
    "        avg_duration\n",
    "    FROM(\n",
    "        SELECT\n",
    "            CASE\n",
    "                WHEN totals.timeOnSite < 45 THEN '0-44 sec'\n",
    "                WHEN (totals.timeOnSite >= 44 AND totals.timeOnSite < 95) THEN '45-94 sec'\n",
    "                WHEN (totals.timeOnSite >= 95 AND totals.timeOnSite < 194) THEN '95-193 sec'\n",
    "                WHEN (totals.timeOnSite >= 194) THEN '>193 sec'\n",
    "                ELSE 'error' \n",
    "            END AS session_group,\n",
    "            COUNT(DISTINCT fullVisitorId) AS users,\n",
    "            SUM(totals.newVisits) AS new_users,\n",
    "            SUM(totals.visits) as sessions,\n",
    "            SUM(totals.transactions) AS transactions,\n",
    "            SUM(totals.totaltransactionRevenue)/1000000 AS revenue,\n",
    "            AVG(totals.pageviews) AS avg_pages,\n",
    "            AVG(totals.timeOnSite) AS avg_duration\n",
    "        FROM \n",
    "            `bigquery-public-data.google_analytics_sample.ga_sessions_*`\n",
    "        WHERE\n",
    "            _TABLE_SUFFIX BETWEEN '20161001' AND '20161231'\n",
    "        AND\n",
    "            totals.bounces IS NULL\n",
    "        AND\n",
    "            totals.timeOnSite IS NOT NULL\n",
    "        GROUP BY\n",
    "            session_group\n",
    "        ORDER BY \n",
    "            session_group DESC\n",
    "    )\n",
    "\"\"\"\n",
    "\n",
    "result = client.query(query)\n",
    "df = result.to_dataframe()\n",
    "df.head()"
   ]
  },
  {
   "cell_type": "markdown",
   "metadata": {},
   "source": [
    "Sessions in the outlier group (>193 seconds) had a far higher conversion rate (~9%) and were slightly less likely to be a new user (~80%). This demonstrates a strong positive relationship between session duration and intent to purchase.\n",
    "\n",
    "Let's investigate if sessions with quick exits (group 1) were entering on different landing pages than other sessions."
   ]
  },
  {
   "cell_type": "code",
   "execution_count": 23,
   "metadata": {},
   "outputs": [
    {
     "data": {
      "text/html": [
       "<div>\n",
       "<style scoped>\n",
       "    .dataframe tbody tr th:only-of-type {\n",
       "        vertical-align: middle;\n",
       "    }\n",
       "\n",
       "    .dataframe tbody tr th {\n",
       "        vertical-align: top;\n",
       "    }\n",
       "\n",
       "    .dataframe thead th {\n",
       "        text-align: right;\n",
       "    }\n",
       "</style>\n",
       "<table border=\"1\" class=\"dataframe\">\n",
       "  <thead>\n",
       "    <tr style=\"text-align: right;\">\n",
       "      <th></th>\n",
       "      <th>page_category</th>\n",
       "      <th>entrance_views</th>\n",
       "    </tr>\n",
       "  </thead>\n",
       "  <tbody>\n",
       "    <tr>\n",
       "      <th>0</th>\n",
       "      <td>/home</td>\n",
       "      <td>39740</td>\n",
       "    </tr>\n",
       "    <tr>\n",
       "      <th>1</th>\n",
       "      <td>/google+redesign/</td>\n",
       "      <td>6849</td>\n",
       "    </tr>\n",
       "    <tr>\n",
       "      <th>2</th>\n",
       "      <td>/signin.html</td>\n",
       "      <td>1048</td>\n",
       "    </tr>\n",
       "    <tr>\n",
       "      <th>3</th>\n",
       "      <td>/basket.html</td>\n",
       "      <td>378</td>\n",
       "    </tr>\n",
       "    <tr>\n",
       "      <th>4</th>\n",
       "      <td>/home-2</td>\n",
       "      <td>266</td>\n",
       "    </tr>\n",
       "  </tbody>\n",
       "</table>\n",
       "</div>"
      ],
      "text/plain": [
       "       page_category  entrance_views\n",
       "0              /home           39740\n",
       "1  /google+redesign/            6849\n",
       "2       /signin.html            1048\n",
       "3       /basket.html             378\n",
       "4            /home-2             266"
      ]
     },
     "execution_count": 23,
     "metadata": {},
     "output_type": "execute_result"
    }
   ],
   "source": [
    "query = \"\"\"\n",
    "        SELECT \n",
    "            hits.page.pagePathLevel1 AS page_category,\n",
    "            COUNT(*) AS entrance_views\n",
    "        FROM \n",
    "            `bigquery-public-data.google_analytics_sample.ga_sessions_*`,\n",
    "            UNNEST(hits) AS hits\n",
    "        WHERE\n",
    "            _TABLE_SUFFIX BETWEEN '20161001' AND '20161231'\n",
    "        AND\n",
    "            hits.type='PAGE'\n",
    "        AND\n",
    "            hits.isEntrance = True\n",
    "        AND\n",
    "            totals.bounces IS NULL\n",
    "        AND\n",
    "            totals.timeOnSite < 45\n",
    "        GROUP BY\n",
    "            page_category\n",
    "        ORDER BY\n",
    "            entrance_views DESC\n",
    "        LIMIT 10\n",
    "        \"\"\"\n",
    "\n",
    "result = client.query(query)\n",
    "df = result.to_dataframe()\n",
    "df.head()"
   ]
  },
  {
   "cell_type": "markdown",
   "metadata": {},
   "source": [
    "The majority of entrances (~40K) were to the home page, followed by the store pages category (~7k). As previously shown, these two categories were the most common landing page over all sessions. This supports previous commentary that home page and store pages should be reviewed to improve engagement and site navigation, ultimately leading to more transactions and revenue.\n",
    "\n",
    "Session durations, engagement and conversion can be improved by\n",
    "1. Review and optimize entrance pages engagement (home and store pages)\n",
    "2. Review and optimize site navigation\n",
    "3. Optimize conversion pathways for medium length sessions, where users are showing some engagement and motivation"
   ]
  },
  {
   "cell_type": "markdown",
   "metadata": {},
   "source": [
    "### User Frequency"
   ]
  },
  {
   "cell_type": "markdown",
   "metadata": {},
   "source": [
    "Let's investigate the number of sessions by users in 2016 Q4"
   ]
  },
  {
   "cell_type": "code",
   "execution_count": 24,
   "metadata": {},
   "outputs": [
    {
     "data": {
      "text/html": [
       "<div>\n",
       "<style scoped>\n",
       "    .dataframe tbody tr th:only-of-type {\n",
       "        vertical-align: middle;\n",
       "    }\n",
       "\n",
       "    .dataframe tbody tr th {\n",
       "        vertical-align: top;\n",
       "    }\n",
       "\n",
       "    .dataframe thead th {\n",
       "        text-align: right;\n",
       "    }\n",
       "</style>\n",
       "<table border=\"1\" class=\"dataframe\">\n",
       "  <thead>\n",
       "    <tr style=\"text-align: right;\">\n",
       "      <th></th>\n",
       "      <th>sessions</th>\n",
       "    </tr>\n",
       "  </thead>\n",
       "  <tbody>\n",
       "    <tr>\n",
       "      <th>0</th>\n",
       "      <td>6</td>\n",
       "    </tr>\n",
       "    <tr>\n",
       "      <th>1</th>\n",
       "      <td>98</td>\n",
       "    </tr>\n",
       "    <tr>\n",
       "      <th>2</th>\n",
       "      <td>12</td>\n",
       "    </tr>\n",
       "    <tr>\n",
       "      <th>3</th>\n",
       "      <td>6</td>\n",
       "    </tr>\n",
       "    <tr>\n",
       "      <th>4</th>\n",
       "      <td>6</td>\n",
       "    </tr>\n",
       "  </tbody>\n",
       "</table>\n",
       "</div>"
      ],
      "text/plain": [
       "   sessions\n",
       "0         6\n",
       "1        98\n",
       "2        12\n",
       "3         6\n",
       "4         6"
      ]
     },
     "execution_count": 24,
     "metadata": {},
     "output_type": "execute_result"
    }
   ],
   "source": [
    "query = \"\"\"\n",
    "    SELECT \n",
    "        SUM(totals.visits) as sessions,\n",
    "    FROM \n",
    "        `bigquery-public-data.google_analytics_sample.ga_sessions_*`\n",
    "    WHERE\n",
    "        _TABLE_SUFFIX BETWEEN '20161001' AND '20161231'\n",
    "    GROUP BY\n",
    "        fullVisitorId\n",
    "\"\"\"\n",
    "result = client.query(query)\n",
    "df = result.to_dataframe()\n",
    "df.head()"
   ]
  },
  {
   "cell_type": "code",
   "execution_count": 25,
   "metadata": {},
   "outputs": [
    {
     "name": "stderr",
     "output_type": "stream",
     "text": [
      "c:\\Users\\Nathan\\AppData\\Local\\Programs\\Python\\Python311\\Lib\\site-packages\\seaborn\\_oldcore.py:1119: FutureWarning:\n",
      "\n",
      "use_inf_as_na option is deprecated and will be removed in a future version. Convert inf values to NaN before operating instead.\n",
      "\n"
     ]
    },
    {
     "data": {
      "text/plain": [
       "<Axes: xlabel='sessions', ylabel='Percent'>"
      ]
     },
     "execution_count": 25,
     "metadata": {},
     "output_type": "execute_result"
    },
    {
     "data": {
      "image/png": "[encoded data removed]",
      "text/plain": [
       "<Figure size 640x480 with 1 Axes>"
      ]
     },
     "metadata": {},
     "output_type": "display_data"
    }
   ],
   "source": [
    "sns.histplot(df[\"sessions\"], stat='percent', binwidth=1)"
   ]
  },
  {
   "cell_type": "code",
   "execution_count": 26,
   "metadata": {},
   "outputs": [
    {
     "name": "stdout",
     "output_type": "stream",
     "text": [
      "Summary Stats: \n",
      " Observations:  241169 \n",
      " Mean: 1.2 STD: 1.0 \n",
      " Min: 1 Q1: 1.0 Median: 1.0 Q3: 1.0 Max 98 \n",
      " Mode: 1 frequency 215231 \n",
      " Skew: 23.814293416006603\n"
     ]
    }
   ],
   "source": [
    "obs = len(df['sessions'])\n",
    "mean = np.round(np.mean(df['sessions']),1)\n",
    "median = np.median(df['sessions'])\n",
    "std = np.round(np.std(df['sessions']),1)\n",
    "mode = stats.mode(df['sessions']).mode\n",
    "mode_freq = len(df[df['sessions']==mode])\n",
    "min = np.min(df['sessions'])\n",
    "q1 = np.percentile(df['sessions'], 25)\n",
    "q3 = np.percentile(df['sessions'], 75)\n",
    "max = np.max(df['sessions'])\n",
    "skew = stats.skew(df['sessions'])\n",
    "print(\"Summary Stats:\",\n",
    "      \"\\n Observations: \", obs,\n",
    "      \"\\n Mean:\", mean, \"STD:\", std,\n",
    "      \"\\n Min:\", min, \"Q1:\", q1 , \"Median:\", median, \"Q3:\", q3, \"Max\", max, \n",
    "      \"\\n Mode:\", mode, \"frequency\", mode_freq,\n",
    "      \"\\n Skew:\", skew)"
   ]
  },
  {
   "cell_type": "markdown",
   "metadata": {},
   "source": [
    "The majority of users (~89%) had only one session in 2016 Q4. Let's account for bounced sessions by removing them from the results"
   ]
  },
  {
   "cell_type": "code",
   "execution_count": 27,
   "metadata": {},
   "outputs": [],
   "source": [
    "query = \"\"\"\n",
    "    SELECT \n",
    "        SUM(totals.visits) as sessions,\n",
    "    FROM \n",
    "        `bigquery-public-data.google_analytics_sample.ga_sessions_*`\n",
    "    WHERE\n",
    "        _TABLE_SUFFIX BETWEEN '20161001' AND '20161231'\n",
    "    AND\n",
    "        totals.Bounces IS NULL\n",
    "    GROUP BY\n",
    "        fullVisitorId\n",
    "\"\"\"\n",
    "result = client.query(query)\n",
    "df = result.to_dataframe()"
   ]
  },
  {
   "cell_type": "code",
   "execution_count": 28,
   "metadata": {},
   "outputs": [
    {
     "name": "stderr",
     "output_type": "stream",
     "text": [
      "c:\\Users\\Nathan\\AppData\\Local\\Programs\\Python\\Python311\\Lib\\site-packages\\seaborn\\_oldcore.py:1119: FutureWarning:\n",
      "\n",
      "use_inf_as_na option is deprecated and will be removed in a future version. Convert inf values to NaN before operating instead.\n",
      "\n"
     ]
    },
    {
     "data": {
      "text/plain": [
       "<Axes: xlabel='sessions', ylabel='Percent'>"
      ]
     },
     "execution_count": 28,
     "metadata": {},
     "output_type": "execute_result"
    },
    {
     "data": {
      "image/png": "[encoded data removed]",
      "text/plain": [
       "<Figure size 640x480 with 1 Axes>"
      ]
     },
     "metadata": {},
     "output_type": "display_data"
    }
   ],
   "source": [
    "sns.histplot(df[\"sessions\"], stat='percent', binwidth=1)"
   ]
  },
  {
   "cell_type": "code",
   "execution_count": 29,
   "metadata": {},
   "outputs": [
    {
     "name": "stdout",
     "output_type": "stream",
     "text": [
      "Summary Stats: \n",
      " Observations:  121089 \n",
      " Mean: 1.2 STD: 0.9 \n",
      " Min: 1 Q1: 1.0 Median: 1.0 Q3: 1.0 Max 80 \n",
      " Mode: 1 frequency 107841 \n",
      " Skew: 20.34157296042013\n"
     ]
    }
   ],
   "source": [
    "obs = len(df['sessions'])\n",
    "mean = np.round(np.mean(df['sessions']),1)\n",
    "median = np.median(df['sessions'])\n",
    "std = np.round(np.std(df['sessions']),1)\n",
    "mode = stats.mode(df['sessions']).mode\n",
    "mode_freq = len(df[df['sessions']==mode])\n",
    "min = np.min(df['sessions'])\n",
    "q1 = np.percentile(df['sessions'], 25)\n",
    "q3 = np.percentile(df['sessions'], 75)\n",
    "max = np.max(df['sessions'])\n",
    "skew = stats.skew(df['sessions'])\n",
    "print(\"Summary Stats:\",\n",
    "      \"\\n Observations: \", obs,\n",
    "      \"\\n Mean:\", mean, \"STD:\", std,\n",
    "      \"\\n Min:\", min, \"Q1:\", q1 , \"Median:\", median, \"Q3:\", q3, \"Max\", max, \n",
    "      \"\\n Mode:\", mode, \"frequency\", mode_freq,\n",
    "      \"\\n Skew:\", skew)"
   ]
  },
  {
   "cell_type": "markdown",
   "metadata": {},
   "source": [
    "The results hold when bounced sessions are removed, the majority of non-bounced users (~89%) had only one session in 2016 Q4. Let's group non-bounced users by number of sessions (1 vs 2+) and compare statistics."
   ]
  },
  {
   "cell_type": "code",
   "execution_count": 30,
   "metadata": {},
   "outputs": [
    {
     "data": {
      "text/html": [
       "<div>\n",
       "<style scoped>\n",
       "    .dataframe tbody tr th:only-of-type {\n",
       "        vertical-align: middle;\n",
       "    }\n",
       "\n",
       "    .dataframe tbody tr th {\n",
       "        vertical-align: top;\n",
       "    }\n",
       "\n",
       "    .dataframe thead th {\n",
       "        text-align: right;\n",
       "    }\n",
       "</style>\n",
       "<table border=\"1\" class=\"dataframe\">\n",
       "  <thead>\n",
       "    <tr style=\"text-align: right;\">\n",
       "      <th></th>\n",
       "      <th>num_sessions</th>\n",
       "      <th>users</th>\n",
       "      <th>new_users</th>\n",
       "      <th>new_user_perc</th>\n",
       "      <th>sessions</th>\n",
       "      <th>transactions</th>\n",
       "      <th>conversion_rate</th>\n",
       "      <th>revenue</th>\n",
       "      <th>AOV</th>\n",
       "      <th>avg_pages</th>\n",
       "      <th>avg_duration</th>\n",
       "    </tr>\n",
       "  </thead>\n",
       "  <tbody>\n",
       "    <tr>\n",
       "      <th>0</th>\n",
       "      <td>1</td>\n",
       "      <td>107841</td>\n",
       "      <td>101384</td>\n",
       "      <td>94.012481</td>\n",
       "      <td>107841</td>\n",
       "      <td>1162</td>\n",
       "      <td>1.077512</td>\n",
       "      <td>93383.40</td>\n",
       "      <td>80.364372</td>\n",
       "      <td>5.031309</td>\n",
       "      <td>169.732958</td>\n",
       "    </tr>\n",
       "    <tr>\n",
       "      <th>1</th>\n",
       "      <td>2+</td>\n",
       "      <td>13248</td>\n",
       "      <td>10343</td>\n",
       "      <td>78.072162</td>\n",
       "      <td>37134</td>\n",
       "      <td>2162</td>\n",
       "      <td>5.822158</td>\n",
       "      <td>331247.36</td>\n",
       "      <td>153.213395</td>\n",
       "      <td>8.694531</td>\n",
       "      <td>346.084227</td>\n",
       "    </tr>\n",
       "  </tbody>\n",
       "</table>\n",
       "</div>"
      ],
      "text/plain": [
       "  num_sessions   users  new_users  new_user_perc  sessions  transactions  \\\n",
       "0            1  107841     101384      94.012481    107841          1162   \n",
       "1           2+   13248      10343      78.072162     37134          2162   \n",
       "\n",
       "   conversion_rate    revenue         AOV  avg_pages  avg_duration  \n",
       "0         1.077512   93383.40   80.364372   5.031309    169.732958  \n",
       "1         5.822158  331247.36  153.213395   8.694531    346.084227  "
      ]
     },
     "execution_count": 30,
     "metadata": {},
     "output_type": "execute_result"
    }
   ],
   "source": [
    "query = \"\"\"\n",
    "    WITH stats_per_user AS\n",
    "    (\n",
    "        SELECT \n",
    "            MAX(totals.newVisits) AS new_users,\n",
    "            SUM(totals.visits) AS sessions,\n",
    "            SUM(totals.transactions) AS transactions,\n",
    "            SUM(totals.totaltransactionRevenue)/1000000 AS revenue,\n",
    "            SUM(totals.pageviews) AS views,\n",
    "            SUM(totals.timeOnSite) AS duration\n",
    "        FROM \n",
    "            `bigquery-public-data.google_analytics_sample.ga_sessions_*`\n",
    "        WHERE\n",
    "            _TABLE_SUFFIX BETWEEN '20161001' AND '20161231'\n",
    "        AND\n",
    "            totals.Bounces IS NULL\n",
    "        GROUP BY\n",
    "            fullVisitorId\n",
    "    ),\n",
    "\n",
    "    stats_per_sg AS\n",
    "    (\n",
    "        SELECT\n",
    "            CASE\n",
    "                WHEN sessions = 1 THEN '1'\n",
    "                WHEN sessions > 1 THEN '2+'\n",
    "                ELSE 'error' \n",
    "            END AS num_sessions,\n",
    "            COUNT(*) AS users,\n",
    "            SUM(new_users) AS new_users,\n",
    "            SUM(sessions) AS sessions,\n",
    "            SUM(transactions) AS transactions,\n",
    "            SUM(revenue) AS revenue,\n",
    "            AVG(views / sessions) AS avg_pages,\n",
    "            AVG(duration / sessions) AS avg_duration\n",
    "        FROM \n",
    "            stats_per_user\n",
    "        GROUP BY\n",
    "            num_sessions\n",
    "    )\n",
    "\n",
    "    SELECT \n",
    "        num_sessions,\n",
    "        users,\n",
    "        new_users,\n",
    "        new_users / users * 100 AS new_user_perc,\n",
    "        sessions,\n",
    "        transactions,\n",
    "        transactions / sessions * 100 AS conversion_rate,\n",
    "        revenue,\n",
    "        revenue / transactions AS AOV,\n",
    "        avg_pages,\n",
    "        avg_duration\n",
    "    FROM stats_per_sg\n",
    "\n",
    "\"\"\"\n",
    "result = client.query(query)\n",
    "df = result.to_dataframe()\n",
    "df.head()"
   ]
  },
  {
   "cell_type": "markdown",
   "metadata": {},
   "source": [
    "Users with 2+ (non-bounced) sessions were less likely to be new users on their first visit (~78% vs ~94% for 1 session users). This group also demonstrated stronger engagement by viewing more pages per session on average (~8.7 vs ~5.0) and longer average session durations (~350 vs ~170 seconds).\n",
    "\n",
    "Users with 2+ sessions had a significantly higher conversion rate (~5.8% vs ~1.1%), potentially due to their familiarity with the store or being further along the purchase decision timeline.\n",
    "The 2+ sessions group also had a higher AOV (~$153), indicating a higher willingness to spend and interest in store products. These strong statistics resulted in the 2+ sessions group generating ~331K in revenue compared to the 1 session groups ~93K in revenue, despite far less users (~13K vs ~108K) and total sessions (~37K vs ~108K).\n",
    "\n",
    "Recommendations:\n",
    "* Consider strategies to drive repeat visits (such as retargeting ads), leading to more converted users and generated revenue"
   ]
  },
  {
   "cell_type": "markdown",
   "metadata": {},
   "source": [
    "## Traffic Analysis\n",
    "Objective: Analyze traffic sources to determine the most effective channels"
   ]
  },
  {
   "cell_type": "code",
   "execution_count": 31,
   "metadata": {},
   "outputs": [
    {
     "data": {
      "text/html": [
       "<div>\n",
       "<style scoped>\n",
       "    .dataframe tbody tr th:only-of-type {\n",
       "        vertical-align: middle;\n",
       "    }\n",
       "\n",
       "    .dataframe tbody tr th {\n",
       "        vertical-align: top;\n",
       "    }\n",
       "\n",
       "    .dataframe thead th {\n",
       "        text-align: right;\n",
       "    }\n",
       "</style>\n",
       "<table border=\"1\" class=\"dataframe\">\n",
       "  <thead>\n",
       "    <tr style=\"text-align: right;\">\n",
       "      <th></th>\n",
       "      <th>channel</th>\n",
       "      <th>users</th>\n",
       "      <th>new_users</th>\n",
       "      <th>new_user_perc</th>\n",
       "      <th>sessions</th>\n",
       "      <th>transactions</th>\n",
       "      <th>conversion_rate</th>\n",
       "      <th>revenue</th>\n",
       "      <th>AOV</th>\n",
       "      <th>bounce_rate</th>\n",
       "      <th>avg_pages</th>\n",
       "      <th>avg_duration</th>\n",
       "    </tr>\n",
       "  </thead>\n",
       "  <tbody>\n",
       "    <tr>\n",
       "      <th>0</th>\n",
       "      <td>Referral</td>\n",
       "      <td>18961</td>\n",
       "      <td>14521</td>\n",
       "      <td>76.583514</td>\n",
       "      <td>28726</td>\n",
       "      <td>1545</td>\n",
       "      <td>5.378403</td>\n",
       "      <td>183117.24</td>\n",
       "      <td>118.522485</td>\n",
       "      <td>21.795586</td>\n",
       "      <td>7.168413</td>\n",
       "      <td>302.822625</td>\n",
       "    </tr>\n",
       "    <tr>\n",
       "      <th>1</th>\n",
       "      <td>Direct</td>\n",
       "      <td>26647</td>\n",
       "      <td>25073</td>\n",
       "      <td>94.093144</td>\n",
       "      <td>35153</td>\n",
       "      <td>569</td>\n",
       "      <td>1.618639</td>\n",
       "      <td>128161.65</td>\n",
       "      <td>225.240158</td>\n",
       "      <td>49.509288</td>\n",
       "      <td>4.184664</td>\n",
       "      <td>304.151549</td>\n",
       "    </tr>\n",
       "    <tr>\n",
       "      <th>2</th>\n",
       "      <td>Organic Search</td>\n",
       "      <td>80520</td>\n",
       "      <td>76782</td>\n",
       "      <td>95.357675</td>\n",
       "      <td>97346</td>\n",
       "      <td>995</td>\n",
       "      <td>1.022127</td>\n",
       "      <td>93571.82</td>\n",
       "      <td>94.042030</td>\n",
       "      <td>45.688575</td>\n",
       "      <td>4.319680</td>\n",
       "      <td>270.534849</td>\n",
       "    </tr>\n",
       "    <tr>\n",
       "      <th>3</th>\n",
       "      <td>Paid Search</td>\n",
       "      <td>6020</td>\n",
       "      <td>4959</td>\n",
       "      <td>82.375415</td>\n",
       "      <td>8020</td>\n",
       "      <td>164</td>\n",
       "      <td>2.044888</td>\n",
       "      <td>14028.37</td>\n",
       "      <td>85.538841</td>\n",
       "      <td>37.144638</td>\n",
       "      <td>5.340274</td>\n",
       "      <td>260.960796</td>\n",
       "    </tr>\n",
       "    <tr>\n",
       "      <th>4</th>\n",
       "      <td>Display</td>\n",
       "      <td>1443</td>\n",
       "      <td>630</td>\n",
       "      <td>43.659044</td>\n",
       "      <td>2093</td>\n",
       "      <td>34</td>\n",
       "      <td>1.624462</td>\n",
       "      <td>4728.45</td>\n",
       "      <td>139.072059</td>\n",
       "      <td>34.209269</td>\n",
       "      <td>5.242236</td>\n",
       "      <td>259.064822</td>\n",
       "    </tr>\n",
       "    <tr>\n",
       "      <th>5</th>\n",
       "      <td>Social</td>\n",
       "      <td>110350</td>\n",
       "      <td>109324</td>\n",
       "      <td>99.070231</td>\n",
       "      <td>115882</td>\n",
       "      <td>16</td>\n",
       "      <td>0.013807</td>\n",
       "      <td>1010.24</td>\n",
       "      <td>63.140000</td>\n",
       "      <td>62.221915</td>\n",
       "      <td>1.627825</td>\n",
       "      <td>80.495097</td>\n",
       "    </tr>\n",
       "    <tr>\n",
       "      <th>6</th>\n",
       "      <td>Affiliates</td>\n",
       "      <td>2766</td>\n",
       "      <td>2540</td>\n",
       "      <td>91.829356</td>\n",
       "      <td>3381</td>\n",
       "      <td>1</td>\n",
       "      <td>0.029577</td>\n",
       "      <td>12.99</td>\n",
       "      <td>12.990000</td>\n",
       "      <td>49.866903</td>\n",
       "      <td>2.937888</td>\n",
       "      <td>297.185799</td>\n",
       "    </tr>\n",
       "    <tr>\n",
       "      <th>7</th>\n",
       "      <td>(Other)</td>\n",
       "      <td>1</td>\n",
       "      <td>&lt;NA&gt;</td>\n",
       "      <td>NaN</td>\n",
       "      <td>1</td>\n",
       "      <td>&lt;NA&gt;</td>\n",
       "      <td>NaN</td>\n",
       "      <td>NaN</td>\n",
       "      <td>NaN</td>\n",
       "      <td>100.000000</td>\n",
       "      <td>1.000000</td>\n",
       "      <td>NaN</td>\n",
       "    </tr>\n",
       "  </tbody>\n",
       "</table>\n",
       "</div>"
      ],
      "text/plain": [
       "          channel   users  new_users  new_user_perc  sessions  transactions  \\\n",
       "0        Referral   18961      14521      76.583514     28726          1545   \n",
       "1          Direct   26647      25073      94.093144     35153           569   \n",
       "2  Organic Search   80520      76782      95.357675     97346           995   \n",
       "3     Paid Search    6020       4959      82.375415      8020           164   \n",
       "4         Display    1443        630      43.659044      2093            34   \n",
       "5          Social  110350     109324      99.070231    115882            16   \n",
       "6      Affiliates    2766       2540      91.829356      3381             1   \n",
       "7         (Other)       1       <NA>            NaN         1          <NA>   \n",
       "\n",
       "   conversion_rate    revenue         AOV  bounce_rate  avg_pages  \\\n",
       "0         5.378403  183117.24  118.522485    21.795586   7.168413   \n",
       "1         1.618639  128161.65  225.240158    49.509288   4.184664   \n",
       "2         1.022127   93571.82   94.042030    45.688575   4.319680   \n",
       "3         2.044888   14028.37   85.538841    37.144638   5.340274   \n",
       "4         1.624462    4728.45  139.072059    34.209269   5.242236   \n",
       "5         0.013807    1010.24   63.140000    62.221915   1.627825   \n",
       "6         0.029577      12.99   12.990000    49.866903   2.937888   \n",
       "7              NaN        NaN         NaN   100.000000   1.000000   \n",
       "\n",
       "   avg_duration  \n",
       "0    302.822625  \n",
       "1    304.151549  \n",
       "2    270.534849  \n",
       "3    260.960796  \n",
       "4    259.064822  \n",
       "5     80.495097  \n",
       "6    297.185799  \n",
       "7           NaN  "
      ]
     },
     "execution_count": 31,
     "metadata": {},
     "output_type": "execute_result"
    }
   ],
   "source": [
    "query = \"\"\"\n",
    "    SELECT\n",
    "        channel,\n",
    "        users,\n",
    "        new_users,\n",
    "        new_users / users * 100 AS new_user_perc,\n",
    "        sessions,\n",
    "        transactions,\n",
    "        transactions / sessions * 100 AS conversion_rate,\n",
    "        revenue,\n",
    "        revenue / transactions AS AOV,\n",
    "        bounces / sessions * 100 AS bounce_rate,\n",
    "        avg_pages,\n",
    "        avg_duration\n",
    "\n",
    "    FROM(\n",
    "        SELECT \n",
    "            channelGrouping AS channel,\n",
    "            COUNT(DISTINCT fullVisitorId) AS users,\n",
    "            SUM(totals.newVisits) AS new_users,\n",
    "            SUM(totals.visits) as sessions,\n",
    "            SUM(totals.transactions) AS transactions,\n",
    "            SUM(totals.totaltransactionRevenue)/1000000 AS revenue,\n",
    "            SUM(totals.bounces) AS bounces,\n",
    "            AVG(totals.pageviews) AS avg_pages,\n",
    "            AVG(totals.timeOnSite) AS avg_duration\n",
    "        FROM \n",
    "            `bigquery-public-data.google_analytics_sample.ga_sessions_*`\n",
    "        WHERE\n",
    "            _TABLE_SUFFIX BETWEEN '20161001' AND '20161231'\n",
    "        GROUP BY\n",
    "            channel\n",
    "        ORDER BY \n",
    "            revenue DESC\n",
    "    )\n",
    "\"\"\"\n",
    "result = client.query(query)\n",
    "df = result.to_dataframe()\n",
    "df.head(10)"
   ]
  },
  {
   "cell_type": "markdown",
   "metadata": {},
   "source": [
    "Referral generated the highest revenue (~$183K), highest conversion rate (~5.4%), lowest bounce rate (~22%), highest average page views (~7.2) and second longest average session duration (~300 sec). The referral channel was also more likely to obtain return users (~77% new user percentage). This shows that the Referral channel brings in well-qualified traffic.\n",
    "\n",
    "Direct had the second highest revenue (~$128K) and highest AOV (~$225), indicating users from this channel have high willingness to spend. The poor bounce rate (~50%) for the Direct channel potentially indicates page loading or content issues on entry pages, as we expect users with a direct link to be considerabely motivated to engage with the site. The average session duration (recall this statistic is for non-bounced sessions) is the highest at ~300 secs, furthering this theory. \n",
    "\n",
    "Organic Search provided high traffic (~81K users) and substantial revenue(~$94K), with users showing moderate engagement (~46% bounce rate).\n",
    "\n",
    "Paid Search performed well in conversions (~2%) and bounce rate (~37%) relative to a low amount of traffic (~6K). Display Ads channel had similar performance in conversions (~1.6%) and bounce rate (~34%) with low traffic (~1k). This demonstrates value in these targeted advertising efforts.\n",
    "\n",
    "Social generated the most traffic (~110K) but performed poorly in conversion rate (~0%) and had the highest bounce rate (~62%), indicating potential targeting or content issues. The Affiliates channel had similar poor performance in conversion rate (~0%) and bounce rates (~50%), also indicating targeting or content issues.\n",
    "\n",
    "Recommendations:\n",
    "1. Increase focus on Referral channel by strengthening partnerships.\n",
    "2. Reevaluate Social and Affiliates strategies to improve targeting and content relevance"
   ]
  },
  {
   "cell_type": "markdown",
   "metadata": {},
   "source": [
    "## Load Time Analysis\n",
    "Objective: investigate page load times to identify potential site performance issues"
   ]
  },
  {
   "cell_type": "code",
   "execution_count": 32,
   "metadata": {},
   "outputs": [
    {
     "data": {
      "text/html": [
       "<div>\n",
       "<style scoped>\n",
       "    .dataframe tbody tr th:only-of-type {\n",
       "        vertical-align: middle;\n",
       "    }\n",
       "\n",
       "    .dataframe tbody tr th {\n",
       "        vertical-align: top;\n",
       "    }\n",
       "\n",
       "    .dataframe thead th {\n",
       "        text-align: right;\n",
       "    }\n",
       "</style>\n",
       "<table border=\"1\" class=\"dataframe\">\n",
       "  <thead>\n",
       "    <tr style=\"text-align: right;\">\n",
       "      <th></th>\n",
       "      <th>page_path</th>\n",
       "      <th>hits_sample</th>\n",
       "      <th>median_load_time</th>\n",
       "      <th>avg_load_time</th>\n",
       "      <th>min_load_time</th>\n",
       "      <th>max_load_time</th>\n",
       "    </tr>\n",
       "  </thead>\n",
       "  <tbody>\n",
       "    <tr>\n",
       "      <th>0</th>\n",
       "      <td>/ordercompleted.html</td>\n",
       "      <td>44</td>\n",
       "      <td>8.003</td>\n",
       "      <td>10.652295</td>\n",
       "      <td>5.802</td>\n",
       "      <td>33.235</td>\n",
       "    </tr>\n",
       "    <tr>\n",
       "      <th>1</th>\n",
       "      <td>/storeitem.html</td>\n",
       "      <td>13</td>\n",
       "      <td>6.702</td>\n",
       "      <td>7.126923</td>\n",
       "      <td>3.363</td>\n",
       "      <td>14.335</td>\n",
       "    </tr>\n",
       "    <tr>\n",
       "      <th>2</th>\n",
       "      <td>/registersuccess.html</td>\n",
       "      <td>53</td>\n",
       "      <td>6.218</td>\n",
       "      <td>6.501755</td>\n",
       "      <td>1.951</td>\n",
       "      <td>11.894</td>\n",
       "    </tr>\n",
       "    <tr>\n",
       "      <th>3</th>\n",
       "      <td>/google redesign/</td>\n",
       "      <td>7</td>\n",
       "      <td>5.868</td>\n",
       "      <td>6.740571</td>\n",
       "      <td>4.742</td>\n",
       "      <td>10.391</td>\n",
       "    </tr>\n",
       "    <tr>\n",
       "      <th>4</th>\n",
       "      <td>/store.html</td>\n",
       "      <td>239</td>\n",
       "      <td>4.953</td>\n",
       "      <td>6.138561</td>\n",
       "      <td>0.472</td>\n",
       "      <td>75.935</td>\n",
       "    </tr>\n",
       "    <tr>\n",
       "      <th>5</th>\n",
       "      <td>/home</td>\n",
       "      <td>3058</td>\n",
       "      <td>4.772</td>\n",
       "      <td>7.656392</td>\n",
       "      <td>0.334</td>\n",
       "      <td>504.377</td>\n",
       "    </tr>\n",
       "    <tr>\n",
       "      <th>6</th>\n",
       "      <td>/home-2</td>\n",
       "      <td>41</td>\n",
       "      <td>4.200</td>\n",
       "      <td>5.361122</td>\n",
       "      <td>0.644</td>\n",
       "      <td>14.775</td>\n",
       "    </tr>\n",
       "    <tr>\n",
       "      <th>7</th>\n",
       "      <td>/asearch.html/</td>\n",
       "      <td>47</td>\n",
       "      <td>4.144</td>\n",
       "      <td>5.127723</td>\n",
       "      <td>1.357</td>\n",
       "      <td>13.131</td>\n",
       "    </tr>\n",
       "    <tr>\n",
       "      <th>8</th>\n",
       "      <td>/yourinfo.html</td>\n",
       "      <td>71</td>\n",
       "      <td>3.920</td>\n",
       "      <td>4.558028</td>\n",
       "      <td>1.697</td>\n",
       "      <td>13.550</td>\n",
       "    </tr>\n",
       "    <tr>\n",
       "      <th>9</th>\n",
       "      <td>/basket.html</td>\n",
       "      <td>557</td>\n",
       "      <td>3.646</td>\n",
       "      <td>4.584485</td>\n",
       "      <td>1.369</td>\n",
       "      <td>27.923</td>\n",
       "    </tr>\n",
       "    <tr>\n",
       "      <th>10</th>\n",
       "      <td>/payment.html</td>\n",
       "      <td>52</td>\n",
       "      <td>3.582</td>\n",
       "      <td>4.181577</td>\n",
       "      <td>1.811</td>\n",
       "      <td>13.691</td>\n",
       "    </tr>\n",
       "    <tr>\n",
       "      <th>11</th>\n",
       "      <td>/asearch.html</td>\n",
       "      <td>175</td>\n",
       "      <td>3.471</td>\n",
       "      <td>4.931457</td>\n",
       "      <td>1.206</td>\n",
       "      <td>62.268</td>\n",
       "    </tr>\n",
       "    <tr>\n",
       "      <th>12</th>\n",
       "      <td>/store.html/</td>\n",
       "      <td>17</td>\n",
       "      <td>3.414</td>\n",
       "      <td>4.454294</td>\n",
       "      <td>2.590</td>\n",
       "      <td>8.647</td>\n",
       "    </tr>\n",
       "    <tr>\n",
       "      <th>13</th>\n",
       "      <td>/google+redesign/</td>\n",
       "      <td>4750</td>\n",
       "      <td>3.261</td>\n",
       "      <td>5.187541</td>\n",
       "      <td>0.480</td>\n",
       "      <td>283.577</td>\n",
       "    </tr>\n",
       "    <tr>\n",
       "      <th>14</th>\n",
       "      <td>/signin.html</td>\n",
       "      <td>286</td>\n",
       "      <td>3.048</td>\n",
       "      <td>4.601238</td>\n",
       "      <td>0.986</td>\n",
       "      <td>58.672</td>\n",
       "    </tr>\n",
       "  </tbody>\n",
       "</table>\n",
       "</div>"
      ],
      "text/plain": [
       "                page_path  hits_sample  median_load_time  avg_load_time  \\\n",
       "0    /ordercompleted.html           44             8.003      10.652295   \n",
       "1         /storeitem.html           13             6.702       7.126923   \n",
       "2   /registersuccess.html           53             6.218       6.501755   \n",
       "3       /google redesign/            7             5.868       6.740571   \n",
       "4             /store.html          239             4.953       6.138561   \n",
       "5                   /home         3058             4.772       7.656392   \n",
       "6                 /home-2           41             4.200       5.361122   \n",
       "7          /asearch.html/           47             4.144       5.127723   \n",
       "8          /yourinfo.html           71             3.920       4.558028   \n",
       "9            /basket.html          557             3.646       4.584485   \n",
       "10          /payment.html           52             3.582       4.181577   \n",
       "11          /asearch.html          175             3.471       4.931457   \n",
       "12           /store.html/           17             3.414       4.454294   \n",
       "13      /google+redesign/         4750             3.261       5.187541   \n",
       "14           /signin.html          286             3.048       4.601238   \n",
       "\n",
       "    min_load_time  max_load_time  \n",
       "0           5.802         33.235  \n",
       "1           3.363         14.335  \n",
       "2           1.951         11.894  \n",
       "3           4.742         10.391  \n",
       "4           0.472         75.935  \n",
       "5           0.334        504.377  \n",
       "6           0.644         14.775  \n",
       "7           1.357         13.131  \n",
       "8           1.697         13.550  \n",
       "9           1.369         27.923  \n",
       "10          1.811         13.691  \n",
       "11          1.206         62.268  \n",
       "12          2.590          8.647  \n",
       "13          0.480        283.577  \n",
       "14          0.986         58.672  "
      ]
     },
     "execution_count": 32,
     "metadata": {},
     "output_type": "execute_result"
    }
   ],
   "source": [
    "query = \"\"\"\n",
    "    SELECT\n",
    "        hits.page.pagePathLevel1 AS page_path,\n",
    "        COUNT(*) AS hits_sample,\n",
    "        APPROX_QUANTILES(hits.latencyTracking.pageLoadTime, 100)[OFFSET(50)] / 1000 AS median_load_time,\n",
    "        AVG(hits.latencyTracking.pageLoadTime) / 1000 AS avg_load_time,\n",
    "        MIN(hits.latencyTracking.pageLoadTime) / 1000 AS min_load_time,\n",
    "        MAX(hits.latencyTracking.pageLoadTime) / 1000 AS max_load_time,\n",
    "    FROM\n",
    "        `bigquery-public-data.google_analytics_sample.ga_sessions_*`,\n",
    "        UNNEST(hits) AS hits\n",
    "    WHERE\n",
    "        _TABLE_SUFFIX BETWEEN '20161001' AND '20161231'\n",
    "    AND\n",
    "        hits.latencyTracking.pageLoadTime IS NOT NULL\n",
    "    GROUP BY\n",
    "        page_path\n",
    "    ORDER BY\n",
    "        median_load_time DESC\n",
    "    LIMIT 15\n",
    "\"\"\"\n",
    "\n",
    "result = client.query(query)\n",
    "df = result.to_dataframe()\n",
    "df.head(15)"
   ]
  },
  {
   "cell_type": "markdown",
   "metadata": {},
   "source": [
    "Critical page paths such as the order completed page (~8.0 sec) and store item page (~6.7 sec) had very high median load times. The basket and payment pages also had concerning median load times ~3.6 sec. These pages should be reviewed for optimization to ensure a smooth and fast checkout process.\n",
    "\n",
    "Previously identified high overall views and entrance views pages also had concerning load times. The /google+redesign/ store front pages had a median load time of ~3.3 sec, and the home page had a median load time of ~4.8 sec. Users may be more likely to bounce or exit the site if frustrated by long load times.\n",
    "\n",
    "Load times should be targeted at 1-2 seconds as research shows that [conversions are optimal at these load times](https://portent.com/blog/analytics/research-site-speed-hurting-everyones-revenue.htm#:~:text=To%20Improve%20Transaction%20Conversions%3A%20Aim%20for%20a%201%2D2%20Second%20Load%20Time)."
   ]
  },
  {
   "cell_type": "markdown",
   "metadata": {},
   "source": [
    "### Load Times by Device"
   ]
  },
  {
   "cell_type": "code",
   "execution_count": 33,
   "metadata": {},
   "outputs": [
    {
     "data": {
      "text/html": [
       "<div>\n",
       "<style scoped>\n",
       "    .dataframe tbody tr th:only-of-type {\n",
       "        vertical-align: middle;\n",
       "    }\n",
       "\n",
       "    .dataframe tbody tr th {\n",
       "        vertical-align: top;\n",
       "    }\n",
       "\n",
       "    .dataframe thead th {\n",
       "        text-align: right;\n",
       "    }\n",
       "</style>\n",
       "<table border=\"1\" class=\"dataframe\">\n",
       "  <thead>\n",
       "    <tr style=\"text-align: right;\">\n",
       "      <th></th>\n",
       "      <th>device</th>\n",
       "      <th>hits_sample</th>\n",
       "      <th>median_load_time</th>\n",
       "      <th>avg_load_time</th>\n",
       "      <th>min_load_time</th>\n",
       "      <th>max_load_time</th>\n",
       "    </tr>\n",
       "  </thead>\n",
       "  <tbody>\n",
       "    <tr>\n",
       "      <th>0</th>\n",
       "      <td>mobile</td>\n",
       "      <td>1898</td>\n",
       "      <td>4.868</td>\n",
       "      <td>6.499597</td>\n",
       "      <td>0.410</td>\n",
       "      <td>141.769</td>\n",
       "    </tr>\n",
       "    <tr>\n",
       "      <th>1</th>\n",
       "      <td>tablet</td>\n",
       "      <td>390</td>\n",
       "      <td>4.696</td>\n",
       "      <td>6.905218</td>\n",
       "      <td>0.727</td>\n",
       "      <td>105.977</td>\n",
       "    </tr>\n",
       "    <tr>\n",
       "      <th>2</th>\n",
       "      <td>desktop</td>\n",
       "      <td>7399</td>\n",
       "      <td>3.390</td>\n",
       "      <td>5.674249</td>\n",
       "      <td>0.334</td>\n",
       "      <td>504.377</td>\n",
       "    </tr>\n",
       "  </tbody>\n",
       "</table>\n",
       "</div>"
      ],
      "text/plain": [
       "    device  hits_sample  median_load_time  avg_load_time  min_load_time  \\\n",
       "0   mobile         1898             4.868       6.499597          0.410   \n",
       "1   tablet          390             4.696       6.905218          0.727   \n",
       "2  desktop         7399             3.390       5.674249          0.334   \n",
       "\n",
       "   max_load_time  \n",
       "0        141.769  \n",
       "1        105.977  \n",
       "2        504.377  "
      ]
     },
     "execution_count": 33,
     "metadata": {},
     "output_type": "execute_result"
    }
   ],
   "source": [
    "query = \"\"\"\n",
    "    SELECT\n",
    "        device.deviceCategory AS device,\n",
    "        COUNT(*) AS hits_sample,\n",
    "        APPROX_QUANTILES(hits.latencyTracking.pageLoadTime, 100)[OFFSET(50)] / 1000 AS median_load_time,\n",
    "        AVG(hits.latencyTracking.pageLoadTime) / 1000 AS avg_load_time,\n",
    "        MIN(hits.latencyTracking.pageLoadTime) / 1000 AS min_load_time,\n",
    "        MAX(hits.latencyTracking.pageLoadTime) / 1000 AS max_load_time,\n",
    "    FROM\n",
    "        `bigquery-public-data.google_analytics_sample.ga_sessions_*`,\n",
    "        UNNEST(hits) AS hits\n",
    "    WHERE\n",
    "        _TABLE_SUFFIX BETWEEN '20161001' AND '20161231'\n",
    "    AND\n",
    "        hits.latencyTracking.pageLoadTime IS NOT NULL\n",
    "    GROUP BY\n",
    "        device\n",
    "    ORDER BY\n",
    "        median_load_time DESC\n",
    "\"\"\"\n",
    "\n",
    "result = client.query(query)\n",
    "df = result.to_dataframe()\n",
    "df.head()"
   ]
  },
  {
   "cell_type": "markdown",
   "metadata": {},
   "source": [
    "Load times were worse on mobile and tablet devices (~4.9 secs and ~4.7 secs median load times) in comparison to desktop devices (~3.4 secs). Improving site performance on these devices could lead to increased engagement and conversions."
   ]
  },
  {
   "cell_type": "markdown",
   "metadata": {},
   "source": [
    "### Load Times by Country\n",
    "Let's investigate the effect of geographical region on load times"
   ]
  },
  {
   "cell_type": "code",
   "execution_count": 34,
   "metadata": {},
   "outputs": [
    {
     "data": {
      "text/html": [
       "<div>\n",
       "<style scoped>\n",
       "    .dataframe tbody tr th:only-of-type {\n",
       "        vertical-align: middle;\n",
       "    }\n",
       "\n",
       "    .dataframe tbody tr th {\n",
       "        vertical-align: top;\n",
       "    }\n",
       "\n",
       "    .dataframe thead th {\n",
       "        text-align: right;\n",
       "    }\n",
       "</style>\n",
       "<table border=\"1\" class=\"dataframe\">\n",
       "  <thead>\n",
       "    <tr style=\"text-align: right;\">\n",
       "      <th></th>\n",
       "      <th>country</th>\n",
       "      <th>hits_sample</th>\n",
       "      <th>median_load_time</th>\n",
       "      <th>avg_load_time</th>\n",
       "      <th>min_load_time</th>\n",
       "      <th>max_load_time</th>\n",
       "    </tr>\n",
       "  </thead>\n",
       "  <tbody>\n",
       "    <tr>\n",
       "      <th>0</th>\n",
       "      <td>Lebanon</td>\n",
       "      <td>1</td>\n",
       "      <td>114.196</td>\n",
       "      <td>114.196000</td>\n",
       "      <td>114.196</td>\n",
       "      <td>114.196</td>\n",
       "    </tr>\n",
       "    <tr>\n",
       "      <th>1</th>\n",
       "      <td>Senegal</td>\n",
       "      <td>1</td>\n",
       "      <td>51.720</td>\n",
       "      <td>51.720000</td>\n",
       "      <td>51.720</td>\n",
       "      <td>51.720</td>\n",
       "    </tr>\n",
       "    <tr>\n",
       "      <th>2</th>\n",
       "      <td>Cyprus</td>\n",
       "      <td>6</td>\n",
       "      <td>28.820</td>\n",
       "      <td>29.960667</td>\n",
       "      <td>18.154</td>\n",
       "      <td>42.576</td>\n",
       "    </tr>\n",
       "    <tr>\n",
       "      <th>3</th>\n",
       "      <td>Ghana</td>\n",
       "      <td>1</td>\n",
       "      <td>28.680</td>\n",
       "      <td>28.680000</td>\n",
       "      <td>28.680</td>\n",
       "      <td>28.680</td>\n",
       "    </tr>\n",
       "    <tr>\n",
       "      <th>4</th>\n",
       "      <td>Bangladesh</td>\n",
       "      <td>9</td>\n",
       "      <td>24.895</td>\n",
       "      <td>35.262667</td>\n",
       "      <td>5.713</td>\n",
       "      <td>119.934</td>\n",
       "    </tr>\n",
       "    <tr>\n",
       "      <th>5</th>\n",
       "      <td>South Africa</td>\n",
       "      <td>14</td>\n",
       "      <td>23.334</td>\n",
       "      <td>20.565500</td>\n",
       "      <td>4.947</td>\n",
       "      <td>26.688</td>\n",
       "    </tr>\n",
       "    <tr>\n",
       "      <th>6</th>\n",
       "      <td>Azerbaijan</td>\n",
       "      <td>1</td>\n",
       "      <td>19.341</td>\n",
       "      <td>19.341000</td>\n",
       "      <td>19.341</td>\n",
       "      <td>19.341</td>\n",
       "    </tr>\n",
       "    <tr>\n",
       "      <th>7</th>\n",
       "      <td>Pakistan</td>\n",
       "      <td>31</td>\n",
       "      <td>15.425</td>\n",
       "      <td>25.247097</td>\n",
       "      <td>5.159</td>\n",
       "      <td>91.971</td>\n",
       "    </tr>\n",
       "    <tr>\n",
       "      <th>8</th>\n",
       "      <td>Lithuania</td>\n",
       "      <td>3</td>\n",
       "      <td>13.028</td>\n",
       "      <td>13.028000</td>\n",
       "      <td>13.028</td>\n",
       "      <td>13.028</td>\n",
       "    </tr>\n",
       "    <tr>\n",
       "      <th>9</th>\n",
       "      <td>Monaco</td>\n",
       "      <td>2</td>\n",
       "      <td>12.974</td>\n",
       "      <td>31.082000</td>\n",
       "      <td>12.974</td>\n",
       "      <td>49.190</td>\n",
       "    </tr>\n",
       "  </tbody>\n",
       "</table>\n",
       "</div>"
      ],
      "text/plain": [
       "        country  hits_sample  median_load_time  avg_load_time  min_load_time  \\\n",
       "0       Lebanon            1           114.196     114.196000        114.196   \n",
       "1       Senegal            1            51.720      51.720000         51.720   \n",
       "2        Cyprus            6            28.820      29.960667         18.154   \n",
       "3         Ghana            1            28.680      28.680000         28.680   \n",
       "4    Bangladesh            9            24.895      35.262667          5.713   \n",
       "5  South Africa           14            23.334      20.565500          4.947   \n",
       "6    Azerbaijan            1            19.341      19.341000         19.341   \n",
       "7      Pakistan           31            15.425      25.247097          5.159   \n",
       "8     Lithuania            3            13.028      13.028000         13.028   \n",
       "9        Monaco            2            12.974      31.082000         12.974   \n",
       "\n",
       "   max_load_time  \n",
       "0        114.196  \n",
       "1         51.720  \n",
       "2         42.576  \n",
       "3         28.680  \n",
       "4        119.934  \n",
       "5         26.688  \n",
       "6         19.341  \n",
       "7         91.971  \n",
       "8         13.028  \n",
       "9         49.190  "
      ]
     },
     "execution_count": 34,
     "metadata": {},
     "output_type": "execute_result"
    }
   ],
   "source": [
    "query = \"\"\"\n",
    "    SELECT\n",
    "        geoNetwork.country AS country,\n",
    "        COUNT(*) AS hits_sample,\n",
    "        APPROX_QUANTILES(hits.latencyTracking.pageLoadTime, 100)[OFFSET(50)] / 1000 AS median_load_time,\n",
    "        AVG(hits.latencyTracking.pageLoadTime) / 1000 AS avg_load_time,\n",
    "        MIN(hits.latencyTracking.pageLoadTime) / 1000 AS min_load_time,\n",
    "        MAX(hits.latencyTracking.pageLoadTime) / 1000 AS max_load_time,\n",
    "    FROM\n",
    "        `bigquery-public-data.google_analytics_sample.ga_sessions_*`,\n",
    "        UNNEST(hits) AS hits\n",
    "    WHERE\n",
    "        _TABLE_SUFFIX BETWEEN '20161001' AND '20161231'\n",
    "    AND\n",
    "        hits.latencyTracking.pageLoadTime IS NOT NULL\n",
    "    GROUP BY\n",
    "        country\n",
    "    ORDER BY\n",
    "        median_load_time DESC\n",
    "    LIMIT 10\n",
    "\"\"\"\n",
    "\n",
    "result = client.query(query)\n",
    "df = result.to_dataframe()\n",
    "df.head(10)"
   ]
  },
  {
   "cell_type": "code",
   "execution_count": 35,
   "metadata": {},
   "outputs": [
    {
     "data": {
      "text/html": [
       "<div>\n",
       "<style scoped>\n",
       "    .dataframe tbody tr th:only-of-type {\n",
       "        vertical-align: middle;\n",
       "    }\n",
       "\n",
       "    .dataframe tbody tr th {\n",
       "        vertical-align: top;\n",
       "    }\n",
       "\n",
       "    .dataframe thead th {\n",
       "        text-align: right;\n",
       "    }\n",
       "</style>\n",
       "<table border=\"1\" class=\"dataframe\">\n",
       "  <thead>\n",
       "    <tr style=\"text-align: right;\">\n",
       "      <th></th>\n",
       "      <th>country</th>\n",
       "      <th>hits_sample</th>\n",
       "      <th>median_load_time</th>\n",
       "      <th>avg_load_time</th>\n",
       "      <th>min_load_time</th>\n",
       "      <th>max_load_time</th>\n",
       "    </tr>\n",
       "  </thead>\n",
       "  <tbody>\n",
       "    <tr>\n",
       "      <th>0</th>\n",
       "      <td>Guatemala</td>\n",
       "      <td>4</td>\n",
       "      <td>1.823</td>\n",
       "      <td>3.401750</td>\n",
       "      <td>0.810</td>\n",
       "      <td>6.810</td>\n",
       "    </tr>\n",
       "    <tr>\n",
       "      <th>1</th>\n",
       "      <td>Austria</td>\n",
       "      <td>92</td>\n",
       "      <td>2.213</td>\n",
       "      <td>2.529380</td>\n",
       "      <td>0.569</td>\n",
       "      <td>8.585</td>\n",
       "    </tr>\n",
       "    <tr>\n",
       "      <th>2</th>\n",
       "      <td>Trinidad &amp; Tobago</td>\n",
       "      <td>1</td>\n",
       "      <td>2.614</td>\n",
       "      <td>2.614000</td>\n",
       "      <td>2.614</td>\n",
       "      <td>2.614</td>\n",
       "    </tr>\n",
       "    <tr>\n",
       "      <th>3</th>\n",
       "      <td>Sri Lanka</td>\n",
       "      <td>19</td>\n",
       "      <td>2.711</td>\n",
       "      <td>4.312000</td>\n",
       "      <td>1.780</td>\n",
       "      <td>14.372</td>\n",
       "    </tr>\n",
       "    <tr>\n",
       "      <th>4</th>\n",
       "      <td>Switzerland</td>\n",
       "      <td>14</td>\n",
       "      <td>2.763</td>\n",
       "      <td>2.603857</td>\n",
       "      <td>0.770</td>\n",
       "      <td>5.410</td>\n",
       "    </tr>\n",
       "    <tr>\n",
       "      <th>5</th>\n",
       "      <td>South Korea</td>\n",
       "      <td>101</td>\n",
       "      <td>2.857</td>\n",
       "      <td>3.287069</td>\n",
       "      <td>1.073</td>\n",
       "      <td>11.535</td>\n",
       "    </tr>\n",
       "    <tr>\n",
       "      <th>6</th>\n",
       "      <td>(not set)</td>\n",
       "      <td>8</td>\n",
       "      <td>2.865</td>\n",
       "      <td>6.830750</td>\n",
       "      <td>1.017</td>\n",
       "      <td>32.366</td>\n",
       "    </tr>\n",
       "    <tr>\n",
       "      <th>7</th>\n",
       "      <td>Poland</td>\n",
       "      <td>109</td>\n",
       "      <td>2.916</td>\n",
       "      <td>4.485982</td>\n",
       "      <td>0.696</td>\n",
       "      <td>81.156</td>\n",
       "    </tr>\n",
       "    <tr>\n",
       "      <th>8</th>\n",
       "      <td>United States</td>\n",
       "      <td>5441</td>\n",
       "      <td>2.955</td>\n",
       "      <td>4.283220</td>\n",
       "      <td>0.334</td>\n",
       "      <td>504.377</td>\n",
       "    </tr>\n",
       "    <tr>\n",
       "      <th>9</th>\n",
       "      <td>Denmark</td>\n",
       "      <td>40</td>\n",
       "      <td>2.961</td>\n",
       "      <td>3.360275</td>\n",
       "      <td>0.969</td>\n",
       "      <td>10.231</td>\n",
       "    </tr>\n",
       "  </tbody>\n",
       "</table>\n",
       "</div>"
      ],
      "text/plain": [
       "             country  hits_sample  median_load_time  avg_load_time  \\\n",
       "0          Guatemala            4             1.823       3.401750   \n",
       "1            Austria           92             2.213       2.529380   \n",
       "2  Trinidad & Tobago            1             2.614       2.614000   \n",
       "3          Sri Lanka           19             2.711       4.312000   \n",
       "4        Switzerland           14             2.763       2.603857   \n",
       "5        South Korea          101             2.857       3.287069   \n",
       "6          (not set)            8             2.865       6.830750   \n",
       "7             Poland          109             2.916       4.485982   \n",
       "8      United States         5441             2.955       4.283220   \n",
       "9            Denmark           40             2.961       3.360275   \n",
       "\n",
       "   min_load_time  max_load_time  \n",
       "0          0.810          6.810  \n",
       "1          0.569          8.585  \n",
       "2          2.614          2.614  \n",
       "3          1.780         14.372  \n",
       "4          0.770          5.410  \n",
       "5          1.073         11.535  \n",
       "6          1.017         32.366  \n",
       "7          0.696         81.156  \n",
       "8          0.334        504.377  \n",
       "9          0.969         10.231  "
      ]
     },
     "execution_count": 35,
     "metadata": {},
     "output_type": "execute_result"
    }
   ],
   "source": [
    "query = \"\"\"\n",
    "    SELECT\n",
    "        geoNetwork.country AS country,\n",
    "        COUNT(*) AS hits_sample,\n",
    "        APPROX_QUANTILES(hits.latencyTracking.pageLoadTime, 100)[OFFSET(50)] / 1000 AS median_load_time,\n",
    "        AVG(hits.latencyTracking.pageLoadTime) / 1000 AS avg_load_time,\n",
    "        MIN(hits.latencyTracking.pageLoadTime) / 1000 AS min_load_time,\n",
    "        MAX(hits.latencyTracking.pageLoadTime) / 1000 AS max_load_time,\n",
    "    FROM\n",
    "        `bigquery-public-data.google_analytics_sample.ga_sessions_*`,\n",
    "        UNNEST(hits) AS hits\n",
    "    WHERE\n",
    "        _TABLE_SUFFIX BETWEEN '20161001' AND '20161231'\n",
    "    AND\n",
    "        hits.latencyTracking.pageLoadTime IS NOT NULL\n",
    "    GROUP BY\n",
    "        country\n",
    "    ORDER BY\n",
    "        median_load_time ASC\n",
    "    LIMIT 10\n",
    "\"\"\"\n",
    "\n",
    "result = client.query(query)\n",
    "df = result.to_dataframe()\n",
    "df.head(10)"
   ]
  },
  {
   "cell_type": "code",
   "execution_count": 36,
   "metadata": {},
   "outputs": [
    {
     "data": {
      "text/html": [
       "<div>\n",
       "<style scoped>\n",
       "    .dataframe tbody tr th:only-of-type {\n",
       "        vertical-align: middle;\n",
       "    }\n",
       "\n",
       "    .dataframe tbody tr th {\n",
       "        vertical-align: top;\n",
       "    }\n",
       "\n",
       "    .dataframe thead th {\n",
       "        text-align: right;\n",
       "    }\n",
       "</style>\n",
       "<table border=\"1\" class=\"dataframe\">\n",
       "  <thead>\n",
       "    <tr style=\"text-align: right;\">\n",
       "      <th></th>\n",
       "      <th>country</th>\n",
       "      <th>hits_sample</th>\n",
       "      <th>median_load_time</th>\n",
       "      <th>avg_load_time</th>\n",
       "      <th>min_load_time</th>\n",
       "      <th>max_load_time</th>\n",
       "    </tr>\n",
       "  </thead>\n",
       "  <tbody>\n",
       "    <tr>\n",
       "      <th>0</th>\n",
       "      <td>India</td>\n",
       "      <td>266</td>\n",
       "      <td>8.458</td>\n",
       "      <td>14.133019</td>\n",
       "      <td>0.923</td>\n",
       "      <td>180.235</td>\n",
       "    </tr>\n",
       "    <tr>\n",
       "      <th>1</th>\n",
       "      <td>Thailand</td>\n",
       "      <td>215</td>\n",
       "      <td>6.476</td>\n",
       "      <td>10.111009</td>\n",
       "      <td>2.190</td>\n",
       "      <td>101.754</td>\n",
       "    </tr>\n",
       "    <tr>\n",
       "      <th>2</th>\n",
       "      <td>Vietnam</td>\n",
       "      <td>213</td>\n",
       "      <td>6.456</td>\n",
       "      <td>8.704333</td>\n",
       "      <td>1.139</td>\n",
       "      <td>67.448</td>\n",
       "    </tr>\n",
       "    <tr>\n",
       "      <th>3</th>\n",
       "      <td>Canada</td>\n",
       "      <td>257</td>\n",
       "      <td>3.392</td>\n",
       "      <td>4.277973</td>\n",
       "      <td>0.340</td>\n",
       "      <td>37.315</td>\n",
       "    </tr>\n",
       "    <tr>\n",
       "      <th>4</th>\n",
       "      <td>Puerto Rico</td>\n",
       "      <td>3</td>\n",
       "      <td>3.204</td>\n",
       "      <td>4.325333</td>\n",
       "      <td>2.603</td>\n",
       "      <td>7.169</td>\n",
       "    </tr>\n",
       "    <tr>\n",
       "      <th>5</th>\n",
       "      <td>United States</td>\n",
       "      <td>5441</td>\n",
       "      <td>2.955</td>\n",
       "      <td>4.283220</td>\n",
       "      <td>0.334</td>\n",
       "      <td>504.377</td>\n",
       "    </tr>\n",
       "  </tbody>\n",
       "</table>\n",
       "</div>"
      ],
      "text/plain": [
       "         country  hits_sample  median_load_time  avg_load_time  min_load_time  \\\n",
       "0          India          266             8.458      14.133019          0.923   \n",
       "1       Thailand          215             6.476      10.111009          2.190   \n",
       "2        Vietnam          213             6.456       8.704333          1.139   \n",
       "3         Canada          257             3.392       4.277973          0.340   \n",
       "4    Puerto Rico            3             3.204       4.325333          2.603   \n",
       "5  United States         5441             2.955       4.283220          0.334   \n",
       "\n",
       "   max_load_time  \n",
       "0        180.235  \n",
       "1        101.754  \n",
       "2         67.448  \n",
       "3         37.315  \n",
       "4          7.169  \n",
       "5        504.377  "
      ]
     },
     "execution_count": 36,
     "metadata": {},
     "output_type": "execute_result"
    }
   ],
   "source": [
    "query = \"\"\"\n",
    "    SELECT\n",
    "        geoNetwork.country AS country,\n",
    "        COUNT(*) AS hits_sample,\n",
    "        APPROX_QUANTILES(hits.latencyTracking.pageLoadTime, 100)[OFFSET(50)] / 1000 AS median_load_time,\n",
    "        AVG(hits.latencyTracking.pageLoadTime) / 1000 AS avg_load_time,\n",
    "        MIN(hits.latencyTracking.pageLoadTime) / 1000 AS min_load_time,\n",
    "        MAX(hits.latencyTracking.pageLoadTime) / 1000 AS max_load_time,\n",
    "    FROM\n",
    "        `bigquery-public-data.google_analytics_sample.ga_sessions_*`,\n",
    "        UNNEST(hits) AS hits\n",
    "    WHERE\n",
    "        _TABLE_SUFFIX BETWEEN '20161001' AND '20161231'\n",
    "    AND\n",
    "        hits.latencyTracking.pageLoadTime IS NOT NULL\n",
    "    AND\n",
    "        geoNetwork.country IN ('United States', 'Canada', 'Puerto Rico', 'India', 'Vietnam', 'Thailand')\n",
    "    GROUP BY\n",
    "        country\n",
    "    ORDER BY\n",
    "        median_load_time DESC\n",
    "    LIMIT 10\n",
    "\"\"\"\n",
    "\n",
    "result = client.query(query)\n",
    "df = result.to_dataframe()\n",
    "df.head(10)"
   ]
  },
  {
   "cell_type": "markdown",
   "metadata": {},
   "source": [
    "Geographic region has a high influence on latency. Lebanon had the highest median load time ~114 secs, whilst Guatemala had the lowest median load time ~2 secs, however the sample size for this data is extremely low (1 and 4).\n",
    "\n",
    "The United States had the 9th fastest median load time (~3 secs), but still falls short of the target 1-2 secs. Considering the high proportion of users from the US, this region should be used as a benchmark for latency and site performance improvents (without extreme hinderance to other regions)."
   ]
  },
  {
   "cell_type": "markdown",
   "metadata": {},
   "source": [
    "## Conversion Analysis\n",
    "* Objective: Analyze user actions to provide insights for conversion rate optimization"
   ]
  },
  {
   "cell_type": "code",
   "execution_count": 37,
   "metadata": {},
   "outputs": [
    {
     "data": {
      "text/html": [
       "<div>\n",
       "<style scoped>\n",
       "    .dataframe tbody tr th:only-of-type {\n",
       "        vertical-align: middle;\n",
       "    }\n",
       "\n",
       "    .dataframe tbody tr th {\n",
       "        vertical-align: top;\n",
       "    }\n",
       "\n",
       "    .dataframe thead th {\n",
       "        text-align: right;\n",
       "    }\n",
       "</style>\n",
       "<table border=\"1\" class=\"dataframe\">\n",
       "  <thead>\n",
       "    <tr style=\"text-align: right;\">\n",
       "      <th></th>\n",
       "      <th>action</th>\n",
       "      <th>users</th>\n",
       "    </tr>\n",
       "  </thead>\n",
       "  <tbody>\n",
       "    <tr>\n",
       "      <th>0</th>\n",
       "      <td>Visit Site</td>\n",
       "      <td>241169</td>\n",
       "    </tr>\n",
       "    <tr>\n",
       "      <th>1</th>\n",
       "      <td>Click Through of Product Lists</td>\n",
       "      <td>26247</td>\n",
       "    </tr>\n",
       "    <tr>\n",
       "      <th>2</th>\n",
       "      <td>Product Detail Views</td>\n",
       "      <td>26199</td>\n",
       "    </tr>\n",
       "    <tr>\n",
       "      <th>3</th>\n",
       "      <td>Add To Cart</td>\n",
       "      <td>10281</td>\n",
       "    </tr>\n",
       "    <tr>\n",
       "      <th>4</th>\n",
       "      <td>Check out</td>\n",
       "      <td>5109</td>\n",
       "    </tr>\n",
       "  </tbody>\n",
       "</table>\n",
       "</div>"
      ],
      "text/plain": [
       "                           action   users\n",
       "0                      Visit Site  241169\n",
       "1  Click Through of Product Lists   26247\n",
       "2            Product Detail Views   26199\n",
       "3                     Add To Cart   10281\n",
       "4                       Check out    5109"
      ]
     },
     "execution_count": 37,
     "metadata": {},
     "output_type": "execute_result"
    }
   ],
   "source": [
    "query = \"\"\"\n",
    "    SELECT\n",
    "        'Visit Site' AS action,\n",
    "        COUNT(DISTINCT fullVisitorId) AS users\n",
    "    FROM \n",
    "        `bigquery-public-data.google_analytics_sample.ga_sessions_*`,\n",
    "        UNNEST(hits) AS hits\n",
    "    WHERE\n",
    "        _TABLE_SUFFIX BETWEEN '20161001' AND '20161231'\n",
    "    UNION ALL\n",
    "        SELECT \n",
    "            CASE\n",
    "                WHEN hits.eCommerceAction.action_type = '1' THEN 'Click Through of Product Lists'\n",
    "                WHEN hits.eCommerceAction.action_type = '2' THEN 'Product Detail Views'\n",
    "                WHEN hits.eCommerceAction.action_type = '3' THEN 'Add To Cart'\n",
    "                WHEN hits.eCommerceAction.action_type = '5' THEN 'Check out'\n",
    "                WHEN hits.eCommerceAction.action_type = '6' THEN 'Completed purchase'\n",
    "            END AS action,\n",
    "            COUNT(DISTINCT fullVisitorId) AS users,\n",
    "        FROM \n",
    "            `bigquery-public-data.google_analytics_sample.ga_sessions_*`,\n",
    "            UNNEST(hits) AS hits\n",
    "        WHERE\n",
    "            _TABLE_SUFFIX BETWEEN '20161001' AND '20161231'\n",
    "        AND\n",
    "            hits.eCommerceAction.action_type NOT IN('0', '4', '7', '8')\n",
    "    GROUP BY \n",
    "        action\n",
    "    ORDER BY \n",
    "        users DESC\n",
    "\"\"\"\n",
    "\n",
    "result = client.query(query)\n",
    "df = result.to_dataframe()\n",
    "df.head()"
   ]
  },
  {
   "cell_type": "code",
   "execution_count": 38,
   "metadata": {},
   "outputs": [],
   "source": [
    "#calculate drop off percentages\n",
    "df[\"drop_off_perc\"] = df[\"users\"].pct_change().round(3)\n",
    "df[\"drop_off_perc\"] = df[\"drop_off_perc\"]*100"
   ]
  },
  {
   "cell_type": "code",
   "execution_count": 39,
   "metadata": {},
   "outputs": [
    {
     "data": {
      "application/vnd.plotly.v1+json": {
       "config": {
        "plotlyServerURL": "https://plot.ly"
       },
       "data": [
        {
         "customdata": [
          [
           null
          ],
          [
           -89.1
          ],
          [
           -0.2
          ],
          [
           -60.8
          ],
          [
           -50.3
          ],
          [
           -43.7
          ]
         ],
         "hovertemplate": "users=%{x}<br>action=%{y}<br>drop_off_perc=%{customdata[0]}<extra></extra>",
         "legendgroup": "",
         "marker": {
          "color": "#636efa"
         },
         "name": "",
         "orientation": "h",
         "showlegend": false,
         "type": "funnel",
         "x": [
          241169,
          26247,
          26199,
          10281,
          5109,
          2877
         ],
         "xaxis": "x",
         "y": [
          "Visit Site",
          "Click Through of Product Lists",
          "Product Detail Views",
          "Add To Cart",
          "Check out",
          "Completed purchase"
         ],
         "yaxis": "y"
        }
       ],
       "layout": {
        "legend": {
         "tracegroupgap": 0
        },
        "margin": {
         "t": 60
        },
        "template": {
         "data": {
          "bar": [
           {
            "error_x": {
             "color": "#2a3f5f"
            },
            "error_y": {
             "color": "#2a3f5f"
            },
            "marker": {
             "line": {
              "color": "#E5ECF6",
              "width": 0.5
             },
             "pattern": {
              "fillmode": "overlay",
              "size": 10,
              "solidity": 0.2
             }
            },
            "type": "bar"
           }
          ],
          "barpolar": [
           {
            "marker": {
             "line": {
              "color": "#E5ECF6",
              "width": 0.5
             },
             "pattern": {
              "fillmode": "overlay",
              "size": 10,
              "solidity": 0.2
             }
            },
            "type": "barpolar"
           }
          ],
          "carpet": [
           {
            "aaxis": {
             "endlinecolor": "#2a3f5f",
             "gridcolor": "white",
             "linecolor": "white",
             "minorgridcolor": "white",
             "startlinecolor": "#2a3f5f"
            },
            "baxis": {
             "endlinecolor": "#2a3f5f",
             "gridcolor": "white",
             "linecolor": "white",
             "minorgridcolor": "white",
             "startlinecolor": "#2a3f5f"
            },
            "type": "carpet"
           }
          ],
          "choropleth": [
           {
            "colorbar": {
             "outlinewidth": 0,
             "ticks": ""
            },
            "type": "choropleth"
           }
          ],
          "contour": [
           {
            "colorbar": {
             "outlinewidth": 0,
             "ticks": ""
            },
            "colorscale": [
             [
              0,
              "#0d0887"
             ],
             [
              0.1111111111111111,
              "#46039f"
             ],
             [
              0.2222222222222222,
              "#7201a8"
             ],
             [
              0.3333333333333333,
              "#9c179e"
             ],
             [
              0.4444444444444444,
              "#bd3786"
             ],
             [
              0.5555555555555556,
              "#d8576b"
             ],
             [
              0.6666666666666666,
              "#ed7953"
             ],
             [
              0.7777777777777778,
              "#fb9f3a"
             ],
             [
              0.8888888888888888,
              "#fdca26"
             ],
             [
              1,
              "#f0f921"
             ]
            ],
            "type": "contour"
           }
          ],
          "contourcarpet": [
           {
            "colorbar": {
             "outlinewidth": 0,
             "ticks": ""
            },
            "type": "contourcarpet"
           }
          ],
          "heatmap": [
           {
            "colorbar": {
             "outlinewidth": 0,
             "ticks": ""
            },
            "colorscale": [
             [
              0,
              "#0d0887"
             ],
             [
              0.1111111111111111,
              "#46039f"
             ],
             [
              0.2222222222222222,
              "#7201a8"
             ],
             [
              0.3333333333333333,
              "#9c179e"
             ],
             [
              0.4444444444444444,
              "#bd3786"
             ],
             [
              0.5555555555555556,
              "#d8576b"
             ],
             [
              0.6666666666666666,
              "#ed7953"
             ],
             [
              0.7777777777777778,
              "#fb9f3a"
             ],
             [
              0.8888888888888888,
              "#fdca26"
             ],
             [
              1,
              "#f0f921"
             ]
            ],
            "type": "heatmap"
           }
          ],
          "heatmapgl": [
           {
            "colorbar": {
             "outlinewidth": 0,
             "ticks": ""
            },
            "colorscale": [
             [
              0,
              "#0d0887"
             ],
             [
              0.1111111111111111,
              "#46039f"
             ],
             [
              0.2222222222222222,
              "#7201a8"
             ],
             [
              0.3333333333333333,
              "#9c179e"
             ],
             [
              0.4444444444444444,
              "#bd3786"
             ],
             [
              0.5555555555555556,
              "#d8576b"
             ],
             [
              0.6666666666666666,
              "#ed7953"
             ],
             [
              0.7777777777777778,
              "#fb9f3a"
             ],
             [
              0.8888888888888888,
              "#fdca26"
             ],
             [
              1,
              "#f0f921"
             ]
            ],
            "type": "heatmapgl"
           }
          ],
          "histogram": [
           {
            "marker": {
             "pattern": {
              "fillmode": "overlay",
              "size": 10,
              "solidity": 0.2
             }
            },
            "type": "histogram"
           }
          ],
          "histogram2d": [
           {
            "colorbar": {
             "outlinewidth": 0,
             "ticks": ""
            },
            "colorscale": [
             [
              0,
              "#0d0887"
             ],
             [
              0.1111111111111111,
              "#46039f"
             ],
             [
              0.2222222222222222,
              "#7201a8"
             ],
             [
              0.3333333333333333,
              "#9c179e"
             ],
             [
              0.4444444444444444,
              "#bd3786"
             ],
             [
              0.5555555555555556,
              "#d8576b"
             ],
             [
              0.6666666666666666,
              "#ed7953"
             ],
             [
              0.7777777777777778,
              "#fb9f3a"
             ],
             [
              0.8888888888888888,
              "#fdca26"
             ],
             [
              1,
              "#f0f921"
             ]
            ],
            "type": "histogram2d"
           }
          ],
          "histogram2dcontour": [
           {
            "colorbar": {
             "outlinewidth": 0,
             "ticks": ""
            },
            "colorscale": [
             [
              0,
              "#0d0887"
             ],
             [
              0.1111111111111111,
              "#46039f"
             ],
             [
              0.2222222222222222,
              "#7201a8"
             ],
             [
              0.3333333333333333,
              "#9c179e"
             ],
             [
              0.4444444444444444,
              "#bd3786"
             ],
             [
              0.5555555555555556,
              "#d8576b"
             ],
             [
              0.6666666666666666,
              "#ed7953"
             ],
             [
              0.7777777777777778,
              "#fb9f3a"
             ],
             [
              0.8888888888888888,
              "#fdca26"
             ],
             [
              1,
              "#f0f921"
             ]
            ],
            "type": "histogram2dcontour"
           }
          ],
          "mesh3d": [
           {
            "colorbar": {
             "outlinewidth": 0,
             "ticks": ""
            },
            "type": "mesh3d"
           }
          ],
          "parcoords": [
           {
            "line": {
             "colorbar": {
              "outlinewidth": 0,
              "ticks": ""
             }
            },
            "type": "parcoords"
           }
          ],
          "pie": [
           {
            "automargin": true,
            "type": "pie"
           }
          ],
          "scatter": [
           {
            "fillpattern": {
             "fillmode": "overlay",
             "size": 10,
             "solidity": 0.2
            },
            "type": "scatter"
           }
          ],
          "scatter3d": [
           {
            "line": {
             "colorbar": {
              "outlinewidth": 0,
              "ticks": ""
             }
            },
            "marker": {
             "colorbar": {
              "outlinewidth": 0,
              "ticks": ""
             }
            },
            "type": "scatter3d"
           }
          ],
          "scattercarpet": [
           {
            "marker": {
             "colorbar": {
              "outlinewidth": 0,
              "ticks": ""
             }
            },
            "type": "scattercarpet"
           }
          ],
          "scattergeo": [
           {
            "marker": {
             "colorbar": {
              "outlinewidth": 0,
              "ticks": ""
             }
            },
            "type": "scattergeo"
           }
          ],
          "scattergl": [
           {
            "marker": {
             "colorbar": {
              "outlinewidth": 0,
              "ticks": ""
             }
            },
            "type": "scattergl"
           }
          ],
          "scattermapbox": [
           {
            "marker": {
             "colorbar": {
              "outlinewidth": 0,
              "ticks": ""
             }
            },
            "type": "scattermapbox"
           }
          ],
          "scatterpolar": [
           {
            "marker": {
             "colorbar": {
              "outlinewidth": 0,
              "ticks": ""
             }
            },
            "type": "scatterpolar"
           }
          ],
          "scatterpolargl": [
           {
            "marker": {
             "colorbar": {
              "outlinewidth": 0,
              "ticks": ""
             }
            },
            "type": "scatterpolargl"
           }
          ],
          "scatterternary": [
           {
            "marker": {
             "colorbar": {
              "outlinewidth": 0,
              "ticks": ""
             }
            },
            "type": "scatterternary"
           }
          ],
          "surface": [
           {
            "colorbar": {
             "outlinewidth": 0,
             "ticks": ""
            },
            "colorscale": [
             [
              0,
              "#0d0887"
             ],
             [
              0.1111111111111111,
              "#46039f"
             ],
             [
              0.2222222222222222,
              "#7201a8"
             ],
             [
              0.3333333333333333,
              "#9c179e"
             ],
             [
              0.4444444444444444,
              "#bd3786"
             ],
             [
              0.5555555555555556,
              "#d8576b"
             ],
             [
              0.6666666666666666,
              "#ed7953"
             ],
             [
              0.7777777777777778,
              "#fb9f3a"
             ],
             [
              0.8888888888888888,
              "#fdca26"
             ],
             [
              1,
              "#f0f921"
             ]
            ],
            "type": "surface"
           }
          ],
          "table": [
           {
            "cells": {
             "fill": {
              "color": "#EBF0F8"
             },
             "line": {
              "color": "white"
             }
            },
            "header": {
             "fill": {
              "color": "#C8D4E3"
             },
             "line": {
              "color": "white"
             }
            },
            "type": "table"
           }
          ]
         },
         "layout": {
          "annotationdefaults": {
           "arrowcolor": "#2a3f5f",
           "arrowhead": 0,
           "arrowwidth": 1
          },
          "autotypenumbers": "strict",
          "coloraxis": {
           "colorbar": {
            "outlinewidth": 0,
            "ticks": ""
           }
          },
          "colorscale": {
           "diverging": [
            [
             0,
             "#8e0152"
            ],
            [
             0.1,
             "#c51b7d"
            ],
            [
             0.2,
             "#de77ae"
            ],
            [
             0.3,
             "#f1b6da"
            ],
            [
             0.4,
             "#fde0ef"
            ],
            [
             0.5,
             "#f7f7f7"
            ],
            [
             0.6,
             "#e6f5d0"
            ],
            [
             0.7,
             "#b8e186"
            ],
            [
             0.8,
             "#7fbc41"
            ],
            [
             0.9,
             "#4d9221"
            ],
            [
             1,
             "#276419"
            ]
           ],
           "sequential": [
            [
             0,
             "#0d0887"
            ],
            [
             0.1111111111111111,
             "#46039f"
            ],
            [
             0.2222222222222222,
             "#7201a8"
            ],
            [
             0.3333333333333333,
             "#9c179e"
            ],
            [
             0.4444444444444444,
             "#bd3786"
            ],
            [
             0.5555555555555556,
             "#d8576b"
            ],
            [
             0.6666666666666666,
             "#ed7953"
            ],
            [
             0.7777777777777778,
             "#fb9f3a"
            ],
            [
             0.8888888888888888,
             "#fdca26"
            ],
            [
             1,
             "#f0f921"
            ]
           ],
           "sequentialminus": [
            [
             0,
             "#0d0887"
            ],
            [
             0.1111111111111111,
             "#46039f"
            ],
            [
             0.2222222222222222,
             "#7201a8"
            ],
            [
             0.3333333333333333,
             "#9c179e"
            ],
            [
             0.4444444444444444,
             "#bd3786"
            ],
            [
             0.5555555555555556,
             "#d8576b"
            ],
            [
             0.6666666666666666,
             "#ed7953"
            ],
            [
             0.7777777777777778,
             "#fb9f3a"
            ],
            [
             0.8888888888888888,
             "#fdca26"
            ],
            [
             1,
             "#f0f921"
            ]
           ]
          },
          "colorway": [
           "#636efa",
           "#EF553B",
           "#00cc96",
           "#ab63fa",
           "#FFA15A",
           "#19d3f3",
           "#FF6692",
           "#B6E880",
           "#FF97FF",
           "#FECB52"
          ],
          "font": {
           "color": "#2a3f5f"
          },
          "geo": {
           "bgcolor": "white",
           "lakecolor": "white",
           "landcolor": "#E5ECF6",
           "showlakes": true,
           "showland": true,
           "subunitcolor": "white"
          },
          "hoverlabel": {
           "align": "left"
          },
          "hovermode": "closest",
          "mapbox": {
           "style": "light"
          },
          "paper_bgcolor": "white",
          "plot_bgcolor": "#E5ECF6",
          "polar": {
           "angularaxis": {
            "gridcolor": "white",
            "linecolor": "white",
            "ticks": ""
           },
           "bgcolor": "#E5ECF6",
           "radialaxis": {
            "gridcolor": "white",
            "linecolor": "white",
            "ticks": ""
           }
          },
          "scene": {
           "xaxis": {
            "backgroundcolor": "#E5ECF6",
            "gridcolor": "white",
            "gridwidth": 2,
            "linecolor": "white",
            "showbackground": true,
            "ticks": "",
            "zerolinecolor": "white"
           },
           "yaxis": {
            "backgroundcolor": "#E5ECF6",
            "gridcolor": "white",
            "gridwidth": 2,
            "linecolor": "white",
            "showbackground": true,
            "ticks": "",
            "zerolinecolor": "white"
           },
           "zaxis": {
            "backgroundcolor": "#E5ECF6",
            "gridcolor": "white",
            "gridwidth": 2,
            "linecolor": "white",
            "showbackground": true,
            "ticks": "",
            "zerolinecolor": "white"
           }
          },
          "shapedefaults": {
           "line": {
            "color": "#2a3f5f"
           }
          },
          "ternary": {
           "aaxis": {
            "gridcolor": "white",
            "linecolor": "white",
            "ticks": ""
           },
           "baxis": {
            "gridcolor": "white",
            "linecolor": "white",
            "ticks": ""
           },
           "bgcolor": "#E5ECF6",
           "caxis": {
            "gridcolor": "white",
            "linecolor": "white",
            "ticks": ""
           }
          },
          "title": {
           "x": 0.05
          },
          "xaxis": {
           "automargin": true,
           "gridcolor": "white",
           "linecolor": "white",
           "ticks": "",
           "title": {
            "standoff": 15
           },
           "zerolinecolor": "white",
           "zerolinewidth": 2
          },
          "yaxis": {
           "automargin": true,
           "gridcolor": "white",
           "linecolor": "white",
           "ticks": "",
           "title": {
            "standoff": 15
           },
           "zerolinecolor": "white",
           "zerolinewidth": 2
          }
         }
        },
        "xaxis": {
         "anchor": "y",
         "domain": [
          0,
          1
         ],
         "title": {
          "text": "users"
         }
        },
        "yaxis": {
         "anchor": "x",
         "domain": [
          0,
          1
         ],
         "title": {
          "text": "action"
         }
        }
       }
      }
     },
     "metadata": {},
     "output_type": "display_data"
    }
   ],
   "source": [
    "fig = px.funnel(df, x='users', y='action', hover_data='drop_off_perc')\n",
    "fig.show()"
   ]
  },
  {
   "cell_type": "code",
   "execution_count": 41,
   "metadata": {},
   "outputs": [
    {
     "name": "stdout",
     "output_type": "stream",
     "text": [
      "Cart Abandonment Rate:  72.01634082287715\n"
     ]
    }
   ],
   "source": [
    "#cart abandonment rate\n",
    "atc = df.iloc[3][\"users\"]\n",
    "purch = df.iloc[5][\"users\"]\n",
    "car = (atc-purch)/atc * 100\n",
    "print(\"Cart Abandonment Rate: \", car)"
   ]
  },
  {
   "cell_type": "markdown",
   "metadata": {},
   "source": [
    "The largest drop-off occured between \"Visit Site\" and \"Click Through of Product Lists\" (~89%). This further supports recommendations for improvements in entry pages with more engaging content, improved calls to action, improved site navigation, and addressing any latency or visual issues.\n",
    "\n",
    "The second significant drop-off occured between \"Product Detail Views\" and \"Add To Cart\" (~61%). This is expected behavior, but there's still room for improvement in encouraging users to add products to their cart. Improved product descriptions, calls to action, and user reviews could reduce this drop-off.\n",
    "\n",
    "The \"Add to Cart\" to \"Check Out\" (~50%) and \"Check Out\" to \"Completed Purchase\" (~44%) stages also show significant drop-offs. These drop-offs could be affected by friction in the checkout process such as unexpected shipping costs,  and insufficient payment options. The Cart Abandonment Rate of ~72% is about [average](https://baymard.com/lists/cart-abandonment-rate), signifying that while checkout friction should be addressed, it is not a top priority."
   ]
  },
  {
   "cell_type": "markdown",
   "metadata": {},
   "source": [
    "## Summary of Insights and Recommendations\n",
    "Regions\n",
    "* High performing region: USA\n",
    "* Regions to target for user acquistion: Canada, Puerto Rico\n",
    "* Regions to consider market and user research: SEA, India\n",
    "\n",
    "Devices\n",
    "* Review conversion path and payment experience on mobile and tablet devices\n",
    "* Value in targeting Google Chrome browser users\n",
    "\n",
    "Engagements\n",
    "* Review Youtube brand store page and products\n",
    "* Improve conversion rate through optimized engagement on home and store pages\n",
    "\t* More engaging content, improved site navigation, calls to action, and optimized conversion pathways\n",
    "* Employ marketing strategies to drive repeat visits (retargeting ads)\n",
    "\n",
    "Traffic Channels\n",
    "* Increase focus on referral channel by strengthening partnerships\n",
    "* Reevaluate Social and Affiliates strategies to improve targeting and content relevance\n",
    "\n",
    "Site Performance\n",
    "* Improve page load times to drive more engagement and conversions\n",
    "\n",
    "Conversion Funnel\n",
    "* Improve product descriptions, calls to action, and user reviews on product pages\n",
    "* Optimize checkout process to reduce friction"
   ]
  },
  {
   "cell_type": "markdown",
   "metadata": {},
   "source": []
  }
 ],
 "metadata": {
  "kernelspec": {
   "display_name": "Python 3",
   "language": "python",
   "name": "python3"
  },
  "language_info": {
   "codemirror_mode": {
    "name": "ipython",
    "version": 3
   },
   "file_extension": ".py",
   "mimetype": "text/x-python",
   "name": "python",
   "nbconvert_exporter": "python",
   "pygments_lexer": "ipython3",
   "version": "3.11.2"
  },
  "orig_nbformat": 4
 },
 "nbformat": 4,
 "nbformat_minor": 2
}
